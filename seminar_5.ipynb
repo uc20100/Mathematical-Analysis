{
 "cells": [
  {
   "cell_type": "markdown",
   "id": "3cfe7412-c0d1-439d-9b6c-a6f4587bea83",
   "metadata": {},
   "source": [
    "# ДЗ по 'Введение в математический анализ'\n",
    "### Урок 5. Предел функции. Часть 2"
   ]
  },
  {
   "cell_type": "markdown",
   "id": "b39150e5-6875-402b-903e-a2c75745aff2",
   "metadata": {},
   "source": [
    "## Найти пределы"
   ]
  },
  {
   "cell_type": "markdown",
   "id": "571f9fd7-7494-46c7-bc53-7aae0df6e863",
   "metadata": {},
   "source": [
    "1  $\\lim\\limits_{x\\to \\infty} \\left[ ln(x+3) - ln x \\right]$"
   ]
  },
  {
   "cell_type": "code",
   "execution_count": null,
   "id": "9cc32b13-a59d-47ab-8a7d-665f0cc45a0d",
   "metadata": {},
   "outputs": [],
   "source": []
  }
 ],
 "metadata": {
  "kernelspec": {
   "display_name": "Python 3 (ipykernel)",
   "language": "python",
   "name": "python3"
  },
  "language_info": {
   "codemirror_mode": {
    "name": "ipython",
    "version": 3
   },
   "file_extension": ".py",
   "mimetype": "text/x-python",
   "name": "python",
   "nbconvert_exporter": "python",
   "pygments_lexer": "ipython3",
   "version": "3.12.4"
  }
 },
 "nbformat": 4,
 "nbformat_minor": 5
}
