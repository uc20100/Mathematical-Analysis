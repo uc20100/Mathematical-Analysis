{
 "cells": [
  {
   "cell_type": "markdown",
   "id": "3cfe7412-c0d1-439d-9b6c-a6f4587bea83",
   "metadata": {},
   "source": [
    "# ДЗ по 'Введение в математический анализ'\n",
    "### Урок 5. Предел функции. Часть 2"
   ]
  },
  {
   "cell_type": "code",
   "execution_count": 3,
   "id": "a195ece6-6ff5-4b0c-8137-fc99e471cbda",
   "metadata": {},
   "outputs": [],
   "source": [
    "# Устанавливаем библиотеки, если они не установлены\n",
    "# !pip install sympy"
   ]
  },
  {
   "cell_type": "code",
   "execution_count": 1,
   "id": "adec7d85-85f3-460f-9cb4-7c15e84929b1",
   "metadata": {},
   "outputs": [],
   "source": [
    "# Подключаем необходимые библиотеки\n",
    "import sympy as sym"
   ]
  },
  {
   "cell_type": "markdown",
   "id": "7f6897ca-e1d7-4905-a6d9-7ca969e79641",
   "metadata": {},
   "source": [
    "[Библиотека Sympy: символьные вычисления в Python](https://pythonist.ru/biblioteka-sympy-simvolnye-vychisleniya-v-python/)"
   ]
  },
  {
   "cell_type": "markdown",
   "id": "b39150e5-6875-402b-903e-a2c75745aff2",
   "metadata": {},
   "source": [
    "## Найти пределы\n",
    "\n",
    "[Википедия:Примеры оформления формул](https://ru.wikipedia.org/wiki/%D0%92%D0%B8%D0%BA%D0%B8%D0%BF%D0%B5%D0%B4%D0%B8%D1%8F:%D0%9F%D1%80%D0%B8%D0%BC%D0%B5%D1%80%D1%8B_%D0%BE%D1%84%D0%BE%D1%80%D0%BC%D0%BB%D0%B5%D0%BD%D0%B8%D1%8F_%D1%84%D0%BE%D1%80%D0%BC%D1%83%D0%BB)  \n",
    "[Специальные символы LaTeX](https://devhops.ru/latex/symbols/)"
   ]
  },
  {
   "cell_type": "markdown",
   "id": "571f9fd7-7494-46c7-bc53-7aae0df6e863",
   "metadata": {},
   "source": [
    "### Задача 1\n",
    "### $\\lim\\limits_{x\\to \\infty} \\left[ ln(x+3) - ln x \\right]$"
   ]
  },
  {
   "cell_type": "code",
   "execution_count": 3,
   "id": "b309ca21-dcb9-4759-9ed1-4792a0b9b28e",
   "metadata": {},
   "outputs": [
    {
     "name": "stdout",
     "output_type": "stream",
     "text": [
      "Предел функции равен: 0\n"
     ]
    }
   ],
   "source": [
    "# Задаём символьную переменную\n",
    "x = sym.symbols('x')\n",
    "# Задаём функцию\n",
    "func = sym.ln(x + 3) - sym.ln(x)\n",
    "# Вычисляем предел \n",
    "print(f'Предел функции равен: {sym.limit(func, x, sym.oo)}')"
   ]
  },
  {
   "cell_type": "markdown",
   "id": "0d56b950-6161-4865-959c-559410ec874a",
   "metadata": {},
   "source": [
    "### Задача 2\n",
    "### $\\lim\\limits_{x\\to 0}  \\frac{ln(1 + 2x)}{arcsin 3x}$"
   ]
  },
  {
   "cell_type": "code",
   "execution_count": 9,
   "id": "8018260b-65e1-4e70-a04f-14ed5f8cee32",
   "metadata": {},
   "outputs": [
    {
     "name": "stdout",
     "output_type": "stream",
     "text": [
      "Предел функции равен: 2/3\n"
     ]
    }
   ],
   "source": [
    "# Задаём функцию\n",
    "func = sym.ln(1 + 2*x) / sym.asin(3*x)\n",
    "# Вычисляем предел \n",
    "print(f'Предел функции равен: {sym.limit(func, x, 0)}')"
   ]
  },
  {
   "cell_type": "markdown",
   "id": "54820faa-3c4d-4be8-9217-0b3bb5aadd3e",
   "metadata": {},
   "source": [
    "### Задача 3\n",
    "### $\\lim\\limits_{x\\to 0}  \\frac{7^x - 1}{3^x - 1}$"
   ]
  },
  {
   "cell_type": "code",
   "execution_count": 10,
   "id": "c87181b7-d230-4130-bdf6-c322404db33d",
   "metadata": {},
   "outputs": [
    {
     "name": "stdout",
     "output_type": "stream",
     "text": [
      "Предел функции равен: log(7)/log(3)\n"
     ]
    }
   ],
   "source": [
    "# Задаём функцию\n",
    "func = (7**x - 1) / (3**x - 1)\n",
    "# Вычисляем предел \n",
    "print(f'Предел функции равен: {sym.limit(func, x, 0)}')"
   ]
  },
  {
   "cell_type": "markdown",
   "id": "c3dfd88d-a4ba-49a1-b95b-21eeb9fb51b4",
   "metadata": {},
   "source": [
    "### Задача 4\n",
    "### $\\lim\\limits_{a\\to 0}  \\frac{(x + a)^3 - x^3}{a}$"
   ]
  },
  {
   "cell_type": "code",
   "execution_count": 11,
   "id": "90a2c832-e0fe-411f-9c2c-c8aeaa0dc7c6",
   "metadata": {},
   "outputs": [
    {
     "name": "stdout",
     "output_type": "stream",
     "text": [
      "Предел функции равен: 3*x**2\n"
     ]
    }
   ],
   "source": [
    "# Задаём символьную переменную\n",
    "a = sym.symbols('a')\n",
    "# Задаём функцию\n",
    "func = ((x + a)**3 - x**3) / a\n",
    "# Вычисляем предел \n",
    "print(f'Предел функции равен: {sym.limit(func, a, 0)}')"
   ]
  },
  {
   "cell_type": "markdown",
   "id": "9855bdec-1a8d-4ac7-8c1d-7e782a8d6786",
   "metadata": {},
   "source": [
    "### Задача 5\n",
    "### $\\lim\\limits_{x\\to \\infty}  \\left( \\frac{x^3}{5x^2 + 1} - \\frac{x^2}{5x - 3}\\right)$"
   ]
  },
  {
   "cell_type": "code",
   "execution_count": 13,
   "id": "9bf98a5b-0120-496a-9304-68f7e8ab0dc9",
   "metadata": {},
   "outputs": [
    {
     "name": "stdout",
     "output_type": "stream",
     "text": [
      "Предел функции равен: -3/25\n"
     ]
    }
   ],
   "source": [
    "# Задаём функцию\n",
    "func = x**3 / (5*x**2 + 1) - x**2 / (5*x - 3)\n",
    "# Вычисляем предел \n",
    "print(f'Предел функции равен: {sym.limit(func, x, sym.oo)}')"
   ]
  },
  {
   "cell_type": "markdown",
   "id": "75e8096a-15b7-49c0-85ac-da4da6b8924c",
   "metadata": {},
   "source": [
    "### Задача 6\n",
    "### $\\lim\\limits_{x\\to 0}  \\frac{1 - cos 4x}{2x \\cdot tg2x}$"
   ]
  },
  {
   "cell_type": "code",
   "execution_count": 14,
   "id": "478ab100-e6a9-42f4-904d-a8b22834728c",
   "metadata": {},
   "outputs": [
    {
     "name": "stdout",
     "output_type": "stream",
     "text": [
      "Предел функции равен: 2\n"
     ]
    }
   ],
   "source": [
    "# Задаём функцию\n",
    "func = (1 - sym.cos(4*x)) / (2*x * sym.tan(2*x))\n",
    "# Вычисляем предел \n",
    "print(f'Предел функции равен: {sym.limit(func, x, 0)}')"
   ]
  },
  {
   "cell_type": "markdown",
   "id": "bd7cd6d1-c4b5-4ec1-8616-d40e1aac3694",
   "metadata": {},
   "source": [
    "### Задача 7\n",
    "### $\\lim\\limits_{x\\to \\infty} x \\cdot sin \\left( \\frac{2}{x}\\right)$"
   ]
  },
  {
   "cell_type": "code",
   "execution_count": 15,
   "id": "ff17647c-9fb6-4e6f-80fd-f93ccdfa20dc",
   "metadata": {},
   "outputs": [
    {
     "name": "stdout",
     "output_type": "stream",
     "text": [
      "Предел функции равен: 2\n"
     ]
    }
   ],
   "source": [
    "# Задаём функцию\n",
    "func = x * sym.sin(2/x)\n",
    "# Вычисляем предел \n",
    "print(f'Предел функции равен: {sym.limit(func, x, sym.oo)}')"
   ]
  },
  {
   "cell_type": "markdown",
   "id": "fddeb86f-96f0-484b-a65b-deb4a1e14d34",
   "metadata": {},
   "source": [
    "### Задача 8\n",
    "### $\\lim\\limits_{x\\to 0} \\left( 1 + tgx\\right)^{ctgx}$"
   ]
  },
  {
   "cell_type": "code",
   "execution_count": 17,
   "id": "2adbcf32-b9a5-42e7-8974-71ab73bfd52f",
   "metadata": {},
   "outputs": [
    {
     "name": "stdout",
     "output_type": "stream",
     "text": [
      "Предел функции равен: E\n"
     ]
    }
   ],
   "source": [
    "# Задаём функцию\n",
    "func = (1 + sym.tan(x)) ** sym.cot(x)\n",
    "# Вычисляем предел \n",
    "print(f'Предел функции равен: {sym.limit(func, x, 0)}')"
   ]
  },
  {
   "cell_type": "markdown",
   "id": "df8e4dcc-0b9b-44f0-9e73-1fde9a4f48bd",
   "metadata": {},
   "source": [
    "### Задача 9\n",
    "### $\\lim\\limits_{x\\to 0} \\left(cos2x\\right)^{\\frac{1}{sin2x}}$"
   ]
  },
  {
   "cell_type": "code",
   "execution_count": 18,
   "id": "61e011b3-391a-4139-a5f9-fb2e06f24ad6",
   "metadata": {},
   "outputs": [
    {
     "name": "stdout",
     "output_type": "stream",
     "text": [
      "Предел функции равен: 1\n"
     ]
    }
   ],
   "source": [
    "# Задаём функцию\n",
    "func = (sym.cos(2*x)) ** (1/sym.sin(2*x))\n",
    "# Вычисляем предел \n",
    "print(f'Предел функции равен: {sym.limit(func, x, 0)}')"
   ]
  },
  {
   "cell_type": "markdown",
   "id": "abd017ac-9a67-4783-bb23-3a9c66a74671",
   "metadata": {},
   "source": [
    "### Задача 10\n",
    "### $\\lim\\limits_{x\\to 0} \\frac{\\sqrt{1+xsinx}-1}{x^2}$"
   ]
  },
  {
   "cell_type": "code",
   "execution_count": 19,
   "id": "e1129dc6-d9fe-4eec-b4bd-58902742496b",
   "metadata": {},
   "outputs": [
    {
     "name": "stdout",
     "output_type": "stream",
     "text": [
      "Предел функции равен: 1/2\n"
     ]
    }
   ],
   "source": [
    "# Задаём функцию\n",
    "func = (sym.sqrt(1 + x*sym.sin(x)) - 1) / x**2 \n",
    "# Вычисляем предел \n",
    "print(f'Предел функции равен: {sym.limit(func, x, 0)}')"
   ]
  },
  {
   "cell_type": "code",
   "execution_count": null,
   "id": "9c6d1642-51e8-42b8-932f-deff622ef0e9",
   "metadata": {},
   "outputs": [],
   "source": []
  }
 ],
 "metadata": {
  "kernelspec": {
   "display_name": "Python 3 (ipykernel)",
   "language": "python",
   "name": "python3"
  },
  "language_info": {
   "codemirror_mode": {
    "name": "ipython",
    "version": 3
   },
   "file_extension": ".py",
   "mimetype": "text/x-python",
   "name": "python",
   "nbconvert_exporter": "python",
   "pygments_lexer": "ipython3",
   "version": "3.12.4"
  }
 },
 "nbformat": 4,
 "nbformat_minor": 5
}
