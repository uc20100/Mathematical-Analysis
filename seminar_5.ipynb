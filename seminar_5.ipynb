{
 "cells": [
  {
   "cell_type": "markdown",
   "id": "3cfe7412-c0d1-439d-9b6c-a6f4587bea83",
   "metadata": {},
   "source": [
    "# ДЗ по 'Введение в математический анализ'\n",
    "### Урок 5. Предел функции. Часть 2"
   ]
  },
  {
   "cell_type": "code",
   "execution_count": 104,
   "id": "a195ece6-6ff5-4b0c-8137-fc99e471cbda",
   "metadata": {},
   "outputs": [],
   "source": [
    "# Устанавливаем библиотеки, если они не установлены\n",
    "# !pip install sympy"
   ]
  },
  {
   "cell_type": "code",
   "execution_count": 105,
   "id": "adec7d85-85f3-460f-9cb4-7c15e84929b1",
   "metadata": {},
   "outputs": [],
   "source": [
    "# Подключаем необходимые библиотеки\n",
    "import sympy as sym"
   ]
  },
  {
   "cell_type": "markdown",
   "id": "7f6897ca-e1d7-4905-a6d9-7ca969e79641",
   "metadata": {},
   "source": [
    "[Библиотека Sympy: символьные вычисления в Python](https://pythonist.ru/biblioteka-sympy-simvolnye-vychisleniya-v-python/)"
   ]
  },
  {
   "cell_type": "markdown",
   "id": "b39150e5-6875-402b-903e-a2c75745aff2",
   "metadata": {},
   "source": [
    "## Найти пределы\n",
    "\n",
    "[Википедия:Примеры оформления формул](https://ru.wikipedia.org/wiki/%D0%92%D0%B8%D0%BA%D0%B8%D0%BF%D0%B5%D0%B4%D0%B8%D1%8F:%D0%9F%D1%80%D0%B8%D0%BC%D0%B5%D1%80%D1%8B_%D0%BE%D1%84%D0%BE%D1%80%D0%BC%D0%BB%D0%B5%D0%BD%D0%B8%D1%8F_%D1%84%D0%BE%D1%80%D0%BC%D1%83%D0%BB)  \n",
    "[Специальные символы LaTeX](https://devhops.ru/latex/symbols/)  \n",
    "[latex Пробел (список команд) отступ в формуле - математический режим, пример, уменьшение пробела отступа](https://fkn.ktu10.com/?q=node/6813)"
   ]
  },
  {
   "cell_type": "markdown",
   "id": "571f9fd7-7494-46c7-bc53-7aae0df6e863",
   "metadata": {},
   "source": [
    "### Задача 1\n",
    "### $\\lim\\limits_{x\\to \\infty} \\left[ ln(x+3) - ln\\,x \\right]$"
   ]
  },
  {
   "cell_type": "code",
   "execution_count": 106,
   "id": "b309ca21-dcb9-4759-9ed1-4792a0b9b28e",
   "metadata": {},
   "outputs": [
    {
     "name": "stdout",
     "output_type": "stream",
     "text": [
      "Предел функции\n"
     ]
    },
    {
     "data": {
      "text/latex": [
       "$\\displaystyle 0$"
      ],
      "text/plain": [
       "0"
      ]
     },
     "execution_count": 106,
     "metadata": {},
     "output_type": "execute_result"
    }
   ],
   "source": [
    "# Задаём символьную переменную\n",
    "x = sym.symbols('x')\n",
    "# Задаём функцию\n",
    "func = sym.ln(x + 3) - sym.ln(x)\n",
    "# Вычисляем предел \n",
    "print('Предел функции')\n",
    "sym.limit(func, x, sym.oo)"
   ]
  },
  {
   "cell_type": "markdown",
   "id": "0d56b950-6161-4865-959c-559410ec874a",
   "metadata": {},
   "source": [
    "### Задача 2\n",
    "### $\\lim\\limits_{x\\to 0}  \\frac{ln(1 + 2x)}{arcsin\\,3x}$"
   ]
  },
  {
   "cell_type": "code",
   "execution_count": 107,
   "id": "8018260b-65e1-4e70-a04f-14ed5f8cee32",
   "metadata": {},
   "outputs": [
    {
     "name": "stdout",
     "output_type": "stream",
     "text": [
      "Предел функции\n"
     ]
    },
    {
     "data": {
      "text/latex": [
       "$\\displaystyle \\frac{2}{3}$"
      ],
      "text/plain": [
       "2/3"
      ]
     },
     "execution_count": 107,
     "metadata": {},
     "output_type": "execute_result"
    }
   ],
   "source": [
    "# Задаём функцию\n",
    "func = sym.ln(1 + 2*x) / sym.asin(3*x)\n",
    "# Вычисляем предел \n",
    "print('Предел функции')\n",
    "sym.limit(func, x, 0)"
   ]
  },
  {
   "cell_type": "markdown",
   "id": "54820faa-3c4d-4be8-9217-0b3bb5aadd3e",
   "metadata": {},
   "source": [
    "### Задача 3\n",
    "### $\\lim\\limits_{x\\to 0}  \\frac{7^x - 1}{3^x - 1}$"
   ]
  },
  {
   "cell_type": "code",
   "execution_count": 108,
   "id": "c87181b7-d230-4130-bdf6-c322404db33d",
   "metadata": {},
   "outputs": [
    {
     "name": "stdout",
     "output_type": "stream",
     "text": [
      "Предел функции\n"
     ]
    },
    {
     "data": {
      "text/latex": [
       "$\\displaystyle \\frac{\\log{\\left(7 \\right)}}{\\log{\\left(3 \\right)}}$"
      ],
      "text/plain": [
       "log(7)/log(3)"
      ]
     },
     "execution_count": 108,
     "metadata": {},
     "output_type": "execute_result"
    }
   ],
   "source": [
    "# Задаём функцию\n",
    "func = (7**x - 1) / (3**x - 1)\n",
    "# Вычисляем предел \n",
    "print('Предел функции')\n",
    "sym.limit(func, x, 0)"
   ]
  },
  {
   "cell_type": "markdown",
   "id": "c3dfd88d-a4ba-49a1-b95b-21eeb9fb51b4",
   "metadata": {},
   "source": [
    "### Задача 4\n",
    "### $\\lim\\limits_{a\\to 0}  \\frac{(x + a)^3 - x^3}{a}$"
   ]
  },
  {
   "cell_type": "code",
   "execution_count": 109,
   "id": "90a2c832-e0fe-411f-9c2c-c8aeaa0dc7c6",
   "metadata": {},
   "outputs": [
    {
     "name": "stdout",
     "output_type": "stream",
     "text": [
      "Предел функции\n"
     ]
    },
    {
     "data": {
      "text/latex": [
       "$\\displaystyle 3 x^{2}$"
      ],
      "text/plain": [
       "3*x**2"
      ]
     },
     "execution_count": 109,
     "metadata": {},
     "output_type": "execute_result"
    }
   ],
   "source": [
    "# Задаём символьную переменную\n",
    "a = sym.symbols('a')\n",
    "# Задаём функцию\n",
    "func = ((x + a)**3 - x**3) / a\n",
    "# Вычисляем предел \n",
    "print('Предел функции')\n",
    "sym.limit(func, a, 0)"
   ]
  },
  {
   "cell_type": "markdown",
   "id": "9855bdec-1a8d-4ac7-8c1d-7e782a8d6786",
   "metadata": {},
   "source": [
    "### Задача 5\n",
    "### $\\lim\\limits_{x\\to \\infty}  \\left( \\frac{x^3}{5x^2 + 1} - \\frac{x^2}{5x - 3}\\right)$"
   ]
  },
  {
   "cell_type": "code",
   "execution_count": 110,
   "id": "9bf98a5b-0120-496a-9304-68f7e8ab0dc9",
   "metadata": {},
   "outputs": [
    {
     "name": "stdout",
     "output_type": "stream",
     "text": [
      "Предел функции\n"
     ]
    },
    {
     "data": {
      "text/latex": [
       "$\\displaystyle - \\frac{3}{25}$"
      ],
      "text/plain": [
       "-3/25"
      ]
     },
     "execution_count": 110,
     "metadata": {},
     "output_type": "execute_result"
    }
   ],
   "source": [
    "# Задаём функцию\n",
    "func = x**3 / (5*x**2 + 1) - x**2 / (5*x - 3)\n",
    "# Вычисляем предел \n",
    "print('Предел функции')\n",
    "sym.limit(func, x, sym.oo)"
   ]
  },
  {
   "cell_type": "markdown",
   "id": "75e8096a-15b7-49c0-85ac-da4da6b8924c",
   "metadata": {},
   "source": [
    "### Задача 6\n",
    "### $\\lim\\limits_{x\\to 0}  \\frac{1 - cos\\,4x}{2x \\cdot tg\\,2x}$"
   ]
  },
  {
   "cell_type": "code",
   "execution_count": 111,
   "id": "478ab100-e6a9-42f4-904d-a8b22834728c",
   "metadata": {},
   "outputs": [
    {
     "name": "stdout",
     "output_type": "stream",
     "text": [
      "Предел функции\n"
     ]
    },
    {
     "data": {
      "text/latex": [
       "$\\displaystyle 2$"
      ],
      "text/plain": [
       "2"
      ]
     },
     "execution_count": 111,
     "metadata": {},
     "output_type": "execute_result"
    }
   ],
   "source": [
    "# Задаём функцию\n",
    "func = (1 - sym.cos(4*x)) / (2*x * sym.tan(2*x))\n",
    "# Вычисляем предел \n",
    "print('Предел функции')\n",
    "sym.limit(func, x, 0)"
   ]
  },
  {
   "cell_type": "markdown",
   "id": "bd7cd6d1-c4b5-4ec1-8616-d40e1aac3694",
   "metadata": {},
   "source": [
    "### Задача 7\n",
    "### $\\lim\\limits_{x\\to \\infty} x \\cdot sin \\left( \\frac{2}{x}\\right)$"
   ]
  },
  {
   "cell_type": "code",
   "execution_count": 112,
   "id": "ff17647c-9fb6-4e6f-80fd-f93ccdfa20dc",
   "metadata": {},
   "outputs": [
    {
     "name": "stdout",
     "output_type": "stream",
     "text": [
      "Предел функции\n"
     ]
    },
    {
     "data": {
      "text/latex": [
       "$\\displaystyle 2$"
      ],
      "text/plain": [
       "2"
      ]
     },
     "execution_count": 112,
     "metadata": {},
     "output_type": "execute_result"
    }
   ],
   "source": [
    "# Задаём функцию\n",
    "func = x * sym.sin(2/x)\n",
    "# Вычисляем предел \n",
    "print('Предел функции')\n",
    "sym.limit(func, x, sym.oo)"
   ]
  },
  {
   "cell_type": "markdown",
   "id": "fddeb86f-96f0-484b-a65b-deb4a1e14d34",
   "metadata": {},
   "source": [
    "### Задача 8\n",
    "### $\\lim\\limits_{x\\to 0} \\left( 1 + tg\\,x\\right)^{ctg\\,x}$"
   ]
  },
  {
   "cell_type": "code",
   "execution_count": 113,
   "id": "2adbcf32-b9a5-42e7-8974-71ab73bfd52f",
   "metadata": {},
   "outputs": [
    {
     "name": "stdout",
     "output_type": "stream",
     "text": [
      "Предел функции\n"
     ]
    },
    {
     "data": {
      "text/latex": [
       "$\\displaystyle e$"
      ],
      "text/plain": [
       "E"
      ]
     },
     "execution_count": 113,
     "metadata": {},
     "output_type": "execute_result"
    }
   ],
   "source": [
    "# Задаём функцию\n",
    "func = (1 + sym.tan(x)) ** sym.cot(x)\n",
    "# Вычисляем предел \n",
    "print('Предел функции')\n",
    "sym.limit(func, x, 0)"
   ]
  },
  {
   "cell_type": "markdown",
   "id": "df8e4dcc-0b9b-44f0-9e73-1fde9a4f48bd",
   "metadata": {},
   "source": [
    "### Задача 9\n",
    "### $\\lim\\limits_{x\\to 0} \\left(cos\\,2x\\right)^{\\frac{1}{sin^2\\,x}}$"
   ]
  },
  {
   "cell_type": "code",
   "execution_count": 114,
   "id": "61e011b3-391a-4139-a5f9-fb2e06f24ad6",
   "metadata": {},
   "outputs": [
    {
     "name": "stdout",
     "output_type": "stream",
     "text": [
      "Предел функции\n"
     ]
    },
    {
     "data": {
      "text/latex": [
       "$\\displaystyle e^{-2}$"
      ],
      "text/plain": [
       "exp(-2)"
      ]
     },
     "execution_count": 114,
     "metadata": {},
     "output_type": "execute_result"
    }
   ],
   "source": [
    "# Задаём функцию\n",
    "func = (sym.cos(2*x)) ** (1/(sym.sin(x)**2))\n",
    "# Вычисляем предел \n",
    "print('Предел функции')\n",
    "sym.limit(func, x, 0)"
   ]
  },
  {
   "cell_type": "markdown",
   "id": "abd017ac-9a67-4783-bb23-3a9c66a74671",
   "metadata": {},
   "source": [
    "### Задача 10\n",
    "### $\\lim\\limits_{x\\to 0} \\frac{\\sqrt{1+x\\,sin\\,x}-1}{x^2}$"
   ]
  },
  {
   "cell_type": "code",
   "execution_count": 115,
   "id": "e1129dc6-d9fe-4eec-b4bd-58902742496b",
   "metadata": {},
   "outputs": [
    {
     "name": "stdout",
     "output_type": "stream",
     "text": [
      "Предел функции\n"
     ]
    },
    {
     "data": {
      "text/latex": [
       "$\\displaystyle \\frac{1}{2}$"
      ],
      "text/plain": [
       "1/2"
      ]
     },
     "execution_count": 115,
     "metadata": {},
     "output_type": "execute_result"
    }
   ],
   "source": [
    "# Задаём функцию\n",
    "func = (sym.sqrt(1 + x*sym.sin(x)) - 1) / x**2 \n",
    "# Вычисляем предел \n",
    "print('Предел функции')\n",
    "sym.limit(func, x, 0)"
   ]
  },
  {
   "cell_type": "markdown",
   "id": "545a6686-e71c-4b32-b562-801f7f6251b5",
   "metadata": {},
   "source": [
    "## Установить характер разрыва в точке $x_0$\n",
    "\n",
    "[SymPy](https://docs.sympy.org/latest/tutorials/intro-tutorial/calculus.html)"
   ]
  },
  {
   "cell_type": "markdown",
   "id": "be64cd6d-0772-4388-9b2b-f73e23c317bd",
   "metadata": {},
   "source": [
    "### Задача 1\n",
    "### $f(x) = \\frac{x^2 - 16}{x + 4},\\quad x_0 = -4$"
   ]
  },
  {
   "cell_type": "code",
   "execution_count": 116,
   "id": "979d6351-0e21-48d4-abe5-88233cfafa6c",
   "metadata": {},
   "outputs": [
    {
     "name": "stdout",
     "output_type": "stream",
     "text": [
      "Предел функции слева\n"
     ]
    },
    {
     "data": {
      "text/latex": [
       "$\\displaystyle -8$"
      ],
      "text/plain": [
       "-8"
      ]
     },
     "execution_count": 116,
     "metadata": {},
     "output_type": "execute_result"
    }
   ],
   "source": [
    "# Задаём функцию\n",
    "func = (x**2 - 16) / (x + 4) \n",
    "# Вычисляем предел \n",
    "print('Предел функции слева')\n",
    "sym.limit(func, x, -4, '-')"
   ]
  },
  {
   "cell_type": "code",
   "execution_count": 117,
   "id": "7d3f091a-5426-46df-b889-c86025f41fa9",
   "metadata": {},
   "outputs": [
    {
     "name": "stdout",
     "output_type": "stream",
     "text": [
      "Предел функции справа\n"
     ]
    },
    {
     "data": {
      "text/latex": [
       "$\\displaystyle -8$"
      ],
      "text/plain": [
       "-8"
      ]
     },
     "execution_count": 117,
     "metadata": {},
     "output_type": "execute_result"
    }
   ],
   "source": [
    "# Вычисляем предел \n",
    "print('Предел функции справа')\n",
    "sym.limit(func, x, -4, '+')"
   ]
  },
  {
   "cell_type": "markdown",
   "id": "dd393472-39b2-473c-a2d5-43fbf313d54e",
   "metadata": {},
   "source": [
    "Пределы слева и справа равны, но функция в этой точке не существует, значит это `точка устранимого разрыва`"
   ]
  },
  {
   "cell_type": "markdown",
   "id": "215739eb-f197-4fa4-8d4b-811f182c2737",
   "metadata": {},
   "source": [
    "### Задача 2\n",
    "### $f(x) = \\frac{sin\\,x}{x},\\quad x_0 = 0$"
   ]
  },
  {
   "cell_type": "code",
   "execution_count": 118,
   "id": "21d05b94-1c36-4804-af63-d79994ccc16f",
   "metadata": {},
   "outputs": [
    {
     "name": "stdout",
     "output_type": "stream",
     "text": [
      "Предел функции слева\n"
     ]
    },
    {
     "data": {
      "text/latex": [
       "$\\displaystyle 1$"
      ],
      "text/plain": [
       "1"
      ]
     },
     "execution_count": 118,
     "metadata": {},
     "output_type": "execute_result"
    }
   ],
   "source": [
    "# Задаём функцию\n",
    "func = sym.sin(x) / x\n",
    "# Вычисляем предел \n",
    "print('Предел функции слева')\n",
    "sym.limit(func, x, 0, '-')"
   ]
  },
  {
   "cell_type": "code",
   "execution_count": 119,
   "id": "74b6c4ce-69f8-4a16-b9f9-851061360335",
   "metadata": {},
   "outputs": [
    {
     "name": "stdout",
     "output_type": "stream",
     "text": [
      "Предел функции справа\n"
     ]
    },
    {
     "data": {
      "text/latex": [
       "$\\displaystyle 1$"
      ],
      "text/plain": [
       "1"
      ]
     },
     "execution_count": 119,
     "metadata": {},
     "output_type": "execute_result"
    }
   ],
   "source": [
    "# Вычисляем предел \n",
    "print('Предел функции справа')\n",
    "sym.limit(func, x, 0, '+')"
   ]
  },
  {
   "cell_type": "markdown",
   "id": "af620e49-b3ec-475f-b7dc-86b39c8f3493",
   "metadata": {},
   "source": [
    "Пределы слева и справа равны, но функция в этой точке не существует, значит это `точка устранимого разрыва`"
   ]
  },
  {
   "cell_type": "markdown",
   "id": "81575b35-a15d-4832-9bdb-74dbad313cb2",
   "metadata": {},
   "source": [
    "## Исследовать неприрывность функции $f(x)$ в точке $x_0$"
   ]
  },
  {
   "cell_type": "markdown",
   "id": "4256e387-7464-4ee0-843a-d02fc31e70cb",
   "metadata": {},
   "source": [
    "### Задача 1\n",
    "### $f(x) = arctg \\left( \\frac{2}{x - 1} \\right),\\quad x_0 = 1$"
   ]
  },
  {
   "cell_type": "code",
   "execution_count": 120,
   "id": "69fb272e-c406-470e-abd4-6b279ff595bb",
   "metadata": {},
   "outputs": [
    {
     "name": "stdout",
     "output_type": "stream",
     "text": [
      "Предел функции слева\n"
     ]
    },
    {
     "data": {
      "text/latex": [
       "$\\displaystyle - \\frac{\\pi}{2}$"
      ],
      "text/plain": [
       "-pi/2"
      ]
     },
     "execution_count": 120,
     "metadata": {},
     "output_type": "execute_result"
    }
   ],
   "source": [
    "# Задаём функцию\n",
    "func = sym.atan(2/(x-1))\n",
    "# Вычисляем предел \n",
    "print('Предел функции слева')\n",
    "sym.limit(func, x, 1, '-')"
   ]
  },
  {
   "cell_type": "code",
   "execution_count": 121,
   "id": "4b16e51f-4bd1-444e-9693-7d114f00bbb5",
   "metadata": {},
   "outputs": [
    {
     "name": "stdout",
     "output_type": "stream",
     "text": [
      "Предел функции справа\n"
     ]
    },
    {
     "data": {
      "text/latex": [
       "$\\displaystyle \\frac{\\pi}{2}$"
      ],
      "text/plain": [
       "pi/2"
      ]
     },
     "execution_count": 121,
     "metadata": {},
     "output_type": "execute_result"
    }
   ],
   "source": [
    "# Вычисляем предел \n",
    "print('Предел функции справа')\n",
    "sym.limit(func, x, 1, '+')"
   ]
  },
  {
   "cell_type": "markdown",
   "id": "f85305a9-5936-4237-90ea-75ca80dbf69b",
   "metadata": {},
   "source": [
    "Пределы слева и справа не равны и значит это `точка разрыва первого рода`. Функция в точке $x_0$ не существует."
   ]
  },
  {
   "cell_type": "markdown",
   "id": "8fac820f-a390-4047-836e-1afe87681cb0",
   "metadata": {},
   "source": [
    "### Задача 2\n",
    "### $f(x) =  \\frac{1}{2^{(x-3)} - 1},\\quad x_0 = 3$"
   ]
  },
  {
   "cell_type": "code",
   "execution_count": 122,
   "id": "a86f662e-7c3a-4bad-af03-09ec6d6f01bb",
   "metadata": {},
   "outputs": [
    {
     "name": "stdout",
     "output_type": "stream",
     "text": [
      "Предел функции слева\n"
     ]
    },
    {
     "data": {
      "text/latex": [
       "$\\displaystyle -\\infty$"
      ],
      "text/plain": [
       "-oo"
      ]
     },
     "execution_count": 122,
     "metadata": {},
     "output_type": "execute_result"
    }
   ],
   "source": [
    "# Задаём функцию\n",
    "func = 1/(2**(x-3)-1)\n",
    "# Вычисляем предел \n",
    "print('Предел функции слева')\n",
    "sym.limit(func, x, 3, '-')"
   ]
  },
  {
   "cell_type": "code",
   "execution_count": 123,
   "id": "541f923a-d5eb-4a4a-bc26-b99823636a47",
   "metadata": {},
   "outputs": [
    {
     "name": "stdout",
     "output_type": "stream",
     "text": [
      "Предел функции справа\n"
     ]
    },
    {
     "data": {
      "text/latex": [
       "$\\displaystyle \\infty$"
      ],
      "text/plain": [
       "oo"
      ]
     },
     "execution_count": 123,
     "metadata": {},
     "output_type": "execute_result"
    }
   ],
   "source": [
    "# Вычисляем предел \n",
    "print('Предел функции справа')\n",
    "sym.limit(func, x, 3, '+')"
   ]
  },
  {
   "cell_type": "markdown",
   "id": "1e48c458-7a4c-4d62-9e4e-134059affe61",
   "metadata": {},
   "source": [
    "Пределы слева и справа равны `ထ`, значит это `точка разрыва второго рода`. Функция в точке $x_0$ не существует."
   ]
  },
  {
   "cell_type": "code",
   "execution_count": null,
   "id": "29a51781-b58f-4cae-ba11-5c581702c549",
   "metadata": {},
   "outputs": [],
   "source": []
  }
 ],
 "metadata": {
  "kernelspec": {
   "display_name": "Python 3 (ipykernel)",
   "language": "python",
   "name": "python3"
  },
  "language_info": {
   "codemirror_mode": {
    "name": "ipython",
    "version": 3
   },
   "file_extension": ".py",
   "mimetype": "text/x-python",
   "name": "python",
   "nbconvert_exporter": "python",
   "pygments_lexer": "ipython3",
   "version": "3.12.4"
  }
 },
 "nbformat": 4,
 "nbformat_minor": 5
}
