{
 "cells": [
  {
   "cell_type": "markdown",
   "id": "9410ae87-77df-4683-9a28-5aa2b5bb76f0",
   "metadata": {},
   "source": [
    "# ДЗ по 'Введение в математический анализ'\n",
    "### Урок 8. Производная функции нескольких переменных. Часть 1\n",
    "[Ссылка на ДЗ](https://docs.google.com/document/d/1oRcGEcmKfQAKzJ-4A7xa59sEM5OWb7ghVj3hzy7D5o4/edit)"
   ]
  },
  {
   "cell_type": "code",
   "execution_count": 1,
   "id": "88f7e1e5-dcec-4949-b272-8413eccefb7a",
   "metadata": {},
   "outputs": [],
   "source": [
    "# Устанавливаем библиотеки, если они не установлены\n",
    "# !pip install sympy"
   ]
  },
  {
   "cell_type": "code",
   "execution_count": 2,
   "id": "7c378709-1711-4bcd-be70-1bffc49f0cd7",
   "metadata": {},
   "outputs": [],
   "source": [
    "# Подключаем необходимые библиотеки\n",
    "import sympy as sym\n",
    "from IPython.display import Markdown, display\n",
    "\n",
    "# Уберем warnings\n",
    "import warnings\n",
    "warnings.filterwarnings('ignore')"
   ]
  },
  {
   "cell_type": "code",
   "execution_count": 3,
   "id": "a63ceb15-ca91-48b9-8c79-d27267604bdf",
   "metadata": {},
   "outputs": [],
   "source": [
    "def printmd(string):\n",
    "    '''\n",
    "    Функция выводит на консоль, текст в разметке Markdown.\n",
    "\n",
    "    :param string: строка которую будем переделывать в Markdown разметку,\n",
    "    :return: вывод строки в Markdown разметке.\n",
    "    '''\n",
    "    display(Markdown(string))"
   ]
  },
  {
   "cell_type": "markdown",
   "id": "8dccad7f-e1b3-4b46-9c43-96ad3bd51f97",
   "metadata": {},
   "source": [
    "[Библиотека Sympy: символьные вычисления в Python](https://pythonist.ru/biblioteka-sympy-simvolnye-vychisleniya-v-python/)  \n",
    "[Википедия:Примеры оформления формул](https://ru.wikipedia.org/wiki/%D0%92%D0%B8%D0%BA%D0%B8%D0%BF%D0%B5%D0%B4%D0%B8%D1%8F:%D0%9F%D1%80%D0%B8%D0%BC%D0%B5%D1%80%D1%8B_%D0%BE%D1%84%D0%BE%D1%80%D0%BC%D0%BB%D0%B5%D0%BD%D0%B8%D1%8F_%D1%84%D0%BE%D1%80%D0%BC%D1%83%D0%BB)  \n",
    "[Специальные символы LaTeX](https://devhops.ru/latex/symbols/)  \n",
    "[latex Пробел (список команд) отступ в формуле - математический режим, пример, уменьшение пробела отступа](https://fkn.ktu10.com/?q=node/6813)"
   ]
  },
  {
   "cell_type": "code",
   "execution_count": null,
   "id": "d4d6a47c-d8df-4c6e-b6f7-573855bf3c3b",
   "metadata": {},
   "outputs": [],
   "source": []
  }
 ],
 "metadata": {
  "kernelspec": {
   "display_name": "Python 3 (ipykernel)",
   "language": "python",
   "name": "python3"
  },
  "language_info": {
   "codemirror_mode": {
    "name": "ipython",
    "version": 3
   },
   "file_extension": ".py",
   "mimetype": "text/x-python",
   "name": "python",
   "nbconvert_exporter": "python",
   "pygments_lexer": "ipython3",
   "version": "3.12.4"
  }
 },
 "nbformat": 4,
 "nbformat_minor": 5
}
