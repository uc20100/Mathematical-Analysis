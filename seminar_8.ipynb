{
 "cells": [
  {
   "cell_type": "markdown",
   "id": "9410ae87-77df-4683-9a28-5aa2b5bb76f0",
   "metadata": {},
   "source": [
    "# ДЗ по 'Введение в математический анализ'\n",
    "### Урок 8. Производная функции нескольких переменных. Часть 1\n",
    "[Ссылка на ДЗ](https://docs.google.com/document/d/1oRcGEcmKfQAKzJ-4A7xa59sEM5OWb7ghVj3hzy7D5o4/edit)"
   ]
  },
  {
   "cell_type": "code",
   "execution_count": 1,
   "id": "88f7e1e5-dcec-4949-b272-8413eccefb7a",
   "metadata": {},
   "outputs": [],
   "source": [
    "# Устанавливаем библиотеки, если они не установлены\n",
    "# !pip install sympy"
   ]
  },
  {
   "cell_type": "code",
   "execution_count": 1,
   "id": "7c378709-1711-4bcd-be70-1bffc49f0cd7",
   "metadata": {},
   "outputs": [],
   "source": [
    "# Подключаем необходимые библиотеки\n",
    "import sympy as sym\n",
    "from IPython.display import Markdown, display\n",
    "\n",
    "# Уберем warnings\n",
    "import warnings\n",
    "warnings.filterwarnings('ignore')"
   ]
  },
  {
   "cell_type": "code",
   "execution_count": 2,
   "id": "a63ceb15-ca91-48b9-8c79-d27267604bdf",
   "metadata": {},
   "outputs": [],
   "source": [
    "def printmd(string):\n",
    "    '''\n",
    "    Функция выводит на консоль, текст в разметке Markdown.\n",
    "\n",
    "    :param string: строка которую будем переделывать в Markdown разметку,\n",
    "    :return: вывод строки в Markdown разметке.\n",
    "    '''\n",
    "    display(Markdown(string))"
   ]
  },
  {
   "cell_type": "markdown",
   "id": "8dccad7f-e1b3-4b46-9c43-96ad3bd51f97",
   "metadata": {},
   "source": [
    "[Библиотека Sympy: символьные вычисления в Python](https://pythonist.ru/biblioteka-sympy-simvolnye-vychisleniya-v-python/)  \n",
    "[Википедия:Примеры оформления формул](https://ru.wikipedia.org/wiki/%D0%92%D0%B8%D0%BA%D0%B8%D0%BF%D0%B5%D0%B4%D0%B8%D1%8F:%D0%9F%D1%80%D0%B8%D0%BC%D0%B5%D1%80%D1%8B_%D0%BE%D1%84%D0%BE%D1%80%D0%BC%D0%BB%D0%B5%D0%BD%D0%B8%D1%8F_%D1%84%D0%BE%D1%80%D0%BC%D1%83%D0%BB)  \n",
    "[Специальные символы LaTeX](https://devhops.ru/latex/symbols/)  \n",
    "[latex Пробел (список команд) отступ в формуле - математический режим, пример, уменьшение пробела отступа](https://fkn.ktu10.com/?q=node/6813)"
   ]
  },
  {
   "cell_type": "markdown",
   "id": "67de0d93-dd80-4c79-aecb-5a749ee3ac70",
   "metadata": {},
   "source": [
    "## 1. Найти область определения функции."
   ]
  },
  {
   "cell_type": "markdown",
   "id": "cac1b87b-8528-4aa5-9d46-8227b7d8ae70",
   "metadata": {},
   "source": [
    "### $z=\\sqrt {1-x^3}+ln(y^2-1)$"
   ]
  },
  {
   "cell_type": "code",
   "execution_count": 40,
   "id": "a2ccf522-58cd-47f4-b079-f851706d4f6e",
   "metadata": {},
   "outputs": [],
   "source": [
    "x = sym.Symbol('x')\n",
    "y = sym.Symbol('y')\n",
    "k = sym.Symbol('k')"
   ]
  },
  {
   "cell_type": "code",
   "execution_count": 42,
   "id": "95e22399-e093-4328-a759-bf8796a6d25a",
   "metadata": {},
   "outputs": [
    {
     "data": {
      "text/latex": [
       "$\\displaystyle 0$"
      ],
      "text/plain": [
       "0"
      ]
     },
     "execution_count": 42,
     "metadata": {},
     "output_type": "execute_result"
    }
   ],
   "source": [
    "# sym.limit(sym.sqrt(1-x**3) + sym.ln(y**2 - 1), (x,y), (0,1))\n",
    "y = k*x**2\n",
    "func = x**2 * y/ (x**2 + y**2)\n",
    "\n",
    "sym.limit(func, x, 0)"
   ]
  },
  {
   "cell_type": "code",
   "execution_count": 32,
   "id": "a40692c2-d690-4874-bacd-b1db1f2ae69f",
   "metadata": {},
   "outputs": [
    {
     "data": {
      "text/latex": [
       "$\\displaystyle -\\infty$"
      ],
      "text/plain": [
       "-oo"
      ]
     },
     "execution_count": 32,
     "metadata": {},
     "output_type": "execute_result"
    }
   ],
   "source": [
    "sym.limit(sym.ln(y**2 - 1), y, 1)"
   ]
  },
  {
   "cell_type": "markdown",
   "id": "2161118c-85d4-41b8-9d2e-6931245b9668",
   "metadata": {},
   "source": [
    "## 2. Найти производные 1-го порядка функции."
   ]
  },
  {
   "cell_type": "markdown",
   "id": "55e7e398-4362-42c9-bcdd-1d153c8769bf",
   "metadata": {},
   "source": [
    "### $z=(1 + \\frac{ln\\,x}{ln\\,y})^3$"
   ]
  },
  {
   "cell_type": "code",
   "execution_count": 43,
   "id": "7181b824-baea-45b3-9cd4-53c789141982",
   "metadata": {},
   "outputs": [
    {
     "name": "stdout",
     "output_type": "stream",
     "text": [
      "Производная f'(x,y)\n"
     ]
    },
    {
     "data": {
      "text/latex": [
       "$\\displaystyle \\frac{\\partial^{k x^{2}}}{\\partial x^{k x^{2}}} \\left(\\frac{\\log{\\left(x \\right)}}{\\log{\\left(k x^{2} \\right)}} + 1\\right)^{3}$"
      ],
      "text/plain": [
       "Derivative((log(x)/log(k*x**2) + 1)**3, (x, k*x**2))"
      ]
     },
     "execution_count": 43,
     "metadata": {},
     "output_type": "execute_result"
    }
   ],
   "source": [
    "# Задаём функцию\n",
    "func = (1 + sym.ln(x)/sym.ln(y))**3\n",
    "# Вчисляем производную\n",
    "print(\"Производная f'(x,y)\")\n",
    "df = sym.diff(func, (x,y))\n",
    "df"
   ]
  },
  {
   "cell_type": "markdown",
   "id": "2b86bdb6-5905-4b02-a7cf-00e46c95ac21",
   "metadata": {},
   "source": [
    "## 3. Найти полный дифференциал функции в точке (1;1)."
   ]
  },
  {
   "cell_type": "markdown",
   "id": "e8198e2f-138b-4abe-9837-aa0a46ea870d",
   "metadata": {},
   "source": [
    "### $z=\\sqrt{2xy + cos(\\frac{x}{y})}$"
   ]
  },
  {
   "cell_type": "code",
   "execution_count": null,
   "id": "e6c661b0-a268-4b03-b9e4-9ace8c87ad25",
   "metadata": {},
   "outputs": [],
   "source": []
  },
  {
   "cell_type": "markdown",
   "id": "9acfadad-4323-4b2f-934f-83098bd6b539",
   "metadata": {},
   "source": [
    "## 4. Исследовать на экстремум функцию."
   ]
  },
  {
   "cell_type": "markdown",
   "id": "65efb526-9083-4ac4-9ff2-da77e580a678",
   "metadata": {},
   "source": [
    "### $z = x^2 + xy + y^2 - 6x - 9y$"
   ]
  },
  {
   "cell_type": "code",
   "execution_count": null,
   "id": "e32219b4-a58f-40a1-bef0-680dc7203634",
   "metadata": {},
   "outputs": [],
   "source": []
  },
  {
   "cell_type": "code",
   "execution_count": null,
   "id": "4d2a93e2-d8aa-4de4-a28b-1734044291ee",
   "metadata": {},
   "outputs": [],
   "source": []
  }
 ],
 "metadata": {
  "kernelspec": {
   "display_name": "Python 3 (ipykernel)",
   "language": "python",
   "name": "python3"
  },
  "language_info": {
   "codemirror_mode": {
    "name": "ipython",
    "version": 3
   },
   "file_extension": ".py",
   "mimetype": "text/x-python",
   "name": "python",
   "nbconvert_exporter": "python",
   "pygments_lexer": "ipython3",
   "version": "3.12.4"
  }
 },
 "nbformat": 4,
 "nbformat_minor": 5
}
