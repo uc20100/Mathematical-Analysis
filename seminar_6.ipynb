{
 "cells": [
  {
   "cell_type": "markdown",
   "id": "fecc9441-348e-4ad8-b28e-deb5f0140f67",
   "metadata": {},
   "source": [
    "# ДЗ по 'Введение в математический анализ'\n",
    "### Урок 6. Производная функции одной переменной. Часть 1"
   ]
  },
  {
   "cell_type": "markdown",
   "id": "4444e23d-45df-4709-a5cc-df1820d1d107",
   "metadata": {},
   "source": [
    "## Найти производную выражения\n",
    "\n",
    "[Википедия:Примеры оформления формул](https://ru.wikipedia.org/wiki/%D0%92%D0%B8%D0%BA%D0%B8%D0%BF%D0%B5%D0%B4%D0%B8%D1%8F:%D0%9F%D1%80%D0%B8%D0%BC%D0%B5%D1%80%D1%8B_%D0%BE%D1%84%D0%BE%D1%80%D0%BC%D0%BB%D0%B5%D0%BD%D0%B8%D1%8F_%D1%84%D0%BE%D1%80%D0%BC%D1%83%D0%BB)  \n",
    "[Специальные символы LaTeX](https://devhops.ru/latex/symbols/)  \n",
    "[latex Пробел (список команд) отступ в формуле - математический режим, пример, уменьшение пробела отступа](https://fkn.ktu10.com/?q=node/6813)"
   ]
  },
  {
   "cell_type": "markdown",
   "id": "f728bf21-14b0-4d97-a6b4-2f19a3d171c7",
   "metadata": {},
   "source": [
    "### а) $sin \\, x \\cdot cos \\, x$"
   ]
  },
  {
   "cell_type": "code",
   "execution_count": null,
   "id": "c5a94e28-d5e7-47ba-a2ec-f21ff417550a",
   "metadata": {},
   "outputs": [],
   "source": []
  },
  {
   "cell_type": "markdown",
   "id": "7f935fc0-10d6-431f-b418-5ac2b4eebdf5",
   "metadata": {},
   "source": [
    "### b) $ln(2x+1)^3$"
   ]
  },
  {
   "cell_type": "code",
   "execution_count": null,
   "id": "3b47dbf3-81ec-4b9c-89ff-6dbe5ba8425e",
   "metadata": {},
   "outputs": [],
   "source": []
  },
  {
   "cell_type": "markdown",
   "id": "784bc1bd-a7e8-46d2-9081-97fd71730dd0",
   "metadata": {},
   "source": [
    "### c) $\\sqrt {sin^2(ln(x^3))}$"
   ]
  },
  {
   "cell_type": "code",
   "execution_count": null,
   "id": "55da7e96-c1cb-4ca1-a0f9-a219d5ef4375",
   "metadata": {},
   "outputs": [],
   "source": []
  },
  {
   "cell_type": "markdown",
   "id": "2be874f8-56af-4d7d-aff2-1b53883887b5",
   "metadata": {},
   "source": [
    "### d) $\\frac {x^4}{ln(x)}$"
   ]
  },
  {
   "cell_type": "code",
   "execution_count": null,
   "id": "a1545d2e-2c9f-402d-b49f-f65016ff4c40",
   "metadata": {},
   "outputs": [],
   "source": []
  },
  {
   "cell_type": "markdown",
   "id": "d0598418-a6fc-4aeb-96b0-422d9688cb80",
   "metadata": {},
   "source": [
    "## Найти выражение производной функции и её значение в точке"
   ]
  },
  {
   "cell_type": "markdown",
   "id": "6b427f7d-9c9c-4311-b11f-159728cbafab",
   "metadata": {},
   "source": [
    "### $f(x)=cos(x^2 + 3x), \\quad x_0= \\sqrt{\\pi}$"
   ]
  },
  {
   "cell_type": "code",
   "execution_count": null,
   "id": "dd5836bd-b6a5-4546-b455-7127f97bc2fe",
   "metadata": {},
   "outputs": [],
   "source": []
  },
  {
   "cell_type": "markdown",
   "id": "c7d0b7bb-6aab-4c4c-b283-984b029bbff9",
   "metadata": {},
   "source": [
    "## Найти значение производной функции в точке"
   ]
  },
  {
   "cell_type": "markdown",
   "id": "bde9b212-7fa5-4b27-a70e-9eb30770c069",
   "metadata": {},
   "source": [
    "### $\\frac {x^3-x^2-x-1}{1+2x+3x^2-4x^3}, \\quad x_0=0$"
   ]
  },
  {
   "cell_type": "code",
   "execution_count": null,
   "id": "a00755a9-7d8c-4af8-b008-70986f5a6403",
   "metadata": {},
   "outputs": [],
   "source": []
  },
  {
   "cell_type": "markdown",
   "id": "57f101d3-1d27-4699-bd42-93439648a184",
   "metadata": {},
   "source": [
    "## Найти угол наклона касательной к графику функции в точке"
   ]
  },
  {
   "cell_type": "markdown",
   "id": "657501ef-3bca-4b8c-8dd0-2bcd26c16003",
   "metadata": {},
   "source": [
    "### $f(x)=\\sqrt{3x} \\cdot ln \\, x, \\quad x_0=1$"
   ]
  },
  {
   "cell_type": "code",
   "execution_count": null,
   "id": "3ea0aae4-49ce-4566-8f3e-e32c018e0779",
   "metadata": {},
   "outputs": [],
   "source": []
  }
 ],
 "metadata": {
  "kernelspec": {
   "display_name": "Python 3 (ipykernel)",
   "language": "python",
   "name": "python3"
  },
  "language_info": {
   "codemirror_mode": {
    "name": "ipython",
    "version": 3
   },
   "file_extension": ".py",
   "mimetype": "text/x-python",
   "name": "python",
   "nbconvert_exporter": "python",
   "pygments_lexer": "ipython3",
   "version": "3.12.4"
  }
 },
 "nbformat": 4,
 "nbformat_minor": 5
}
