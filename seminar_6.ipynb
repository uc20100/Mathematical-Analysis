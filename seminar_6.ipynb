{
 "cells": [
  {
   "cell_type": "markdown",
   "id": "fecc9441-348e-4ad8-b28e-deb5f0140f67",
   "metadata": {},
   "source": [
    "# ДЗ по 'Введение в математический анализ'\n",
    "### Урок 6. Производная функции одной переменной. Часть 1"
   ]
  },
  {
   "cell_type": "code",
   "execution_count": 1,
   "id": "6bc6392b-9fb0-4ba8-b8ed-33d865058c6b",
   "metadata": {},
   "outputs": [],
   "source": [
    "# Устанавливаем библиотеки, если они не установлены\n",
    "# !pip install sympy"
   ]
  },
  {
   "cell_type": "code",
   "execution_count": 2,
   "id": "b7dc10f6-3d36-4c9a-b3d8-09f33864bf93",
   "metadata": {},
   "outputs": [],
   "source": [
    "# Подключаем необходимые библиотеки\n",
    "import sympy as sym"
   ]
  },
  {
   "cell_type": "markdown",
   "id": "dbbb50cf-6da9-4a23-bafd-4f730bd8245c",
   "metadata": {},
   "source": [
    "[Библиотека Sympy: символьные вычисления в Python](https://pythonist.ru/biblioteka-sympy-simvolnye-vychisleniya-v-python/)"
   ]
  },
  {
   "cell_type": "markdown",
   "id": "4444e23d-45df-4709-a5cc-df1820d1d107",
   "metadata": {},
   "source": [
    "## Найти производную выражения\n",
    "\n",
    "[Википедия:Примеры оформления формул](https://ru.wikipedia.org/wiki/%D0%92%D0%B8%D0%BA%D0%B8%D0%BF%D0%B5%D0%B4%D0%B8%D1%8F:%D0%9F%D1%80%D0%B8%D0%BC%D0%B5%D1%80%D1%8B_%D0%BE%D1%84%D0%BE%D1%80%D0%BC%D0%BB%D0%B5%D0%BD%D0%B8%D1%8F_%D1%84%D0%BE%D1%80%D0%BC%D1%83%D0%BB)  \n",
    "[Специальные символы LaTeX](https://devhops.ru/latex/symbols/)  \n",
    "[latex Пробел (список команд) отступ в формуле - математический режим, пример, уменьшение пробела отступа](https://fkn.ktu10.com/?q=node/6813)"
   ]
  },
  {
   "cell_type": "markdown",
   "id": "f728bf21-14b0-4d97-a6b4-2f19a3d171c7",
   "metadata": {},
   "source": [
    "### а) $sin \\, x \\cdot cos \\, x$"
   ]
  },
  {
   "cell_type": "code",
   "execution_count": 3,
   "id": "c5a94e28-d5e7-47ba-a2ec-f21ff417550a",
   "metadata": {},
   "outputs": [
    {
     "name": "stdout",
     "output_type": "stream",
     "text": [
      "Производная\n"
     ]
    },
    {
     "data": {
      "text/latex": [
       "$\\displaystyle - \\sin^{2}{\\left(x \\right)} + \\cos^{2}{\\left(x \\right)}$"
      ],
      "text/plain": [
       "-sin(x)**2 + cos(x)**2"
      ]
     },
     "execution_count": 3,
     "metadata": {},
     "output_type": "execute_result"
    }
   ],
   "source": [
    "# Задаём символьную переменную\n",
    "x = sym.symbols('x')\n",
    "# Задаём функцию\n",
    "func = sym.sin(x) * sym.cos(x)\n",
    "# Вчисляем производную\n",
    "print('Производная')\n",
    "sym.diff(func, x)"
   ]
  },
  {
   "cell_type": "markdown",
   "id": "7f935fc0-10d6-431f-b418-5ac2b4eebdf5",
   "metadata": {},
   "source": [
    "### b) $ln((2x+1)^3)$"
   ]
  },
  {
   "cell_type": "code",
   "execution_count": 4,
   "id": "3b47dbf3-81ec-4b9c-89ff-6dbe5ba8425e",
   "metadata": {},
   "outputs": [
    {
     "name": "stdout",
     "output_type": "stream",
     "text": [
      "Производная\n"
     ]
    },
    {
     "data": {
      "text/latex": [
       "$\\displaystyle \\frac{6}{2 x + 1}$"
      ],
      "text/plain": [
       "6/(2*x + 1)"
      ]
     },
     "execution_count": 4,
     "metadata": {},
     "output_type": "execute_result"
    }
   ],
   "source": [
    "# Задаём функцию\n",
    "func = sym.ln((2*x +1)**3)\n",
    "# Вчисляем производную\n",
    "print('Производная')\n",
    "sym.diff(func, x)"
   ]
  },
  {
   "cell_type": "markdown",
   "id": "784bc1bd-a7e8-46d2-9081-97fd71730dd0",
   "metadata": {},
   "source": [
    "### c) $\\sqrt {sin^2(ln(x^3))}$"
   ]
  },
  {
   "cell_type": "code",
   "execution_count": 5,
   "id": "55da7e96-c1cb-4ca1-a0f9-a219d5ef4375",
   "metadata": {},
   "outputs": [
    {
     "name": "stdout",
     "output_type": "stream",
     "text": [
      "Производная\n"
     ]
    },
    {
     "data": {
      "text/latex": [
       "$\\displaystyle \\frac{3 \\sqrt{\\sin^{2}{\\left(\\log{\\left(x^{3} \\right)} \\right)}} \\cos{\\left(\\log{\\left(x^{3} \\right)} \\right)}}{x \\sin{\\left(\\log{\\left(x^{3} \\right)} \\right)}}$"
      ],
      "text/plain": [
       "3*sqrt(sin(log(x**3))**2)*cos(log(x**3))/(x*sin(log(x**3)))"
      ]
     },
     "execution_count": 5,
     "metadata": {},
     "output_type": "execute_result"
    }
   ],
   "source": [
    "# Задаём функцию\n",
    "func = sym.sqrt(sym.sin(sym.ln(x**3))**2)\n",
    "# Вчисляем производную\n",
    "print('Производная')\n",
    "sym.diff(func, x)"
   ]
  },
  {
   "cell_type": "markdown",
   "id": "2be874f8-56af-4d7d-aff2-1b53883887b5",
   "metadata": {},
   "source": [
    "### d) $\\frac {x^4}{ln(x)}$"
   ]
  },
  {
   "cell_type": "code",
   "execution_count": 6,
   "id": "a1545d2e-2c9f-402d-b49f-f65016ff4c40",
   "metadata": {},
   "outputs": [
    {
     "name": "stdout",
     "output_type": "stream",
     "text": [
      "Производная\n"
     ]
    },
    {
     "data": {
      "text/latex": [
       "$\\displaystyle \\frac{4 x^{3}}{\\log{\\left(x \\right)}} - \\frac{x^{3}}{\\log{\\left(x \\right)}^{2}}$"
      ],
      "text/plain": [
       "4*x**3/log(x) - x**3/log(x)**2"
      ]
     },
     "execution_count": 6,
     "metadata": {},
     "output_type": "execute_result"
    }
   ],
   "source": [
    "# Задаём функцию\n",
    "func = x**4 / sym.ln(x)\n",
    "# Вчисляем производную\n",
    "print('Производная')\n",
    "sym.diff(func, x)"
   ]
  },
  {
   "cell_type": "markdown",
   "id": "d0598418-a6fc-4aeb-96b0-422d9688cb80",
   "metadata": {},
   "source": [
    "## Найти выражение производной функции и её значение в точке"
   ]
  },
  {
   "cell_type": "markdown",
   "id": "6b427f7d-9c9c-4311-b11f-159728cbafab",
   "metadata": {},
   "source": [
    "### $f(x)=cos(x^2 + 3x), \\quad x_0= \\sqrt{\\pi}$"
   ]
  },
  {
   "cell_type": "code",
   "execution_count": 7,
   "id": "dd5836bd-b6a5-4546-b455-7127f97bc2fe",
   "metadata": {},
   "outputs": [
    {
     "name": "stdout",
     "output_type": "stream",
     "text": [
      "Производная\n"
     ]
    },
    {
     "data": {
      "text/latex": [
       "$\\displaystyle - \\left(2 x + 3\\right) \\sin{\\left(x^{2} + 3 x \\right)}$"
      ],
      "text/plain": [
       "-(2*x + 3)*sin(x**2 + 3*x)"
      ]
     },
     "execution_count": 7,
     "metadata": {},
     "output_type": "execute_result"
    }
   ],
   "source": [
    "# Задаём функцию\n",
    "func = sym.cos(x**2 + 3*x)\n",
    "# Вчисляем производную\n",
    "df = sym.diff(func, x)\n",
    "print('Производная')\n",
    "df"
   ]
  },
  {
   "cell_type": "code",
   "execution_count": 8,
   "id": "115a6859-3fb3-4aed-b180-0b3a0405a0fa",
   "metadata": {},
   "outputs": [
    {
     "name": "stdout",
     "output_type": "stream",
     "text": [
      "Значение в точке\n"
     ]
    },
    {
     "data": {
      "text/latex": [
       "$\\displaystyle \\left(3 + 2 \\sqrt{\\pi}\\right) \\sin{\\left(3 \\sqrt{\\pi} \\right)}$"
      ],
      "text/plain": [
       "(3 + 2*sqrt(pi))*sin(3*sqrt(pi))"
      ]
     },
     "execution_count": 8,
     "metadata": {},
     "output_type": "execute_result"
    }
   ],
   "source": [
    "# Устанавливаем значение х\n",
    "param = {x: sym.sqrt(sym.pi)}\n",
    "# Вычисляем значение в точке\n",
    "print('Значение в точке')\n",
    "df.subs(param)"
   ]
  },
  {
   "cell_type": "markdown",
   "id": "c7d0b7bb-6aab-4c4c-b283-984b029bbff9",
   "metadata": {},
   "source": [
    "## Найти значение производной функции в точке"
   ]
  },
  {
   "cell_type": "markdown",
   "id": "bde9b212-7fa5-4b27-a70e-9eb30770c069",
   "metadata": {},
   "source": [
    "### $\\frac {x^3-x^2-x-1}{1+2x+3x^2-4x^3}, \\quad x_0=0$"
   ]
  },
  {
   "cell_type": "code",
   "execution_count": 9,
   "id": "a00755a9-7d8c-4af8-b008-70986f5a6403",
   "metadata": {},
   "outputs": [
    {
     "name": "stdout",
     "output_type": "stream",
     "text": [
      "Производная\n"
     ]
    },
    {
     "data": {
      "text/latex": [
       "$\\displaystyle \\frac{3 x^{2} - 2 x - 1}{- 4 x^{3} + 3 x^{2} + 2 x + 1} + \\frac{\\left(12 x^{2} - 6 x - 2\\right) \\left(x^{3} - x^{2} - x - 1\\right)}{\\left(- 4 x^{3} + 3 x^{2} + 2 x + 1\\right)^{2}}$"
      ],
      "text/plain": [
       "(3*x**2 - 2*x - 1)/(-4*x**3 + 3*x**2 + 2*x + 1) + (12*x**2 - 6*x - 2)*(x**3 - x**2 - x - 1)/(-4*x**3 + 3*x**2 + 2*x + 1)**2"
      ]
     },
     "execution_count": 9,
     "metadata": {},
     "output_type": "execute_result"
    }
   ],
   "source": [
    "# Задаём функцию\n",
    "func = (x**3 - x**2 - x - 1) / (1 + 2*x + 3*x**2 - 4*x**3)\n",
    "# Вчисляем производную\n",
    "df = sym.diff(func, x)\n",
    "print('Производная')\n",
    "df"
   ]
  },
  {
   "cell_type": "code",
   "execution_count": 10,
   "id": "eaac46f5-5525-4c3a-919e-b82d6731d3ed",
   "metadata": {},
   "outputs": [
    {
     "name": "stdout",
     "output_type": "stream",
     "text": [
      "Значение в точке\n"
     ]
    },
    {
     "data": {
      "text/latex": [
       "$\\displaystyle 1$"
      ],
      "text/plain": [
       "1"
      ]
     },
     "execution_count": 10,
     "metadata": {},
     "output_type": "execute_result"
    }
   ],
   "source": [
    "# Вычисляем значение в точке\n",
    "print('Значение в точке')\n",
    "df.subs({x: 0})"
   ]
  },
  {
   "cell_type": "markdown",
   "id": "57f101d3-1d27-4699-bd42-93439648a184",
   "metadata": {},
   "source": [
    "## Найти угол наклона касательной к графику функции в точке"
   ]
  },
  {
   "cell_type": "markdown",
   "id": "657501ef-3bca-4b8c-8dd0-2bcd26c16003",
   "metadata": {},
   "source": [
    "### $f(x)=\\sqrt{3x} \\cdot ln \\, x, \\quad x_0=1$"
   ]
  },
  {
   "cell_type": "code",
   "execution_count": 11,
   "id": "3ea0aae4-49ce-4566-8f3e-e32c018e0779",
   "metadata": {},
   "outputs": [
    {
     "name": "stdout",
     "output_type": "stream",
     "text": [
      "Производная\n"
     ]
    },
    {
     "data": {
      "text/latex": [
       "$\\displaystyle \\frac{\\sqrt{3} \\log{\\left(x \\right)}}{2 \\sqrt{x}} + \\frac{\\sqrt{3}}{\\sqrt{x}}$"
      ],
      "text/plain": [
       "sqrt(3)*log(x)/(2*sqrt(x)) + sqrt(3)/sqrt(x)"
      ]
     },
     "execution_count": 11,
     "metadata": {},
     "output_type": "execute_result"
    }
   ],
   "source": [
    "# Задаём функцию\n",
    "func = sym.sqrt(3*x) * sym.ln(x)\n",
    "# Вчисляем производную\n",
    "df = sym.diff(func, x)\n",
    "print('Производная')\n",
    "df"
   ]
  },
  {
   "cell_type": "code",
   "execution_count": 12,
   "id": "fc49c8c2-7427-4fcd-a894-db9bfbc68ad1",
   "metadata": {},
   "outputs": [
    {
     "name": "stdout",
     "output_type": "stream",
     "text": [
      "Угол наклона касательной к графику в точке\n"
     ]
    },
    {
     "data": {
      "text/latex": [
       "$\\displaystyle \\frac{\\pi}{3}$"
      ],
      "text/plain": [
       "pi/3"
      ]
     },
     "execution_count": 12,
     "metadata": {},
     "output_type": "execute_result"
    }
   ],
   "source": [
    "# Вычисляем угол наклона касательной к графику в точке\n",
    "print('Угол наклона касательной к графику в точке')\n",
    "sym.atan(df.subs({x: 1}))"
   ]
  },
  {
   "cell_type": "code",
   "execution_count": null,
   "id": "dae852bf-c36d-442b-bdfe-88e0bad7dc8b",
   "metadata": {},
   "outputs": [],
   "source": []
  }
 ],
 "metadata": {
  "kernelspec": {
   "display_name": "Python 3 (ipykernel)",
   "language": "python",
   "name": "python3"
  },
  "language_info": {
   "codemirror_mode": {
    "name": "ipython",
    "version": 3
   },
   "file_extension": ".py",
   "mimetype": "text/x-python",
   "name": "python",
   "nbconvert_exporter": "python",
   "pygments_lexer": "ipython3",
   "version": "3.12.4"
  }
 },
 "nbformat": 4,
 "nbformat_minor": 5
}
