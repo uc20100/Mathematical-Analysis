{
 "cells": [
  {
   "cell_type": "markdown",
   "id": "912a21c4-adcc-41a5-80ce-a91e6c1a7abb",
   "metadata": {},
   "source": [
    "# ДЗ по 'Введение в математический анализ'\n",
    "### Урок 9. Производная функции нескольких переменных. Часть 2\n",
    "[Ссылка на ДЗ](https://drive.google.com/file/d/1p2wHIQXyOL4Z-d_bCPGzk2fE4Fg_DcwS/view)"
   ]
  },
  {
   "cell_type": "code",
   "execution_count": 1,
   "id": "92e596f2-be62-47ff-88cc-74f3e07c8150",
   "metadata": {},
   "outputs": [],
   "source": [
    "# Устанавливаем библиотеки, если они не установлены\n",
    "# !pip install sympy"
   ]
  },
  {
   "cell_type": "code",
   "execution_count": 1,
   "id": "93e6a9be-892e-488f-a219-0535cf6b8094",
   "metadata": {},
   "outputs": [],
   "source": [
    "# Подключаем необходимые библиотеки\n",
    "import sympy as sym\n",
    "from IPython.display import Markdown, display\n",
    "\n",
    "# Уберем warnings\n",
    "import warnings\n",
    "warnings.filterwarnings('ignore')"
   ]
  },
  {
   "cell_type": "code",
   "execution_count": 2,
   "id": "bb19b5c1-9bea-41c3-ad72-5e214cbfbf4f",
   "metadata": {},
   "outputs": [],
   "source": [
    "def printmd(string):\n",
    "    '''\n",
    "    Функция выводит на консоль, текст в разметке Markdown.\n",
    "\n",
    "    :param string: строка которую будем переделывать в Markdown разметку,\n",
    "    :return: вывод строки в Markdown разметке.\n",
    "    '''\n",
    "    display(Markdown(string))"
   ]
  },
  {
   "cell_type": "markdown",
   "id": "3d107da0-ced8-4e27-a7e2-5118bfc2ccc5",
   "metadata": {},
   "source": [
    "[Библиотека Sympy: символьные вычисления в Python](https://pythonist.ru/biblioteka-sympy-simvolnye-vychisleniya-v-python/)  \n",
    "[Википедия:Примеры оформления формул](https://ru.wikipedia.org/wiki/%D0%92%D0%B8%D0%BA%D0%B8%D0%BF%D0%B5%D0%B4%D0%B8%D1%8F:%D0%9F%D1%80%D0%B8%D0%BC%D0%B5%D1%80%D1%8B_%D0%BE%D1%84%D0%BE%D1%80%D0%BC%D0%BB%D0%B5%D0%BD%D0%B8%D1%8F_%D1%84%D0%BE%D1%80%D0%BC%D1%83%D0%BB)  \n",
    "[Специальные символы LaTeX](https://devhops.ru/latex/symbols/)  \n",
    "[latex Пробел (список команд) отступ в формуле - математический режим, пример, уменьшение пробела отступа](https://fkn.ktu10.com/?q=node/6813)  \n",
    "[Как красиво писать формулы c LaTeX?](https://habr.com/ru/articles/723564/)  \n",
    "[Питон в научных вычислениях](https://www.inp.nsk.su/~grozin/python/python7.html)"
   ]
  },
  {
   "cell_type": "markdown",
   "id": "3b848e91-3c7c-4b22-88fa-3796a16e039a",
   "metadata": {},
   "source": [
    "## 1. Найти $\\frac{dz}{dt}$, если $z=z(x;y), x=x(t), y=y(t)$:  \n",
    "### $z=x^2+y^2+xy, \\quad x=a\\,sin\\,t,\\, y=a\\,cos\\,t$  \n",
    "\n",
    "[Производные сложных функций нескольких переменных](http://mathprofi.ru/proizvodnye_slozhnyh_funkcij_neskolkih_peremennyh.html)"
   ]
  },
  {
   "cell_type": "code",
   "execution_count": 3,
   "id": "c9db6b71-f619-4f04-9052-d786680c5920",
   "metadata": {},
   "outputs": [
    {
     "data": {
      "text/markdown": [
       "$\\dfrac{dz}{dt}=\\,$$- a \\left(x + 2 y\\right) \\sin{\\left(t \\right)} + a \\left(2 x + y\\right) \\cos{\\left(t \\right)} $"
      ],
      "text/plain": [
       "<IPython.core.display.Markdown object>"
      ]
     },
     "metadata": {},
     "output_type": "display_data"
    }
   ],
   "source": [
    "# Задаём символьную переменную\n",
    "x, y, t, a = sym.symbols('x y t a')\n",
    "# Задаём функцию z\n",
    "func_z = x**2 + y**2 + x*y\n",
    "# Задаём функцию x\n",
    "func_x = a * sym.sin(t)\n",
    "# Задаём функцию y\n",
    "func_y = a * sym.cos(t)\n",
    "\n",
    "# Вычисляем частные производные по x, y\n",
    "dz_dx = sym.diff(func_z, x)\n",
    "dz_dy = sym.diff(func_z, y)\n",
    "# Вычисляем полные производные по t\n",
    "dx_dt = sym.diff(func_x, t)\n",
    "dy_dt = sym.diff(func_y, t)\n",
    "\n",
    "# Вычислим полную производную\n",
    "printmd('$\\dfrac{dz}{dt}=\\,$'+f'${sym.latex(dz_dx*dx_dt + dz_dy*dy_dt)} $')"
   ]
  },
  {
   "cell_type": "markdown",
   "id": "a3fb439e-403c-4491-8b72-4621442f5b0a",
   "metadata": {},
   "source": [
    "## 2. Для данных $z=f(x;y), x=x(u;v), y=y(u;v)$ найти $\\frac{\\partial z}{\\partial u}, \\frac{\\partial z}{\\partial v}$ и $dz$:  \n",
    "### $z=x^3+y^3, \\quad x=uv,\\,y=\\frac{u}{v}$\n",
    "\n",
    "[LaTeX: производные](https://www.astronet.ru/db/msg/1202050/deriv.html)"
   ]
  },
  {
   "cell_type": "code",
   "execution_count": 155,
   "id": "08bd9b67-d541-461b-948f-6eefe414f664",
   "metadata": {},
   "outputs": [
    {
     "data": {
      "text/markdown": [
       "$\\dfrac{\\partial z}{\\partial v}=\\;$$3 u^{3} v^{2} - \\frac{3 u^{3}}{v^{4}}$"
      ],
      "text/plain": [
       "<IPython.core.display.Markdown object>"
      ]
     },
     "metadata": {},
     "output_type": "display_data"
    },
    {
     "data": {
      "text/markdown": [
       "$\\dfrac{\\partial z}{\\partial u}=\\;$$3 u^{2} v^{3} + \\frac{3 u^{2}}{v^{3}}$"
      ],
      "text/plain": [
       "<IPython.core.display.Markdown object>"
      ]
     },
     "metadata": {},
     "output_type": "display_data"
    },
    {
     "data": {
      "text/markdown": [
       "$dz=\\;$$du \\left(3 u^{2} v^{3} + \\frac{3 u^{2}}{v^{3}}\\right) + dv \\left(3 u^{3} v^{2} - \\frac{3 u^{3}}{v^{4}}\\right)$"
      ],
      "text/plain": [
       "<IPython.core.display.Markdown object>"
      ]
     },
     "metadata": {},
     "output_type": "display_data"
    }
   ],
   "source": [
    "# Задаём символьную переменную\n",
    "u, v, du, dv = sym.symbols('u v du dv')\n",
    "# Задаём функцию z\n",
    "func_z = x**3 + y**3\n",
    "# Задаём функцию x\n",
    "func_x = u * v\n",
    "# Задаём функцию y\n",
    "func_y = u / v\n",
    "\n",
    "# Подставим значения x и y в формулу\n",
    "z = func_z.subs({x: func_x, y: func_y})\n",
    "# Вычисляем частные производные\n",
    "z_v = sym.diff(z, v)\n",
    "z_u = sym.diff(z, u)\n",
    "# Выводим результат\n",
    "printmd('$\\dfrac{\\partial z}{\\partial v}=\\;$'+f'${sym.latex(z_v)}$')\n",
    "printmd('$\\dfrac{\\partial z}{\\partial u}=\\;$'+f'${sym.latex(z_u)}$')\n",
    "# Вычисляем dz\n",
    "dz = z_u*du + z_v*dv\n",
    "printmd('$dz=\\;$'+f'${sym.latex(dz)}$')"
   ]
  },
  {
   "cell_type": "markdown",
   "id": "a51659de-d936-4d99-82ed-6db1d526319e",
   "metadata": {},
   "source": [
    "## 3. Найти производные $y'(x)$ неявных функций, заданных уравнением:  \n",
    "### $xe^{2y}-y\\,ln\\,x=8$\n",
    "\n",
    "[Производная функции, заданной неявно. Производная параметрически заданной функции](http://mathprofi.ru/proizvodnye_neyavnoi_parametricheskoi_funkcii.html)"
   ]
  },
  {
   "cell_type": "code",
   "execution_count": 122,
   "id": "9edb080c-e0c0-4242-9cfc-6540069ed5e6",
   "metadata": {},
   "outputs": [
    {
     "data": {
      "text/markdown": [
       "Уравнение: $x e^{2 y} - y \\log{\\left(x \\right)} - 8$"
      ],
      "text/plain": [
       "<IPython.core.display.Markdown object>"
      ]
     },
     "metadata": {},
     "output_type": "display_data"
    },
    {
     "data": {
      "text/markdown": [
       "---"
      ],
      "text/plain": [
       "<IPython.core.display.Markdown object>"
      ]
     },
     "metadata": {},
     "output_type": "display_data"
    },
    {
     "data": {
      "text/markdown": [
       "$y'(x)=\\;$$\\frac{- x e^{2 y} + y}{x \\left(2 x e^{2 y} - \\log{\\left(x \\right)}\\right)}$"
      ],
      "text/plain": [
       "<IPython.core.display.Markdown object>"
      ]
     },
     "metadata": {},
     "output_type": "display_data"
    }
   ],
   "source": [
    "# Задаём символьную переменную\n",
    "x, y = sym.symbols('x y')\n",
    "# Задаём функцию z\n",
    "func = x*sym.E**(2*y) - y*sym.ln(x) - 8\n",
    "# Вычисляем производную неявной функции\n",
    "result = -(sym.diff(func, x)/sym.diff(func, y))\n",
    "# Упращаем выражение и выводим результат\n",
    "printmd(f'Уравнение: ${sym.latex(func)}$')\n",
    "printmd('---')\n",
    "printmd(\"$y'(x)=\\;$\"+f'${sym.latex(sym.simplify(result))}$')"
   ]
  },
  {
   "cell_type": "markdown",
   "id": "26dc246a-55cd-433d-b4eb-1cc4364d5405",
   "metadata": {},
   "source": [
    "## 4. Составить уравнение касательной прямой и нормали к кривой $y=y(x)$, заданной уравнением $F(x; y)=0$ в точке $M_0(x_0;y_0)$:  \n",
    "### $x^3y-y^3x=6, \\quad M_0(2;1)$"
   ]
  },
  {
   "cell_type": "code",
   "execution_count": 123,
   "id": "61d2cc14-7803-4165-8da7-387eddb5642d",
   "metadata": {},
   "outputs": [
    {
     "data": {
      "text/markdown": [
       "Точка: $M(2, 1),\\quad$ уравнение: $x^{3} y + x y^{3} - 6$"
      ],
      "text/plain": [
       "<IPython.core.display.Markdown object>"
      ]
     },
     "metadata": {},
     "output_type": "display_data"
    },
    {
     "data": {
      "text/markdown": [
       "---"
      ],
      "text/plain": [
       "<IPython.core.display.Markdown object>"
      ]
     },
     "metadata": {},
     "output_type": "display_data"
    },
    {
     "data": {
      "text/markdown": [
       "Уравнение касательной: $\\quad y-1=- \\frac{13}{14}(x-2)$"
      ],
      "text/plain": [
       "<IPython.core.display.Markdown object>"
      ]
     },
     "metadata": {},
     "output_type": "display_data"
    },
    {
     "data": {
      "text/markdown": [
       "Уравнение нормали: $\\quad y-1=- \\frac{14}{13}(x-2)$"
      ],
      "text/plain": [
       "<IPython.core.display.Markdown object>"
      ]
     },
     "metadata": {},
     "output_type": "display_data"
    }
   ],
   "source": [
    "# Задаём символьную переменную\n",
    "x, y = sym.symbols('x y')\n",
    "# Задаём функцию z\n",
    "func = x**3*y + y**3*x - 6\n",
    "# Точка (x, y)\n",
    "M = (2, 1)\n",
    "# Вычисляем производную неявной функции\n",
    "k_def = -(sym.diff(func, x)/sym.diff(func, y))\n",
    "# Вычисляем коэффициент k в точке M\n",
    "k_ = k_def.subs({x:M[0], y:M[1]})\n",
    "\n",
    "# Выводим результат\n",
    "printmd(f'Точка: $M({M[0]}, {M[1]}),\\quad$ уравнение: ${sym.latex(func)}$')\n",
    "printmd('---')\n",
    "# Формула касательной y - y0 = k * (x -x0)\n",
    "printmd(f'Уравнение касательной: $\\quad y-{M[1]}={sym.latex(k_)}(x-{M[0]})$')\n",
    "# Формула нормали y - y0 = 1/k * (x -x0)\n",
    "printmd(f'Уравнение нормали: $\\quad y-{M[1]}={sym.latex(1/k_)}(x-{M[0]})$')"
   ]
  },
  {
   "cell_type": "markdown",
   "id": "a95d7f2c-acb0-4c83-99e3-14761636e254",
   "metadata": {},
   "source": [
    "## 5. Для данных функций найти требуемую частную производную или дифференциал:  \n",
    "### $z=sin\\,x \\,\\cdot\\, sin\\,y, \\quad d^2z$"
   ]
  },
  {
   "cell_type": "code",
   "execution_count": 184,
   "id": "37231a4f-4d1c-4b4a-aaa6-c9e4e7367d06",
   "metadata": {},
   "outputs": [
    {
     "data": {
      "text/markdown": [
       "$d^2z=\\;$$- dx^{2} \\sin{\\left(x \\right)} \\sin{\\left(y \\right)} + 2 dx dy \\cos{\\left(x \\right)} \\cos{\\left(y \\right)} - dy^{2} \\sin{\\left(x \\right)} \\sin{\\left(y \\right)}$"
      ],
      "text/plain": [
       "<IPython.core.display.Markdown object>"
      ]
     },
     "metadata": {},
     "output_type": "display_data"
    }
   ],
   "source": [
    "# Задаём символьную переменную\n",
    "x, y, dx, dy = sym.symbols('x y dx dy')\n",
    "# Задаём функцию z\n",
    "z = sym.sin(x) * sym.sin(y)\n",
    "\n",
    "# Вычисляем частные производные второго порядка\n",
    "z2_x = sym.diff(z, x, 2)\n",
    "z2_y = sym.diff(z, y, 2)\n",
    "# Вычисляем смешанную производную\n",
    "z_x = sym.diff(z, x)\n",
    "z_xy = sym.diff(z_x, y)\n",
    "# Вычисляем дифференциал второго порядка\n",
    "d2_z = z2_x*dx**2 + 2*z_xy*dx*dy + z2_y*dy**2\n",
    "# Выводим результат\n",
    "printmd('$d^2z=\\;$'+f'${sym.latex(d2_z)}$')"
   ]
  },
  {
   "cell_type": "markdown",
   "id": "dbacd4fe-92e8-438b-a0e9-1d9cbb45b89e",
   "metadata": {},
   "source": [
    "### $z=xy+sin(x+y), \\quad \\frac{\\partial ^2z}{\\partial x^2}$"
   ]
  },
  {
   "cell_type": "code",
   "execution_count": null,
   "id": "4333ea20-2908-4a61-bc66-f17854b52344",
   "metadata": {},
   "outputs": [],
   "source": []
  },
  {
   "cell_type": "code",
   "execution_count": null,
   "id": "0f7467ea-bf03-4245-87c6-536b4c9021cd",
   "metadata": {},
   "outputs": [],
   "source": []
  },
  {
   "cell_type": "code",
   "execution_count": null,
   "id": "b2c18920-50c0-451f-855a-f60553bca356",
   "metadata": {},
   "outputs": [],
   "source": []
  },
  {
   "cell_type": "code",
   "execution_count": null,
   "id": "da6d1c47-501a-45c6-bd48-d51e76908971",
   "metadata": {},
   "outputs": [],
   "source": []
  },
  {
   "cell_type": "code",
   "execution_count": null,
   "id": "15738dd5-7383-4cdb-a498-0c3a5a616b09",
   "metadata": {},
   "outputs": [],
   "source": []
  },
  {
   "cell_type": "code",
   "execution_count": null,
   "id": "d87f6069-317b-44d8-b8b6-0b552b8edb84",
   "metadata": {},
   "outputs": [],
   "source": []
  },
  {
   "cell_type": "code",
   "execution_count": null,
   "id": "387650ac-3a3a-4f52-bed9-513d0e1ae4fe",
   "metadata": {},
   "outputs": [],
   "source": []
  }
 ],
 "metadata": {
  "kernelspec": {
   "display_name": "Python 3 (ipykernel)",
   "language": "python",
   "name": "python3"
  },
  "language_info": {
   "codemirror_mode": {
    "name": "ipython",
    "version": 3
   },
   "file_extension": ".py",
   "mimetype": "text/x-python",
   "name": "python",
   "nbconvert_exporter": "python",
   "pygments_lexer": "ipython3",
   "version": "3.12.4"
  }
 },
 "nbformat": 4,
 "nbformat_minor": 5
}
