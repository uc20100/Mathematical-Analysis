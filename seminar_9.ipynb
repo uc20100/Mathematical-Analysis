{
 "cells": [
  {
   "cell_type": "markdown",
   "id": "912a21c4-adcc-41a5-80ce-a91e6c1a7abb",
   "metadata": {},
   "source": [
    "# ДЗ по 'Введение в математический анализ'\n",
    "### Урок 9. Производная функции нескольких переменных. Часть 2\n",
    "[Ссылка на ДЗ](https://drive.google.com/file/d/1p2wHIQXyOL4Z-d_bCPGzk2fE4Fg_DcwS/view)"
   ]
  },
  {
   "cell_type": "code",
   "execution_count": 1,
   "id": "92e596f2-be62-47ff-88cc-74f3e07c8150",
   "metadata": {},
   "outputs": [],
   "source": [
    "# Устанавливаем библиотеки, если они не установлены\n",
    "# !pip install sympy"
   ]
  },
  {
   "cell_type": "code",
   "execution_count": 2,
   "id": "93e6a9be-892e-488f-a219-0535cf6b8094",
   "metadata": {},
   "outputs": [],
   "source": [
    "# Подключаем необходимые библиотеки\n",
    "import sympy as sym\n",
    "from IPython.display import Markdown, display\n",
    "\n",
    "# Уберем warnings\n",
    "import warnings\n",
    "warnings.filterwarnings('ignore')"
   ]
  },
  {
   "cell_type": "code",
   "execution_count": 3,
   "id": "bb19b5c1-9bea-41c3-ad72-5e214cbfbf4f",
   "metadata": {},
   "outputs": [],
   "source": [
    "def printmd(string):\n",
    "    '''\n",
    "    Функция выводит на консоль, текст в разметке Markdown.\n",
    "\n",
    "    :param string: строка которую будем переделывать в Markdown разметку,\n",
    "    :return: вывод строки в Markdown разметке.\n",
    "    '''\n",
    "    display(Markdown(string))"
   ]
  },
  {
   "cell_type": "markdown",
   "id": "3d107da0-ced8-4e27-a7e2-5118bfc2ccc5",
   "metadata": {},
   "source": [
    "[Библиотека Sympy: символьные вычисления в Python](https://pythonist.ru/biblioteka-sympy-simvolnye-vychisleniya-v-python/)  \n",
    "[Википедия:Примеры оформления формул](https://ru.wikipedia.org/wiki/%D0%92%D0%B8%D0%BA%D0%B8%D0%BF%D0%B5%D0%B4%D0%B8%D1%8F:%D0%9F%D1%80%D0%B8%D0%BC%D0%B5%D1%80%D1%8B_%D0%BE%D1%84%D0%BE%D1%80%D0%BC%D0%BB%D0%B5%D0%BD%D0%B8%D1%8F_%D1%84%D0%BE%D1%80%D0%BC%D1%83%D0%BB)  \n",
    "[Специальные символы LaTeX](https://devhops.ru/latex/symbols/)  \n",
    "[latex Пробел (список команд) отступ в формуле - математический режим, пример, уменьшение пробела отступа](https://fkn.ktu10.com/?q=node/6813)"
   ]
  },
  {
   "cell_type": "markdown",
   "id": "3b848e91-3c7c-4b22-88fa-3796a16e039a",
   "metadata": {},
   "source": [
    "## 1. Найти $\\frac{dz}{dt}$, если $z=z(x;y), x=x(t), y=y(t)$:  \n",
    "### $z=x^2+y^2+xy, \\quad x=a\\,sin\\,t,\\, y=a\\,cos\\,t$"
   ]
  },
  {
   "cell_type": "code",
   "execution_count": null,
   "id": "c9db6b71-f619-4f04-9052-d786680c5920",
   "metadata": {},
   "outputs": [],
   "source": []
  },
  {
   "cell_type": "markdown",
   "id": "a3fb439e-403c-4491-8b72-4621442f5b0a",
   "metadata": {},
   "source": [
    "## 2. Для данных $z=f(x;y), x=x(u:v), y=y(u;v)$ найти $\\frac{dz}{du}, \\frac{dz}{dv}$ и $dz$:  \n",
    "### $z=x^3+y^3, \\quad x=uv,\\,y=\\frac{u}{v}$"
   ]
  },
  {
   "cell_type": "code",
   "execution_count": null,
   "id": "08bd9b67-d541-461b-948f-6eefe414f664",
   "metadata": {},
   "outputs": [],
   "source": []
  },
  {
   "cell_type": "markdown",
   "id": "c023e64c-5bf9-44d5-89e3-ec9eaafec3a4",
   "metadata": {},
   "source": [
    "## 3. Найти производные $y'(x)$ неявных функций, заданных уравнением:  \n",
    "### $xe^{2y}-y\\,ln\\,x=8$"
   ]
  },
  {
   "cell_type": "code",
   "execution_count": null,
   "id": "9edb080c-e0c0-4242-9cfc-6540069ed5e6",
   "metadata": {},
   "outputs": [],
   "source": []
  },
  {
   "cell_type": "markdown",
   "id": "26dc246a-55cd-433d-b4eb-1cc4364d5405",
   "metadata": {},
   "source": [
    "## 4. Составить уравнение касательной прямой и нормали к кривой $y=y(x)$, заданной уравнением $F(x; y)=0$ в точке $M_0(x_0;y_0)$:  \n",
    "### $x^3y-y^3x=6, \\quad M_0(2;1)$"
   ]
  },
  {
   "cell_type": "code",
   "execution_count": null,
   "id": "61d2cc14-7803-4165-8da7-387eddb5642d",
   "metadata": {},
   "outputs": [],
   "source": []
  },
  {
   "cell_type": "markdown",
   "id": "a95d7f2c-acb0-4c83-99e3-14761636e254",
   "metadata": {},
   "source": [
    "## Для данных функций найти требуемую частную производную или дифференциал:  \n",
    "### $z=sin\\,x \\,\\cdot\\, sin\\,y, \\quad d^2z$"
   ]
  },
  {
   "cell_type": "code",
   "execution_count": null,
   "id": "37231a4f-4d1c-4b4a-aaa6-c9e4e7367d06",
   "metadata": {},
   "outputs": [],
   "source": []
  },
  {
   "cell_type": "markdown",
   "id": "dbacd4fe-92e8-438b-a0e9-1d9cbb45b89e",
   "metadata": {},
   "source": [
    "### $z=xy+sin(x+y), \\quad \\frac{d^2z}{dx^2}$"
   ]
  },
  {
   "cell_type": "code",
   "execution_count": null,
   "id": "4333ea20-2908-4a61-bc66-f17854b52344",
   "metadata": {},
   "outputs": [],
   "source": []
  },
  {
   "cell_type": "code",
   "execution_count": null,
   "id": "0f7467ea-bf03-4245-87c6-536b4c9021cd",
   "metadata": {},
   "outputs": [],
   "source": []
  },
  {
   "cell_type": "code",
   "execution_count": null,
   "id": "b2c18920-50c0-451f-855a-f60553bca356",
   "metadata": {},
   "outputs": [],
   "source": []
  },
  {
   "cell_type": "code",
   "execution_count": null,
   "id": "da6d1c47-501a-45c6-bd48-d51e76908971",
   "metadata": {},
   "outputs": [],
   "source": []
  },
  {
   "cell_type": "markdown",
   "id": "faf8c586-9820-41e0-82a2-e73b1a57642e",
   "metadata": {},
   "source": [
    "### 1) $\\quad f(x)=x + e^{-x}$"
   ]
  }
 ],
 "metadata": {
  "kernelspec": {
   "display_name": "Python 3 (ipykernel)",
   "language": "python",
   "name": "python3"
  },
  "language_info": {
   "codemirror_mode": {
    "name": "ipython",
    "version": 3
   },
   "file_extension": ".py",
   "mimetype": "text/x-python",
   "name": "python",
   "nbconvert_exporter": "python",
   "pygments_lexer": "ipython3",
   "version": "3.12.4"
  }
 },
 "nbformat": 4,
 "nbformat_minor": 5
}
