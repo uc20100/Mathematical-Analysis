{
 "cells": [
  {
   "cell_type": "markdown",
   "id": "1171d83f-3072-40e9-a135-c5c94be23bba",
   "metadata": {},
   "source": [
    "# ДЗ по 'Введение в математический анализ'\n",
    "### Урок 10. Интеграл. Ряды. Часть 1\n",
    "[Ссылка на ДЗ](https://drive.google.com/file/d/1hPvvqoOZS5LccJwdV8E_y36bYmKteZ7T/view)"
   ]
  },
  {
   "cell_type": "code",
   "execution_count": 2,
   "id": "ceea7efc-49a8-4601-af5b-9c7a661aead2",
   "metadata": {},
   "outputs": [],
   "source": [
    "# Устанавливаем библиотеки, если они не установлены\n",
    "# !pip install sympy"
   ]
  },
  {
   "cell_type": "code",
   "execution_count": 3,
   "id": "f52f0ff1-9ecf-4200-ab07-e15e70ace09a",
   "metadata": {},
   "outputs": [],
   "source": [
    "# Подключаем необходимые библиотеки\n",
    "import sympy as sym\n",
    "from IPython.display import Markdown, display\n",
    "\n",
    "# Уберем warnings\n",
    "import warnings\n",
    "warnings.filterwarnings('ignore')"
   ]
  },
  {
   "cell_type": "code",
   "execution_count": 4,
   "id": "7cd2edae-d463-4d16-8eab-7c07dbcf8174",
   "metadata": {},
   "outputs": [],
   "source": [
    "def printmd(string):\n",
    "    '''\n",
    "    Функция выводит на консоль, текст в разметке Markdown.\n",
    "\n",
    "    :param string: строка которую будем переделывать в Markdown разметку,\n",
    "    :return: вывод строки в Markdown разметке.\n",
    "    '''\n",
    "    display(Markdown(string))"
   ]
  },
  {
   "cell_type": "markdown",
   "id": "1e4a4351-0129-45dd-8b0f-2adf0ff10619",
   "metadata": {},
   "source": [
    "[Библиотека Sympy: символьные вычисления в Python](https://pythonist.ru/biblioteka-sympy-simvolnye-vychisleniya-v-python/)  \n",
    "[Википедия:Примеры оформления формул](https://ru.wikipedia.org/wiki/%D0%92%D0%B8%D0%BA%D0%B8%D0%BF%D0%B5%D0%B4%D0%B8%D1%8F:%D0%9F%D1%80%D0%B8%D0%BC%D0%B5%D1%80%D1%8B_%D0%BE%D1%84%D0%BE%D1%80%D0%BC%D0%BB%D0%B5%D0%BD%D0%B8%D1%8F_%D1%84%D0%BE%D1%80%D0%BC%D1%83%D0%BB)  \n",
    "[Специальные символы LaTeX](https://devhops.ru/latex/symbols/)  \n",
    "[latex Пробел (список команд) отступ в формуле - математический режим, пример, уменьшение пробела отступа](https://fkn.ktu10.com/?q=node/6813)  \n",
    "[Как красиво писать формулы c LaTeX?](https://habr.com/ru/articles/723564/)  \n",
    "[Питон в научных вычислениях](https://www.inp.nsk.su/~grozin/python/python7.html)  \n",
    "[Математические формулы в LaTeX](https://ru.wikibooks.org/wiki/%D0%9C%D0%B0%D1%82%D0%B5%D0%BC%D0%B0%D1%82%D0%B8%D1%87%D0%B5%D1%81%D0%BA%D0%B8%D0%B5_%D1%84%D0%BE%D1%80%D0%BC%D1%83%D0%BB%D1%8B_%D0%B2_LaTeX)"
   ]
  },
  {
   "cell_type": "markdown",
   "id": "b150ef3e-5972-45bd-9122-bde8494d9c7b",
   "metadata": {},
   "source": [
    "## Найти интегралы: "
   ]
  },
  {
   "cell_type": "markdown",
   "id": "fa249dc7-786e-44fb-a67d-e1f8cc514ce9",
   "metadata": {},
   "source": [
    "### Задача 1"
   ]
  },
  {
   "cell_type": "code",
   "execution_count": 5,
   "id": "2bcc22b4-20d1-4314-92d2-68a78e9b3b3e",
   "metadata": {},
   "outputs": [
    {
     "data": {
      "text/latex": [
       "$\\displaystyle \\int \\frac{x^{4} + x^{2} - 6 x}{x^{3}}\\, dx = C + \\frac{x^{2}}{2} + \\log{\\left(x \\right)} + \\frac{6}{x}$"
      ],
      "text/plain": [
       "Eq(Integral((x**4 + x**2 - 6*x)/x**3, x), C + x**2/2 + log(x) + 6/x)"
      ]
     },
     "execution_count": 5,
     "metadata": {},
     "output_type": "execute_result"
    }
   ],
   "source": [
    "# Задаём символьную переменную\n",
    "x, c = sym.symbols('x C')\n",
    "# Задаём функцию\n",
    "func = (x**4 + x**2 - 6*x) / x**3\n",
    "# Вычисляем\n",
    "a=sym.Integral(func,x)\n",
    "sym.Eq(a,a.doit()+c)"
   ]
  },
  {
   "cell_type": "markdown",
   "id": "090ca832-1cc6-49f5-9e51-2978bdd9688a",
   "metadata": {},
   "source": [
    "### Задача 2"
   ]
  },
  {
   "cell_type": "code",
   "execution_count": 6,
   "id": "ba826dc4-012c-45f4-a46c-14b9fcc196a8",
   "metadata": {},
   "outputs": [
    {
     "data": {
      "text/latex": [
       "$\\displaystyle \\int \\cos{\\left(2 x \\right)}\\, dx = C + \\frac{\\sin{\\left(2 x \\right)}}{2}$"
      ],
      "text/plain": [
       "Eq(Integral(cos(2*x), x), C + sin(2*x)/2)"
      ]
     },
     "execution_count": 6,
     "metadata": {},
     "output_type": "execute_result"
    }
   ],
   "source": [
    "# Задаём функцию\n",
    "func = sym.cos(2*x)\n",
    "# Вычисляем\n",
    "a=sym.Integral(func,x)\n",
    "sym.Eq(a,a.doit()+c)"
   ]
  },
  {
   "cell_type": "markdown",
   "id": "18cd4da5-abff-424e-9a05-14b4b07bfd35",
   "metadata": {},
   "source": [
    "### Задача 3"
   ]
  },
  {
   "cell_type": "code",
   "execution_count": 7,
   "id": "6379d665-108d-4d7b-a669-59163eddc2bd",
   "metadata": {},
   "outputs": [
    {
     "data": {
      "text/latex": [
       "$\\displaystyle \\int \\frac{1}{\\left(3 x + 2\\right)^{4}}\\, dx = C - \\frac{1}{9 \\left(3 x + 2\\right)^{3}}$"
      ],
      "text/plain": [
       "Eq(Integral((3*x + 2)**(-4), x), C - 1/(9*(3*x + 2)**3))"
      ]
     },
     "execution_count": 7,
     "metadata": {},
     "output_type": "execute_result"
    }
   ],
   "source": [
    "# Задаём функцию\n",
    "func = 1/(3*x+2)**4\n",
    "# Вычисляем\n",
    "a=sym.Integral(func,x)\n",
    "sym.Eq(a,sym.factor(a.doit())+c)"
   ]
  },
  {
   "cell_type": "markdown",
   "id": "b9fa9f8f-42ac-48bf-822e-53b282b10fdf",
   "metadata": {},
   "source": [
    "### Задача 4"
   ]
  },
  {
   "cell_type": "code",
   "execution_count": 8,
   "id": "61ce641b-e8c4-40cc-8d6a-11a00f6b55f0",
   "metadata": {},
   "outputs": [
    {
     "data": {
      "text/latex": [
       "$\\displaystyle \\int \\frac{5 x - 1}{\\sqrt{4 - x^{2}}}\\, dx = C - 5 \\sqrt{4 - x^{2}} - \\operatorname{asin}{\\left(\\frac{x}{2} \\right)}$"
      ],
      "text/plain": [
       "Eq(Integral((5*x - 1)/sqrt(4 - x**2), x), C - 5*sqrt(4 - x**2) - asin(x/2))"
      ]
     },
     "execution_count": 8,
     "metadata": {},
     "output_type": "execute_result"
    }
   ],
   "source": [
    "# Задаём функцию\n",
    "func = (5*x - 1)/ sym.sqrt(4-x**2)\n",
    "# Вычисляем\n",
    "a=sym.Integral(func,x)\n",
    "sym.Eq(a,a.doit()+c)"
   ]
  },
  {
   "cell_type": "markdown",
   "id": "5f76c03f-2db7-4734-92a1-b3786fff5d76",
   "metadata": {},
   "source": [
    "### Задача 5"
   ]
  },
  {
   "cell_type": "code",
   "execution_count": 9,
   "id": "6342f89f-9b3d-4673-9ca8-906564bb4769",
   "metadata": {},
   "outputs": [
    {
     "data": {
      "text/latex": [
       "$\\displaystyle \\int \\frac{1}{\\sqrt{x} \\left(\\sqrt{x} + 1\\right)}\\, dx = C + 2 \\log{\\left(\\sqrt{x} + 1 \\right)}$"
      ],
      "text/plain": [
       "Eq(Integral(1/(sqrt(x)*(sqrt(x) + 1)), x), C + 2*log(sqrt(x) + 1))"
      ]
     },
     "execution_count": 9,
     "metadata": {},
     "output_type": "execute_result"
    }
   ],
   "source": [
    "# Задаём функцию\n",
    "func = 1/ (sym.sqrt(x)*(1+sym.sqrt(x)))\n",
    "# Вычисляем\n",
    "a=sym.Integral(func,x)\n",
    "sym.Eq(a,a.doit()+c)"
   ]
  },
  {
   "cell_type": "markdown",
   "id": "720a7ae7-9e4e-49f4-8ec9-f7ccd0d51cea",
   "metadata": {},
   "source": [
    "### Задача 6"
   ]
  },
  {
   "cell_type": "code",
   "execution_count": 14,
   "id": "0a6b0755-4f01-4392-80d2-be61fd4cb07c",
   "metadata": {},
   "outputs": [
    {
     "data": {
      "text/latex": [
       "$\\displaystyle \\int x^{2} \\cos{\\left(x \\right)}\\, dx = C + x^{2} \\sin{\\left(x \\right)} + 2 x \\cos{\\left(x \\right)} - 2 \\sin{\\left(x \\right)}$"
      ],
      "text/plain": [
       "Eq(Integral(x**2*cos(x), x), C + x**2*sin(x) + 2*x*cos(x) - 2*sin(x))"
      ]
     },
     "execution_count": 14,
     "metadata": {},
     "output_type": "execute_result"
    }
   ],
   "source": [
    "# Задаём функцию\n",
    "func = x**2*sym.cos(x)\n",
    "# Вычисляем\n",
    "a=sym.Integral(func,x)\n",
    "sym.Eq(a,a.doit()+c)"
   ]
  },
  {
   "cell_type": "markdown",
   "id": "c3278fe9-e754-4e40-9fc1-b30cbb0940e1",
   "metadata": {},
   "source": [
    "### Задача 7"
   ]
  },
  {
   "cell_type": "code",
   "execution_count": null,
   "id": "be93470c-e801-4b9f-85ab-76f43b6909cb",
   "metadata": {},
   "outputs": [],
   "source": []
  },
  {
   "cell_type": "markdown",
   "id": "b9aba05d-c41d-47a5-b3f4-f98d4cff86eb",
   "metadata": {},
   "source": [
    "### Задача 8"
   ]
  },
  {
   "cell_type": "code",
   "execution_count": null,
   "id": "08ac8c61-da67-4f8c-9c00-aee28f165e66",
   "metadata": {},
   "outputs": [],
   "source": []
  },
  {
   "cell_type": "markdown",
   "id": "6d2fcbc8-f8d1-4184-be37-4a5b3b4e5aa3",
   "metadata": {},
   "source": [
    "### Задача 9"
   ]
  },
  {
   "cell_type": "code",
   "execution_count": null,
   "id": "922d0f2f-989d-4b8d-9a83-2f9c34450c1b",
   "metadata": {},
   "outputs": [],
   "source": []
  },
  {
   "cell_type": "markdown",
   "id": "bc629c1c-0cc5-4922-aa4c-fcb6caff33a1",
   "metadata": {},
   "source": [
    "### Задача 10"
   ]
  },
  {
   "cell_type": "code",
   "execution_count": null,
   "id": "9444e6ea-a0e1-4ec7-8b34-4b7fc629476f",
   "metadata": {},
   "outputs": [],
   "source": []
  },
  {
   "cell_type": "markdown",
   "id": "fd44186f-70f1-4afa-bc98-614cdbb3c10f",
   "metadata": {},
   "source": [
    "### Задача 11"
   ]
  },
  {
   "cell_type": "code",
   "execution_count": null,
   "id": "e7aa5610-3b03-4d9a-9b66-89d6a41c13d8",
   "metadata": {},
   "outputs": [],
   "source": []
  },
  {
   "cell_type": "markdown",
   "id": "ae3c64c2-e7d0-43ae-8aa4-960ae24a8b0c",
   "metadata": {},
   "source": [
    "### Задача 12"
   ]
  },
  {
   "cell_type": "code",
   "execution_count": null,
   "id": "c748be9b-1981-45c3-9537-3b47a4191d17",
   "metadata": {},
   "outputs": [],
   "source": []
  },
  {
   "cell_type": "markdown",
   "id": "fee322c7-1e53-4020-bf04-43a5560c1fb9",
   "metadata": {},
   "source": [
    "### Задача 13"
   ]
  },
  {
   "cell_type": "code",
   "execution_count": null,
   "id": "a8792081-19e8-4ccf-a189-a85f75c86bbd",
   "metadata": {},
   "outputs": [],
   "source": []
  },
  {
   "cell_type": "markdown",
   "id": "2d4f42f7-a6f7-4ccb-9b4a-58e2efe3b520",
   "metadata": {},
   "source": [
    "### Задача 14"
   ]
  },
  {
   "cell_type": "code",
   "execution_count": null,
   "id": "241a23d8-9fa7-43fc-96a5-a6f136b67b42",
   "metadata": {},
   "outputs": [],
   "source": []
  },
  {
   "cell_type": "markdown",
   "id": "f73b1462-99d4-41d1-b2a4-dc5b971881ed",
   "metadata": {},
   "source": [
    "### Задача 15"
   ]
  },
  {
   "cell_type": "code",
   "execution_count": null,
   "id": "42c2d561-d450-46db-8af0-93fcd1d42ddf",
   "metadata": {},
   "outputs": [],
   "source": []
  },
  {
   "cell_type": "markdown",
   "id": "ce5f300a-11d0-4fed-833a-11afe0005434",
   "metadata": {},
   "source": [
    "### Задача 16"
   ]
  },
  {
   "cell_type": "code",
   "execution_count": null,
   "id": "1854d381-7bb9-4a26-b6c9-a865587c56ad",
   "metadata": {},
   "outputs": [],
   "source": []
  },
  {
   "cell_type": "markdown",
   "id": "dc9f9634-f124-42e0-a7d7-bc14642e6655",
   "metadata": {},
   "source": [
    "### Задача 17"
   ]
  },
  {
   "cell_type": "code",
   "execution_count": null,
   "id": "c708a5a5-75ba-494d-9aff-f222b3398dc5",
   "metadata": {},
   "outputs": [],
   "source": []
  },
  {
   "cell_type": "markdown",
   "id": "35dddfa5-8341-400a-b5f8-f0c8f67c0ea3",
   "metadata": {},
   "source": [
    "### Задача 18"
   ]
  },
  {
   "cell_type": "code",
   "execution_count": null,
   "id": "493e222a-f8f8-4a40-a607-8612c4d62348",
   "metadata": {},
   "outputs": [],
   "source": []
  },
  {
   "cell_type": "code",
   "execution_count": null,
   "id": "30a0aa92-494f-45a5-a63d-433cf5c25c01",
   "metadata": {},
   "outputs": [],
   "source": []
  }
 ],
 "metadata": {
  "kernelspec": {
   "display_name": "Python 3 (ipykernel)",
   "language": "python",
   "name": "python3"
  },
  "language_info": {
   "codemirror_mode": {
    "name": "ipython",
    "version": 3
   },
   "file_extension": ".py",
   "mimetype": "text/x-python",
   "name": "python",
   "nbconvert_exporter": "python",
   "pygments_lexer": "ipython3",
   "version": "3.12.4"
  }
 },
 "nbformat": 4,
 "nbformat_minor": 5
}
