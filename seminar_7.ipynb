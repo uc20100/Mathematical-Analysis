{
 "cells": [
  {
   "cell_type": "markdown",
   "id": "395e81e4-203b-4f58-aa92-95f3c8d01644",
   "metadata": {},
   "source": [
    "# ДЗ по 'Введение в математический анализ'\n",
    "### Урок 7. Производная функции одной переменной. Часть 2"
   ]
  },
  {
   "cell_type": "code",
   "execution_count": 1,
   "id": "8a1507eb-1937-4d08-9822-863d5ce6a09a",
   "metadata": {},
   "outputs": [],
   "source": [
    "# Устанавливаем библиотеки, если они не установлены\n",
    "# !pip install sympy"
   ]
  },
  {
   "cell_type": "code",
   "execution_count": 2,
   "id": "f8dfb3e2-809c-42ab-9b51-fae36014e442",
   "metadata": {},
   "outputs": [],
   "source": [
    "# Подключаем необходимые библиотеки\n",
    "import sympy as sym"
   ]
  },
  {
   "cell_type": "markdown",
   "id": "64a26367-f5f2-4413-90a3-4664ac977800",
   "metadata": {},
   "source": [
    "[Библиотека Sympy: символьные вычисления в Python](https://pythonist.ru/biblioteka-sympy-simvolnye-vychisleniya-v-python/)  \n",
    "[Википедия:Примеры оформления формул](https://ru.wikipedia.org/wiki/%D0%92%D0%B8%D0%BA%D0%B8%D0%BF%D0%B5%D0%B4%D0%B8%D1%8F:%D0%9F%D1%80%D0%B8%D0%BC%D0%B5%D1%80%D1%8B_%D0%BE%D1%84%D0%BE%D1%80%D0%BC%D0%BB%D0%B5%D0%BD%D0%B8%D1%8F_%D1%84%D0%BE%D1%80%D0%BC%D1%83%D0%BB)  \n",
    "[Специальные символы LaTeX](https://devhops.ru/latex/symbols/)  \n",
    "[latex Пробел (список команд) отступ в формуле - математический режим, пример, уменьшение пробела отступа](https://fkn.ktu10.com/?q=node/6813)"
   ]
  },
  {
   "cell_type": "markdown",
   "id": "1ff7e6b2-4139-4658-ab12-316a4792027f",
   "metadata": {},
   "source": [
    "## Найти интервалы возрастания и убывания функций"
   ]
  },
  {
   "cell_type": "markdown",
   "id": "b6f34228-3e6b-45fb-85b2-53e666297fc4",
   "metadata": {},
   "source": [
    "### 1) $\\quad f(x) + e^{-x}$"
   ]
  },
  {
   "cell_type": "markdown",
   "id": "61cfebae-5c05-4c96-a95c-098420d07565",
   "metadata": {},
   "source": [
    "### 2) $\\quad f(x)=x\\,ln\\,x$"
   ]
  },
  {
   "cell_type": "markdown",
   "id": "a441ace0-fc3a-47f3-9ebc-be8e53adeef4",
   "metadata": {},
   "source": [
    "### 3) $\\quad y=\\frac{1}{1-x^2}$"
   ]
  },
  {
   "cell_type": "code",
   "execution_count": null,
   "id": "cb6ad4e3-f0d6-4a5c-a87c-a38a7ce9b958",
   "metadata": {},
   "outputs": [],
   "source": []
  },
  {
   "cell_type": "markdown",
   "id": "f7ca9e22-205e-453b-b799-c2119a03d20d",
   "metadata": {},
   "source": [
    "## Найти экстремумы функций"
   ]
  },
  {
   "cell_type": "markdown",
   "id": "fabdde23-d775-4c55-a720-bca9dc7cd8ac",
   "metadata": {},
   "source": [
    "### 1) $\\quad f(x)=x^3-3x +1$"
   ]
  },
  {
   "cell_type": "markdown",
   "id": "36a3c2d6-bfb8-461d-94c2-f213a8f20379",
   "metadata": {},
   "source": [
    "### 2) $\\quad y = e^{x^2-4x+5}$"
   ]
  },
  {
   "cell_type": "markdown",
   "id": "c37f987a-0175-472a-9b02-57d3d8a8d799",
   "metadata": {},
   "source": [
    "### 3) $\\quad y=x-arctg\\,x$"
   ]
  },
  {
   "cell_type": "code",
   "execution_count": null,
   "id": "24981a62-341e-4db8-9916-a6703df31ad7",
   "metadata": {},
   "outputs": [],
   "source": []
  },
  {
   "cell_type": "markdown",
   "id": "f6ffcf0a-fb09-40a2-a497-04366d35a96b",
   "metadata": {},
   "source": [
    "## Найти интервалы выпуклости и точки перегиба функций"
   ]
  },
  {
   "cell_type": "markdown",
   "id": "f985e890-947c-46db-9059-421bd7ac38b8",
   "metadata": {},
   "source": [
    "### 1) $\\quad f(x)=e^{-x^2}$"
   ]
  },
  {
   "cell_type": "markdown",
   "id": "afd4b69f-86b3-4019-9c7b-43ffa95dd162",
   "metadata": {},
   "source": [
    "### 2) $\\quad y = cos\\,x$"
   ]
  },
  {
   "cell_type": "markdown",
   "id": "e3600293-ce5a-492d-92c6-0f2b8681dc61",
   "metadata": {},
   "source": [
    "### 3) $\\quad y =  x^5 - 10x^2 +7x$"
   ]
  },
  {
   "cell_type": "code",
   "execution_count": null,
   "id": "9e021869-f336-4d43-8cde-b9df70c5300d",
   "metadata": {},
   "outputs": [],
   "source": []
  },
  {
   "cell_type": "markdown",
   "id": "49230ea2-e822-4cd1-a7ed-c80c16f4b54b",
   "metadata": {},
   "source": [
    "## Найти асимптоты графиков функций"
   ]
  },
  {
   "cell_type": "markdown",
   "id": "12ab4f61-00ae-482d-b5a0-2fa6d4c88fd6",
   "metadata": {},
   "source": [
    "### 1) $\\quad y = \\frac {3x}{x+2}$"
   ]
  },
  {
   "cell_type": "markdown",
   "id": "cd870b8c-8373-4401-9935-3156319c8c42",
   "metadata": {},
   "source": [
    "### 2) $\\quad y = e^{-\\frac{1}{x}}$"
   ]
  },
  {
   "cell_type": "code",
   "execution_count": null,
   "id": "188f910f-a5a0-4d72-b794-68dd55caa2c5",
   "metadata": {},
   "outputs": [],
   "source": []
  },
  {
   "cell_type": "markdown",
   "id": "1412267f-eb16-44d5-8534-b9b4d79184a4",
   "metadata": {},
   "source": [
    "## Провести полное исследование и построить графики функций"
   ]
  },
  {
   "cell_type": "markdown",
   "id": "9a8b6c58-4cc1-4745-ab88-2bdba42c0329",
   "metadata": {},
   "source": [
    "### 1) $\\quad y = ln(1-x^2)$"
   ]
  },
  {
   "cell_type": "markdown",
   "id": "fd55aba3-0ec8-4cf5-b958-3c39cb0c32f1",
   "metadata": {},
   "source": [
    "### 2) $\\quad y=\\frac{x^2}{1-x^2}$"
   ]
  },
  {
   "cell_type": "markdown",
   "id": "480dda10-1701-4ccd-99d7-3667b40b3fd7",
   "metadata": {},
   "source": [
    "### 3) $\\quad y=x^2 \\cdot e^{-x}$"
   ]
  },
  {
   "cell_type": "markdown",
   "id": "7270de44-f697-481e-b49c-aaadf60eb940",
   "metadata": {},
   "source": [
    "### 4) $\\quad y= x -ln\\,x$"
   ]
  },
  {
   "cell_type": "code",
   "execution_count": null,
   "id": "dc860795-00c2-4909-b78f-1e3ee65e48c0",
   "metadata": {},
   "outputs": [],
   "source": []
  }
 ],
 "metadata": {
  "kernelspec": {
   "display_name": "Python 3 (ipykernel)",
   "language": "python",
   "name": "python3"
  },
  "language_info": {
   "codemirror_mode": {
    "name": "ipython",
    "version": 3
   },
   "file_extension": ".py",
   "mimetype": "text/x-python",
   "name": "python",
   "nbconvert_exporter": "python",
   "pygments_lexer": "ipython3",
   "version": "3.12.4"
  }
 },
 "nbformat": 4,
 "nbformat_minor": 5
}
