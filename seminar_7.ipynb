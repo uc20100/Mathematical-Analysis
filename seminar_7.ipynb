{
 "cells": [
  {
   "cell_type": "markdown",
   "id": "395e81e4-203b-4f58-aa92-95f3c8d01644",
   "metadata": {},
   "source": [
    "# ДЗ по 'Введение в математический анализ'\n",
    "### Урок 7. Производная функции одной переменной. Часть 2"
   ]
  },
  {
   "cell_type": "code",
   "execution_count": null,
   "id": "3f49b6b2-338a-4e01-827b-39efd6f5a99d",
   "metadata": {},
   "outputs": [],
   "source": []
  }
 ],
 "metadata": {
  "kernelspec": {
   "display_name": "Python 3 (ipykernel)",
   "language": "python",
   "name": "python3"
  },
  "language_info": {
   "codemirror_mode": {
    "name": "ipython",
    "version": 3
   },
   "file_extension": ".py",
   "mimetype": "text/x-python",
   "name": "python",
   "nbconvert_exporter": "python",
   "pygments_lexer": "ipython3",
   "version": "3.12.4"
  }
 },
 "nbformat": 4,
 "nbformat_minor": 5
}
