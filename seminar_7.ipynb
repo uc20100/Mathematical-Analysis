{
 "cells": [
  {
   "cell_type": "markdown",
   "id": "395e81e4-203b-4f58-aa92-95f3c8d01644",
   "metadata": {},
   "source": [
    "# ДЗ по 'Введение в математический анализ'\n",
    "### Урок 7. Производная функции одной переменной. Часть 2\n",
    "[Ссылка на ДЗ](https://drive.google.com/file/d/1u5UK088wMLi7az_PfAeJ6DHukmi21Y8H/view)"
   ]
  },
  {
   "cell_type": "code",
   "execution_count": 139,
   "id": "8a1507eb-1937-4d08-9822-863d5ce6a09a",
   "metadata": {},
   "outputs": [],
   "source": [
    "# Устанавливаем библиотеки, если они не установлены\n",
    "# !pip install sympy"
   ]
  },
  {
   "cell_type": "code",
   "execution_count": 140,
   "id": "f8dfb3e2-809c-42ab-9b51-fae36014e442",
   "metadata": {},
   "outputs": [],
   "source": [
    "# Подключаем необходимые библиотеки\n",
    "import sympy as sym\n",
    "from IPython.display import Markdown, display\n",
    "\n",
    "# Уберем warnings\n",
    "import warnings\n",
    "warnings.filterwarnings('ignore')"
   ]
  },
  {
   "cell_type": "code",
   "execution_count": 141,
   "id": "4c9874b1-6e5d-4dd6-b7ca-78e04366ac73",
   "metadata": {},
   "outputs": [],
   "source": [
    "def printmd(string):\n",
    "    '''\n",
    "    Функция выводит на консоль, текст в разметке Markdown.\n",
    "\n",
    "    :param string: строка которую будем переделывать в Markdown разметку,\n",
    "    :return: вывод строки в Markdown разметке.\n",
    "    '''\n",
    "    display(Markdown(string))"
   ]
  },
  {
   "cell_type": "markdown",
   "id": "64a26367-f5f2-4413-90a3-4664ac977800",
   "metadata": {},
   "source": [
    "[Библиотека Sympy: символьные вычисления в Python](https://pythonist.ru/biblioteka-sympy-simvolnye-vychisleniya-v-python/)  \n",
    "[Википедия:Примеры оформления формул](https://ru.wikipedia.org/wiki/%D0%92%D0%B8%D0%BA%D0%B8%D0%BF%D0%B5%D0%B4%D0%B8%D1%8F:%D0%9F%D1%80%D0%B8%D0%BC%D0%B5%D1%80%D1%8B_%D0%BE%D1%84%D0%BE%D1%80%D0%BC%D0%BB%D0%B5%D0%BD%D0%B8%D1%8F_%D1%84%D0%BE%D1%80%D0%BC%D1%83%D0%BB)  \n",
    "[Специальные символы LaTeX](https://devhops.ru/latex/symbols/)  \n",
    "[latex Пробел (список команд) отступ в формуле - математический режим, пример, уменьшение пробела отступа](https://fkn.ktu10.com/?q=node/6813)"
   ]
  },
  {
   "cell_type": "markdown",
   "id": "1ff7e6b2-4139-4658-ab12-316a4792027f",
   "metadata": {
    "jp-MarkdownHeadingCollapsed": true
   },
   "source": [
    "## Найти интервалы возрастания и убывания функций"
   ]
  },
  {
   "cell_type": "markdown",
   "id": "b6f34228-3e6b-45fb-85b2-53e666297fc4",
   "metadata": {},
   "source": [
    "### 1) $\\quad f(x)=x + e^{-x}$"
   ]
  },
  {
   "cell_type": "code",
   "execution_count": 142,
   "id": "6b2eb2ca-1b63-4d6b-8404-dc8b18ff5dc1",
   "metadata": {},
   "outputs": [
    {
     "name": "stdout",
     "output_type": "stream",
     "text": [
      "Производная f'(x)\n"
     ]
    },
    {
     "data": {
      "text/latex": [
       "$\\displaystyle - x e^{- x} + e^{- x}$"
      ],
      "text/plain": [
       "-x*exp(-x) + exp(-x)"
      ]
     },
     "execution_count": 142,
     "metadata": {},
     "output_type": "execute_result"
    }
   ],
   "source": [
    "# Задаём символьную переменную\n",
    "x = sym.symbols('x')\n",
    "# Задаём функцию\n",
    "func = x * sym.exp(-x)\n",
    "# Вчисляем производную\n",
    "print(\"Производная f'(x)\")\n",
    "df = sym.diff(func, x)\n",
    "df"
   ]
  },
  {
   "cell_type": "code",
   "execution_count": 143,
   "id": "507bbd02-2860-4aa3-9a74-2022e3857340",
   "metadata": {},
   "outputs": [
    {
     "name": "stdout",
     "output_type": "stream",
     "text": [
      "Стационарная точка f'(x)=0\n"
     ]
    },
    {
     "data": {
      "text/latex": [
       "$\\displaystyle \\left\\{1\\right\\}$"
      ],
      "text/plain": [
       "{1}"
      ]
     },
     "execution_count": 143,
     "metadata": {},
     "output_type": "execute_result"
    }
   ],
   "source": [
    "# Найдем значения х, когда производная равна нулю (стационарные точки) \n",
    "val = sym.solveset(df, x)\n",
    "print(\"Стационарная точка f'(x)=0\")\n",
    "val"
   ]
  },
  {
   "cell_type": "code",
   "execution_count": 144,
   "id": "d68540b1-7f48-4154-a98d-5a9099386657",
   "metadata": {},
   "outputs": [
    {
     "name": "stdout",
     "output_type": "stream",
     "text": [
      "Значение слева от стационарной точки\n"
     ]
    },
    {
     "data": {
      "text/latex": [
       "$\\displaystyle 1$"
      ],
      "text/plain": [
       "1"
      ]
     },
     "execution_count": 144,
     "metadata": {},
     "output_type": "execute_result"
    }
   ],
   "source": [
    "# Вычисляем значение слева от стационарной точки\n",
    "print('Значение слева от стационарной точки')\n",
    "df.subs({x: 0})"
   ]
  },
  {
   "cell_type": "code",
   "execution_count": 145,
   "id": "22c27900-5070-4b6f-b5e8-abfbefb1987b",
   "metadata": {},
   "outputs": [
    {
     "name": "stdout",
     "output_type": "stream",
     "text": [
      "Значение справа от стационарной точки\n"
     ]
    },
    {
     "data": {
      "text/latex": [
       "$\\displaystyle - \\frac{1}{e^{2}}$"
      ],
      "text/plain": [
       "-exp(-2)"
      ]
     },
     "execution_count": 145,
     "metadata": {},
     "output_type": "execute_result"
    }
   ],
   "source": [
    "# Вычисляем значение справа от стационарной точки\n",
    "print('Значение справа от стационарной точки')\n",
    "df.subs({x: 2})"
   ]
  },
  {
   "cell_type": "markdown",
   "id": "4d69f191-f8dd-4e40-8ec2-a6085226c9fb",
   "metadata": {},
   "source": [
    "1 - стационарная точка;  \n",
    "(-ထ; 1) - функция возрастает;  \n",
    "(1; +ထ) - функция убывает."
   ]
  },
  {
   "cell_type": "markdown",
   "id": "61cfebae-5c05-4c96-a95c-098420d07565",
   "metadata": {},
   "source": [
    "### 2) $\\quad f(x)=x\\,ln\\,x$"
   ]
  },
  {
   "cell_type": "code",
   "execution_count": 146,
   "id": "a53313b1-a257-48ae-b320-be270e11a1eb",
   "metadata": {},
   "outputs": [
    {
     "name": "stdout",
     "output_type": "stream",
     "text": [
      "Производная f'(x)\n"
     ]
    },
    {
     "data": {
      "text/latex": [
       "$\\displaystyle \\log{\\left(x \\right)} + 1$"
      ],
      "text/plain": [
       "log(x) + 1"
      ]
     },
     "execution_count": 146,
     "metadata": {},
     "output_type": "execute_result"
    }
   ],
   "source": [
    "# Задаём функцию\n",
    "func = x * sym.ln(x)\n",
    "# Вчисляем производную\n",
    "print(\"Производная f'(x)\")\n",
    "df = sym.diff(func, x)\n",
    "df"
   ]
  },
  {
   "cell_type": "code",
   "execution_count": 147,
   "id": "10ef1f9e-d029-404e-a0d5-610a7b0a811d",
   "metadata": {},
   "outputs": [
    {
     "name": "stdout",
     "output_type": "stream",
     "text": [
      "Стационарная точка f'(x)=0\n"
     ]
    },
    {
     "data": {
      "text/latex": [
       "$\\displaystyle \\left\\{e^{-1}\\right\\}$"
      ],
      "text/plain": [
       "{exp(-1)}"
      ]
     },
     "execution_count": 147,
     "metadata": {},
     "output_type": "execute_result"
    }
   ],
   "source": [
    "# Найдем значения х, когда производная равна нулю (стационарные точки) \n",
    "val = sym.solveset(df, x)\n",
    "print(\"Стационарная точка f'(x)=0\")\n",
    "val"
   ]
  },
  {
   "cell_type": "code",
   "execution_count": 148,
   "id": "fe794bfa-ee4f-4035-a0ac-b168189a0ef7",
   "metadata": {},
   "outputs": [
    {
     "data": {
      "text/markdown": [
       "Значение слева от стационарной точки, при  `х` = $e^{-2}$"
      ],
      "text/plain": [
       "<IPython.core.display.Markdown object>"
      ]
     },
     "metadata": {},
     "output_type": "display_data"
    },
    {
     "data": {
      "text/latex": [
       "$\\displaystyle -1$"
      ],
      "text/plain": [
       "-1"
      ]
     },
     "execution_count": 148,
     "metadata": {},
     "output_type": "execute_result"
    }
   ],
   "source": [
    "# Вычисляем значение слева от стационарной точки\n",
    "val_left = sym.exp(-2)\n",
    "printmd(f'Значение слева от стационарной точки, при  `х` = ${sym.latex(val_left)}$')\n",
    "df.subs({x: val_left})"
   ]
  },
  {
   "cell_type": "code",
   "execution_count": 149,
   "id": "bf07247a-45a9-4652-8555-f4e19f66486b",
   "metadata": {},
   "outputs": [
    {
     "data": {
      "text/markdown": [
       "Значение справа от стационарной точки, при  `х` = $1$"
      ],
      "text/plain": [
       "<IPython.core.display.Markdown object>"
      ]
     },
     "metadata": {},
     "output_type": "display_data"
    },
    {
     "data": {
      "text/latex": [
       "$\\displaystyle 1$"
      ],
      "text/plain": [
       "1"
      ]
     },
     "execution_count": 149,
     "metadata": {},
     "output_type": "execute_result"
    }
   ],
   "source": [
    "# Вычисляем значение справа от стационарной точки\n",
    "val_right = sym.exp(0)\n",
    "printmd(f'Значение справа от стационарной точки, при  `х` = ${sym.latex(val_right)}$')\n",
    "df.subs({x: val_right})"
   ]
  },
  {
   "cell_type": "markdown",
   "id": "b3f473c5-5fe7-4c15-8104-04d7ad2001e2",
   "metadata": {},
   "source": [
    "$e^{-1}$ - стационарная точка;  \n",
    "[0, -ထ] - критические точки (производная функции не существует)  \n",
    "$(0, e^{-1})$ - функция убывает;  \n",
    "$(e^{-1}, +ထ)$ - функция возрастает."
   ]
  },
  {
   "cell_type": "markdown",
   "id": "a441ace0-fc3a-47f3-9ebc-be8e53adeef4",
   "metadata": {},
   "source": [
    "### 3) $\\quad y=\\frac{1}{1-x^2}$"
   ]
  },
  {
   "cell_type": "code",
   "execution_count": 150,
   "id": "51d594e9-e7dc-480f-acf9-232bf8222038",
   "metadata": {},
   "outputs": [
    {
     "name": "stdout",
     "output_type": "stream",
     "text": [
      "Производная f'(x)\n"
     ]
    },
    {
     "data": {
      "text/latex": [
       "$\\displaystyle \\frac{2 x}{\\left(1 - x^{2}\\right)^{2}}$"
      ],
      "text/plain": [
       "2*x/(1 - x**2)**2"
      ]
     },
     "execution_count": 150,
     "metadata": {},
     "output_type": "execute_result"
    }
   ],
   "source": [
    "# Задаём функцию\n",
    "func = 1 / (1 - x**2)\n",
    "# Вчисляем производную\n",
    "print(\"Производная f'(x)\")\n",
    "df = sym.diff(func, x)\n",
    "df"
   ]
  },
  {
   "cell_type": "code",
   "execution_count": 151,
   "id": "057c1635-9e2f-4690-b0a8-d9ed2ebcbcf3",
   "metadata": {},
   "outputs": [
    {
     "name": "stdout",
     "output_type": "stream",
     "text": [
      "Стационарная точка f'(x)=0\n"
     ]
    },
    {
     "data": {
      "text/latex": [
       "$\\displaystyle \\left\\{0\\right\\}$"
      ],
      "text/plain": [
       "{0}"
      ]
     },
     "execution_count": 151,
     "metadata": {},
     "output_type": "execute_result"
    }
   ],
   "source": [
    "# Найдем значения х, когда производная равна нулю (стационарные точки) \n",
    "val = sym.solveset(df, x)\n",
    "print(\"Стационарная точка f'(x)=0\")\n",
    "val"
   ]
  },
  {
   "cell_type": "code",
   "execution_count": 152,
   "id": "d1957498-6b47-46dd-a3bc-64fa74d8cf89",
   "metadata": {},
   "outputs": [
    {
     "data": {
      "text/markdown": [
       "Значение слева от стационарной точки, при  `х` = $-2$"
      ],
      "text/plain": [
       "<IPython.core.display.Markdown object>"
      ]
     },
     "metadata": {},
     "output_type": "display_data"
    },
    {
     "data": {
      "text/latex": [
       "$\\displaystyle - \\frac{4}{9}$"
      ],
      "text/plain": [
       "-4/9"
      ]
     },
     "execution_count": 152,
     "metadata": {},
     "output_type": "execute_result"
    }
   ],
   "source": [
    "# Вычисляем значение слева от стационарной точки\n",
    "val_left = -2\n",
    "printmd(f'Значение слева от стационарной точки, при  `х` = ${sym.latex(val_left)}$')\n",
    "df.subs({x: val_left})"
   ]
  },
  {
   "cell_type": "code",
   "execution_count": 153,
   "id": "62c5bfc1-b765-4fe7-9ad3-e58ae13bf695",
   "metadata": {},
   "outputs": [
    {
     "data": {
      "text/markdown": [
       "Значение справа от стационарной точки, при  `х` = $2$"
      ],
      "text/plain": [
       "<IPython.core.display.Markdown object>"
      ]
     },
     "metadata": {},
     "output_type": "display_data"
    },
    {
     "data": {
      "text/latex": [
       "$\\displaystyle \\frac{4}{9}$"
      ],
      "text/plain": [
       "4/9"
      ]
     },
     "execution_count": 153,
     "metadata": {},
     "output_type": "execute_result"
    }
   ],
   "source": [
    "# Вычисляем значение справа от стационарной точки\n",
    "val_right = 2\n",
    "printmd(f'Значение справа от стационарной точки, при  `х` = ${sym.latex(val_right)}$')\n",
    "df.subs({x: val_right})"
   ]
  },
  {
   "cell_type": "markdown",
   "id": "dede51ae-833d-455a-8c6b-402f4f899ccf",
   "metadata": {},
   "source": [
    "0 - стационарная точка (производная функции равна 0);  \n",
    "1 и (-1) - критические точки (производная функции не существует)  \n",
    "$(-ထ; -1)\\, \\cup \\, (-1; 0) $ - функция убывает;    \n",
    "$(0; 1)\\, \\cup \\, (1; +ထ) $ - функция возрастает."
   ]
  },
  {
   "cell_type": "markdown",
   "id": "f7ca9e22-205e-453b-b799-c2119a03d20d",
   "metadata": {
    "jp-MarkdownHeadingCollapsed": true
   },
   "source": [
    "## Найти экстремумы функций"
   ]
  },
  {
   "cell_type": "markdown",
   "id": "fabdde23-d775-4c55-a720-bca9dc7cd8ac",
   "metadata": {},
   "source": [
    "### 1) $\\quad f(x)=x^3-3x +1$"
   ]
  },
  {
   "cell_type": "code",
   "execution_count": 154,
   "id": "31e6b0a8-6ab3-4306-af39-e067690fd863",
   "metadata": {},
   "outputs": [
    {
     "name": "stdout",
     "output_type": "stream",
     "text": [
      "Производная f'(x)\n"
     ]
    },
    {
     "data": {
      "text/latex": [
       "$\\displaystyle 3 x^{2} - 3$"
      ],
      "text/plain": [
       "3*x**2 - 3"
      ]
     },
     "execution_count": 154,
     "metadata": {},
     "output_type": "execute_result"
    }
   ],
   "source": [
    "# Задаём функцию\n",
    "func = x**3 - 3*x + 1\n",
    "# Вчисляем производную\n",
    "print(\"Производная f'(x)\")\n",
    "df = sym.diff(func, x)\n",
    "df"
   ]
  },
  {
   "cell_type": "code",
   "execution_count": 155,
   "id": "1b7d91b4-e199-4521-9c7c-e64a7b3e32ee",
   "metadata": {},
   "outputs": [
    {
     "name": "stdout",
     "output_type": "stream",
     "text": [
      "Стационарная точки f'(x)=0\n"
     ]
    },
    {
     "data": {
      "text/latex": [
       "$\\displaystyle \\left\\{-1, 1\\right\\}$"
      ],
      "text/plain": [
       "{-1, 1}"
      ]
     },
     "execution_count": 155,
     "metadata": {},
     "output_type": "execute_result"
    }
   ],
   "source": [
    "# Найдем значения х, когда производная равна нулю\n",
    "val = sym.solveset(df, x)\n",
    "print(\"Стационарная точки f'(x)=0\")\n",
    "val"
   ]
  },
  {
   "cell_type": "code",
   "execution_count": 156,
   "id": "ee487a8b-3dc6-465a-a14e-7e572b54dcfb",
   "metadata": {},
   "outputs": [
    {
     "name": "stdout",
     "output_type": "stream",
     "text": [
      "Производная f''(x)\n"
     ]
    },
    {
     "data": {
      "text/latex": [
       "$\\displaystyle 6 x$"
      ],
      "text/plain": [
       "6*x"
      ]
     },
     "execution_count": 156,
     "metadata": {},
     "output_type": "execute_result"
    }
   ],
   "source": [
    "# Вчисляем производную второго порядка\n",
    "print(\"Производная f''(x)\")\n",
    "df_2 = sym.diff(func, x, 2)\n",
    "df_2"
   ]
  },
  {
   "cell_type": "code",
   "execution_count": 157,
   "id": "f1f21763-3023-4eda-af9d-cd535192bec5",
   "metadata": {},
   "outputs": [
    {
     "name": "stdout",
     "output_type": "stream",
     "text": [
      "Подставим стационарные точки во вторую производную\n"
     ]
    },
    {
     "data": {
      "text/markdown": [
       "$f''(-1) = -6,\\quad f''(1) = 6$"
      ],
      "text/plain": [
       "<IPython.core.display.Markdown object>"
      ]
     },
     "metadata": {},
     "output_type": "display_data"
    }
   ],
   "source": [
    "# Подставим значения в производную\n",
    "print(\"Подставим стационарные точки во вторую производную\")\n",
    "printmd(f\"$f''({val.args[0]}) = {df_2.subs({x: val.args[0]})},\\quad f''({val.args[1]}) = {df_2.subs({x: val.args[1]})}$\")"
   ]
  },
  {
   "cell_type": "code",
   "execution_count": 158,
   "id": "c4de8658-3f58-46cc-a239-4b227ae5b9df",
   "metadata": {},
   "outputs": [
    {
     "data": {
      "text/markdown": [
       "Т.к. $\\quad f'(-1)=0,\\; f''(-1)<0 \\quad ⇒ x=(-1)\\quad$ точка локального максимума $f(-1)=3$"
      ],
      "text/plain": [
       "<IPython.core.display.Markdown object>"
      ]
     },
     "metadata": {},
     "output_type": "display_data"
    },
    {
     "data": {
      "text/markdown": [
       "Т.к. $\\quad f'(1)=0,\\; f''(1)>0 \\quad ⇒ x=(1)\\quad$ точка локального минимума $f(1)=-1$"
      ],
      "text/plain": [
       "<IPython.core.display.Markdown object>"
      ]
     },
     "metadata": {},
     "output_type": "display_data"
    }
   ],
   "source": [
    "# Вывод\n",
    "printmd(f\"Т.к. $\\quad f'(-1)=0,\\; f''(-1)<0 \\quad ⇒ x=(-1)\\quad$ точка локального максимума $f(-1)={func.subs({x: -1})}$\")\n",
    "printmd(f\"Т.к. $\\quad f'(1)=0,\\; f''(1)>0 \\quad ⇒ x=(1)\\quad$ точка локального минимума $f(1)={func.subs({x: 1})}$\")"
   ]
  },
  {
   "cell_type": "markdown",
   "id": "36a3c2d6-bfb8-461d-94c2-f213a8f20379",
   "metadata": {},
   "source": [
    "### 2) $\\quad y = e^{x^2-4x+5}$"
   ]
  },
  {
   "cell_type": "code",
   "execution_count": 159,
   "id": "9923d813-f68e-4ba5-aa73-ef994febad7e",
   "metadata": {},
   "outputs": [
    {
     "name": "stdout",
     "output_type": "stream",
     "text": [
      "Производная f'(x)\n"
     ]
    },
    {
     "data": {
      "text/latex": [
       "$\\displaystyle \\left(2 x - 4\\right) e^{x^{2} - 4 x + 5}$"
      ],
      "text/plain": [
       "(2*x - 4)*exp(x**2 - 4*x + 5)"
      ]
     },
     "execution_count": 159,
     "metadata": {},
     "output_type": "execute_result"
    }
   ],
   "source": [
    "# Задаём функцию\n",
    "func = sym.exp(x**2 - 4*x + 5)\n",
    "# Вчисляем производную\n",
    "print(\"Производная f'(x)\")\n",
    "df = sym.diff(func, x)\n",
    "df"
   ]
  },
  {
   "cell_type": "code",
   "execution_count": 160,
   "id": "85e07701-d7fa-4625-b48c-cc2fa328f503",
   "metadata": {},
   "outputs": [
    {
     "name": "stdout",
     "output_type": "stream",
     "text": [
      "Стационарная точки f'(x)=0\n"
     ]
    },
    {
     "data": {
      "text/latex": [
       "$\\displaystyle \\left\\{2\\right\\}$"
      ],
      "text/plain": [
       "{2}"
      ]
     },
     "execution_count": 160,
     "metadata": {},
     "output_type": "execute_result"
    }
   ],
   "source": [
    "# Найдем значения х, когда производная равна нулю\n",
    "val = sym.solveset(df, x)\n",
    "print(\"Стационарная точки f'(x)=0\")\n",
    "val"
   ]
  },
  {
   "cell_type": "code",
   "execution_count": 161,
   "id": "6e372147-b443-402b-bf6a-e86050825485",
   "metadata": {},
   "outputs": [
    {
     "name": "stdout",
     "output_type": "stream",
     "text": [
      "Производная f''(x)\n"
     ]
    },
    {
     "data": {
      "text/latex": [
       "$\\displaystyle 2 \\left(2 \\left(x - 2\\right)^{2} + 1\\right) e^{x^{2} - 4 x + 5}$"
      ],
      "text/plain": [
       "2*(2*(x - 2)**2 + 1)*exp(x**2 - 4*x + 5)"
      ]
     },
     "execution_count": 161,
     "metadata": {},
     "output_type": "execute_result"
    }
   ],
   "source": [
    "# Вчисляем производную второго порядка\n",
    "print(\"Производная f''(x)\")\n",
    "df_2 = sym.diff(func, x, 2)\n",
    "df_2"
   ]
  },
  {
   "cell_type": "code",
   "execution_count": 162,
   "id": "d9fb1a5f-987b-439f-a33e-1464f90ada8a",
   "metadata": {},
   "outputs": [
    {
     "name": "stdout",
     "output_type": "stream",
     "text": [
      "Подставим стационарную точку во вторую производную\n"
     ]
    },
    {
     "data": {
      "text/markdown": [
       "$f''(2) = 2 e$"
      ],
      "text/plain": [
       "<IPython.core.display.Markdown object>"
      ]
     },
     "metadata": {},
     "output_type": "display_data"
    }
   ],
   "source": [
    "# Подставим значения в производную\n",
    "print(\"Подставим стационарную точку во вторую производную\")\n",
    "printmd(f\"$f''({val.args[0]}) = {sym.latex(df_2.subs({x: val.args[0]}))}$\")"
   ]
  },
  {
   "cell_type": "code",
   "execution_count": 163,
   "id": "6b781b8a-cf83-489d-af8e-efee33ac129b",
   "metadata": {},
   "outputs": [
    {
     "data": {
      "text/markdown": [
       "Т.к. $\\quad f'(2)=0,\\; f''(2)>0 \\quad ⇒ x=2\\quad$ точка локального минимума f(2)=$e^{- 8 e + 5 + 4 e^{2}}$"
      ],
      "text/plain": [
       "<IPython.core.display.Markdown object>"
      ]
     },
     "metadata": {},
     "output_type": "display_data"
    }
   ],
   "source": [
    "# Вывод\n",
    "printmd(f\"Т.к. $\\quad f'({val.args[0]})=0,\\; f''({val.args[0]})>0 \\quad ⇒ x={val.args[0]}\\quad$ точка локального минимума f({val.args[0]})=${sym.latex(func.subs({x: df_2.subs({x: val.args[0]})}))}$\")"
   ]
  },
  {
   "cell_type": "markdown",
   "id": "c37f987a-0175-472a-9b02-57d3d8a8d799",
   "metadata": {},
   "source": [
    "### 3) $\\quad y=x-arctg\\,x$"
   ]
  },
  {
   "cell_type": "code",
   "execution_count": 164,
   "id": "fae4be6d-ce1e-4665-93ef-418e04b24120",
   "metadata": {},
   "outputs": [
    {
     "name": "stdout",
     "output_type": "stream",
     "text": [
      "Производная f'(x)\n"
     ]
    },
    {
     "data": {
      "text/latex": [
       "$\\displaystyle 1 - \\frac{1}{x^{2} + 1}$"
      ],
      "text/plain": [
       "1 - 1/(x**2 + 1)"
      ]
     },
     "execution_count": 164,
     "metadata": {},
     "output_type": "execute_result"
    }
   ],
   "source": [
    "# Задаём функцию\n",
    "func = x - sym.atan(x)\n",
    "# Вчисляем производную\n",
    "print(\"Производная f'(x)\")\n",
    "df = sym.diff(func, x)\n",
    "df"
   ]
  },
  {
   "cell_type": "code",
   "execution_count": 165,
   "id": "99b13a0e-77cf-46c3-ae98-af2be193934e",
   "metadata": {},
   "outputs": [
    {
     "name": "stdout",
     "output_type": "stream",
     "text": [
      "Стационарная точки f'(x)=0\n"
     ]
    },
    {
     "data": {
      "text/latex": [
       "$\\displaystyle \\left\\{0\\right\\}$"
      ],
      "text/plain": [
       "{0}"
      ]
     },
     "execution_count": 165,
     "metadata": {},
     "output_type": "execute_result"
    }
   ],
   "source": [
    "# Найдем значения х, когда производная равна нулю\n",
    "val = sym.solveset(df, x)\n",
    "print(\"Стационарная точки f'(x)=0\")\n",
    "val"
   ]
  },
  {
   "cell_type": "code",
   "execution_count": 166,
   "id": "dc3d6e0d-eff6-4e30-8496-feb6a2a40a8f",
   "metadata": {},
   "outputs": [
    {
     "name": "stdout",
     "output_type": "stream",
     "text": [
      "Производная f''(x)\n"
     ]
    },
    {
     "data": {
      "text/latex": [
       "$\\displaystyle \\frac{2 x}{\\left(x^{2} + 1\\right)^{2}}$"
      ],
      "text/plain": [
       "2*x/(x**2 + 1)**2"
      ]
     },
     "execution_count": 166,
     "metadata": {},
     "output_type": "execute_result"
    }
   ],
   "source": [
    "# Вчисляем производную второго порядка\n",
    "print(\"Производная f''(x)\")\n",
    "df_2 = sym.diff(func, x, 2)\n",
    "df_2"
   ]
  },
  {
   "cell_type": "code",
   "execution_count": 167,
   "id": "33832d35-ee22-4bbb-8c76-6fd035cb1b40",
   "metadata": {},
   "outputs": [
    {
     "name": "stdout",
     "output_type": "stream",
     "text": [
      "Подставим стационарную точку во вторую производную\n"
     ]
    },
    {
     "data": {
      "text/markdown": [
       "$f''(0) = 0$"
      ],
      "text/plain": [
       "<IPython.core.display.Markdown object>"
      ]
     },
     "metadata": {},
     "output_type": "display_data"
    }
   ],
   "source": [
    "# Подставим значения в производную\n",
    "print(\"Подставим стационарную точку во вторую производную\")\n",
    "printmd(f\"$f''({val.args[0]}) = {sym.latex(df_2.subs({x: val.args[0]}))}$\")"
   ]
  },
  {
   "cell_type": "code",
   "execution_count": 169,
   "id": "f4a26259-1733-45c0-84a9-6be99776dadf",
   "metadata": {},
   "outputs": [
    {
     "data": {
      "text/markdown": [
       "Т.к. $\\quad f'(0)=0,\\; f''(0)=0 \\quad ⇒ x=0\\quad$ точка перегиба f(0)=$0$"
      ],
      "text/plain": [
       "<IPython.core.display.Markdown object>"
      ]
     },
     "metadata": {},
     "output_type": "display_data"
    }
   ],
   "source": [
    "# Вывод\n",
    "printmd(f\"Т.к. $\\quad f'({val.args[0]})=0,\\; f''({val.args[0]})=0 \\quad ⇒ x={val.args[0]}\\quad$ точка перегиба f({val.args[0]})=${sym.latex(func.subs({x: df_2.subs({x: val.args[0]})}))}$\")"
   ]
  },
  {
   "cell_type": "markdown",
   "id": "f6ffcf0a-fb09-40a2-a497-04366d35a96b",
   "metadata": {},
   "source": [
    "## Найти интервалы выпуклости и точки перегиба функций"
   ]
  },
  {
   "cell_type": "markdown",
   "id": "f985e890-947c-46db-9059-421bd7ac38b8",
   "metadata": {},
   "source": [
    "### 1) $\\quad f(x)=e^{-x^2}$"
   ]
  },
  {
   "cell_type": "markdown",
   "id": "afd4b69f-86b3-4019-9c7b-43ffa95dd162",
   "metadata": {},
   "source": [
    "### 2) $\\quad y = cos\\,x$"
   ]
  },
  {
   "cell_type": "markdown",
   "id": "e3600293-ce5a-492d-92c6-0f2b8681dc61",
   "metadata": {},
   "source": [
    "### 3) $\\quad y =  x^5 - 10x^2 +7x$"
   ]
  },
  {
   "cell_type": "code",
   "execution_count": null,
   "id": "9e021869-f336-4d43-8cde-b9df70c5300d",
   "metadata": {},
   "outputs": [],
   "source": []
  },
  {
   "cell_type": "markdown",
   "id": "49230ea2-e822-4cd1-a7ed-c80c16f4b54b",
   "metadata": {},
   "source": [
    "## Найти асимптоты графиков функций"
   ]
  },
  {
   "cell_type": "markdown",
   "id": "12ab4f61-00ae-482d-b5a0-2fa6d4c88fd6",
   "metadata": {},
   "source": [
    "### 1) $\\quad y = \\frac {3x}{x+2}$"
   ]
  },
  {
   "cell_type": "markdown",
   "id": "cd870b8c-8373-4401-9935-3156319c8c42",
   "metadata": {},
   "source": [
    "### 2) $\\quad y = e^{-\\frac{1}{x}}$"
   ]
  },
  {
   "cell_type": "code",
   "execution_count": null,
   "id": "188f910f-a5a0-4d72-b794-68dd55caa2c5",
   "metadata": {},
   "outputs": [],
   "source": []
  },
  {
   "cell_type": "markdown",
   "id": "1412267f-eb16-44d5-8534-b9b4d79184a4",
   "metadata": {},
   "source": [
    "## Провести полное исследование и построить графики функций"
   ]
  },
  {
   "cell_type": "markdown",
   "id": "9a8b6c58-4cc1-4745-ab88-2bdba42c0329",
   "metadata": {},
   "source": [
    "### 1) $\\quad y = ln(1-x^2)$"
   ]
  },
  {
   "cell_type": "markdown",
   "id": "fd55aba3-0ec8-4cf5-b958-3c39cb0c32f1",
   "metadata": {},
   "source": [
    "### 2) $\\quad y=\\frac{x^2}{1-x^2}$"
   ]
  },
  {
   "cell_type": "markdown",
   "id": "480dda10-1701-4ccd-99d7-3667b40b3fd7",
   "metadata": {},
   "source": [
    "### 3) $\\quad y=x^2 \\cdot e^{-x}$"
   ]
  },
  {
   "cell_type": "markdown",
   "id": "7270de44-f697-481e-b49c-aaadf60eb940",
   "metadata": {},
   "source": [
    "### 4) $\\quad y= x -ln\\,x$"
   ]
  },
  {
   "cell_type": "code",
   "execution_count": null,
   "id": "dc860795-00c2-4909-b78f-1e3ee65e48c0",
   "metadata": {},
   "outputs": [],
   "source": []
  }
 ],
 "metadata": {
  "kernelspec": {
   "display_name": "Python 3 (ipykernel)",
   "language": "python",
   "name": "python3"
  },
  "language_info": {
   "codemirror_mode": {
    "name": "ipython",
    "version": 3
   },
   "file_extension": ".py",
   "mimetype": "text/x-python",
   "name": "python",
   "nbconvert_exporter": "python",
   "pygments_lexer": "ipython3",
   "version": "3.12.4"
  }
 },
 "nbformat": 4,
 "nbformat_minor": 5
}
