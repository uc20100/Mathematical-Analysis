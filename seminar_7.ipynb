{
 "cells": [
  {
   "cell_type": "markdown",
   "id": "395e81e4-203b-4f58-aa92-95f3c8d01644",
   "metadata": {},
   "source": [
    "# ДЗ по 'Введение в математический анализ'\n",
    "### Урок 7. Производная функции одной переменной. Часть 2\n",
    "[Ссылка на ДЗ](https://drive.google.com/file/d/1u5UK088wMLi7az_PfAeJ6DHukmi21Y8H/view)"
   ]
  },
  {
   "cell_type": "code",
   "execution_count": 1,
   "id": "8a1507eb-1937-4d08-9822-863d5ce6a09a",
   "metadata": {},
   "outputs": [],
   "source": [
    "# Устанавливаем библиотеки, если они не установлены\n",
    "# !pip install sympy"
   ]
  },
  {
   "cell_type": "code",
   "execution_count": 2,
   "id": "f8dfb3e2-809c-42ab-9b51-fae36014e442",
   "metadata": {},
   "outputs": [],
   "source": [
    "# Подключаем необходимые библиотеки\n",
    "import sympy as sym\n",
    "from IPython.display import Markdown, display\n",
    "\n",
    "# Уберем warnings\n",
    "import warnings\n",
    "warnings.filterwarnings('ignore')"
   ]
  },
  {
   "cell_type": "code",
   "execution_count": 3,
   "id": "4c9874b1-6e5d-4dd6-b7ca-78e04366ac73",
   "metadata": {},
   "outputs": [],
   "source": [
    "def printmd(string):\n",
    "    '''\n",
    "    Функция выводит на консоль, текст в разметке Markdown.\n",
    "\n",
    "    :param string: строка которую будем переделывать в Markdown разметку,\n",
    "    :return: вывод строки в Markdown разметке.\n",
    "    '''\n",
    "    display(Markdown(string))"
   ]
  },
  {
   "cell_type": "markdown",
   "id": "64a26367-f5f2-4413-90a3-4664ac977800",
   "metadata": {},
   "source": [
    "[Библиотека Sympy: символьные вычисления в Python](https://pythonist.ru/biblioteka-sympy-simvolnye-vychisleniya-v-python/)  \n",
    "[Википедия:Примеры оформления формул](https://ru.wikipedia.org/wiki/%D0%92%D0%B8%D0%BA%D0%B8%D0%BF%D0%B5%D0%B4%D0%B8%D1%8F:%D0%9F%D1%80%D0%B8%D0%BC%D0%B5%D1%80%D1%8B_%D0%BE%D1%84%D0%BE%D1%80%D0%BC%D0%BB%D0%B5%D0%BD%D0%B8%D1%8F_%D1%84%D0%BE%D1%80%D0%BC%D1%83%D0%BB)  \n",
    "[Специальные символы LaTeX](https://devhops.ru/latex/symbols/)  \n",
    "[latex Пробел (список команд) отступ в формуле - математический режим, пример, уменьшение пробела отступа](https://fkn.ktu10.com/?q=node/6813)"
   ]
  },
  {
   "cell_type": "markdown",
   "id": "1ff7e6b2-4139-4658-ab12-316a4792027f",
   "metadata": {
    "jp-MarkdownHeadingCollapsed": true
   },
   "source": [
    "## Найти интервалы возрастания и убывания функций"
   ]
  },
  {
   "cell_type": "markdown",
   "id": "b6f34228-3e6b-45fb-85b2-53e666297fc4",
   "metadata": {},
   "source": [
    "### 1) $\\quad f(x)=x + e^{-x}$"
   ]
  },
  {
   "cell_type": "code",
   "execution_count": 4,
   "id": "6b2eb2ca-1b63-4d6b-8404-dc8b18ff5dc1",
   "metadata": {},
   "outputs": [
    {
     "name": "stdout",
     "output_type": "stream",
     "text": [
      "Производная f'(x)\n"
     ]
    },
    {
     "data": {
      "text/latex": [
       "$\\displaystyle - x e^{- x} + e^{- x}$"
      ],
      "text/plain": [
       "-x*exp(-x) + exp(-x)"
      ]
     },
     "execution_count": 4,
     "metadata": {},
     "output_type": "execute_result"
    }
   ],
   "source": [
    "# Задаём символьную переменную\n",
    "x = sym.symbols('x')\n",
    "# Задаём функцию\n",
    "func = x * sym.exp(-x)\n",
    "# Вчисляем производную\n",
    "print(\"Производная f'(x)\")\n",
    "df = sym.diff(func, x)\n",
    "df"
   ]
  },
  {
   "cell_type": "code",
   "execution_count": 5,
   "id": "507bbd02-2860-4aa3-9a74-2022e3857340",
   "metadata": {},
   "outputs": [
    {
     "name": "stdout",
     "output_type": "stream",
     "text": [
      "Стационарная точка f'(x)=0\n"
     ]
    },
    {
     "data": {
      "text/latex": [
       "$\\displaystyle \\left\\{1\\right\\}$"
      ],
      "text/plain": [
       "{1}"
      ]
     },
     "execution_count": 5,
     "metadata": {},
     "output_type": "execute_result"
    }
   ],
   "source": [
    "# Найдем значения х, когда производная равна нулю (стационарные точки) \n",
    "val = sym.solveset(df, x)\n",
    "print(\"Стационарная точка f'(x)=0\")\n",
    "val"
   ]
  },
  {
   "cell_type": "code",
   "execution_count": 6,
   "id": "d68540b1-7f48-4154-a98d-5a9099386657",
   "metadata": {},
   "outputs": [
    {
     "name": "stdout",
     "output_type": "stream",
     "text": [
      "Значение слева от стационарной точки\n"
     ]
    },
    {
     "data": {
      "text/latex": [
       "$\\displaystyle 1$"
      ],
      "text/plain": [
       "1"
      ]
     },
     "execution_count": 6,
     "metadata": {},
     "output_type": "execute_result"
    }
   ],
   "source": [
    "# Вычисляем значение слева от стационарной точки\n",
    "print('Значение слева от стационарной точки')\n",
    "df.subs({x: 0})"
   ]
  },
  {
   "cell_type": "code",
   "execution_count": 7,
   "id": "22c27900-5070-4b6f-b5e8-abfbefb1987b",
   "metadata": {},
   "outputs": [
    {
     "name": "stdout",
     "output_type": "stream",
     "text": [
      "Значение справа от стационарной точки\n"
     ]
    },
    {
     "data": {
      "text/latex": [
       "$\\displaystyle - \\frac{1}{e^{2}}$"
      ],
      "text/plain": [
       "-exp(-2)"
      ]
     },
     "execution_count": 7,
     "metadata": {},
     "output_type": "execute_result"
    }
   ],
   "source": [
    "# Вычисляем значение справа от стационарной точки\n",
    "print('Значение справа от стационарной точки')\n",
    "df.subs({x: 2})"
   ]
  },
  {
   "cell_type": "markdown",
   "id": "4d69f191-f8dd-4e40-8ec2-a6085226c9fb",
   "metadata": {},
   "source": [
    "$x = 1$ - стационарная точка;  \n",
    "(-ထ; 1) - функция возрастает;  \n",
    "(1; +ထ) - функция убывает."
   ]
  },
  {
   "cell_type": "markdown",
   "id": "61cfebae-5c05-4c96-a95c-098420d07565",
   "metadata": {},
   "source": [
    "### 2) $\\quad f(x)=x\\,ln\\,x$"
   ]
  },
  {
   "cell_type": "code",
   "execution_count": 8,
   "id": "a53313b1-a257-48ae-b320-be270e11a1eb",
   "metadata": {},
   "outputs": [
    {
     "name": "stdout",
     "output_type": "stream",
     "text": [
      "Производная f'(x)\n"
     ]
    },
    {
     "data": {
      "text/latex": [
       "$\\displaystyle \\log{\\left(x \\right)} + 1$"
      ],
      "text/plain": [
       "log(x) + 1"
      ]
     },
     "execution_count": 8,
     "metadata": {},
     "output_type": "execute_result"
    }
   ],
   "source": [
    "# Задаём функцию\n",
    "func = x * sym.ln(x)\n",
    "# Вчисляем производную\n",
    "print(\"Производная f'(x)\")\n",
    "df = sym.diff(func, x)\n",
    "df"
   ]
  },
  {
   "cell_type": "code",
   "execution_count": 9,
   "id": "10ef1f9e-d029-404e-a0d5-610a7b0a811d",
   "metadata": {},
   "outputs": [
    {
     "name": "stdout",
     "output_type": "stream",
     "text": [
      "Стационарная точка f'(x)=0\n"
     ]
    },
    {
     "data": {
      "text/latex": [
       "$\\displaystyle \\left\\{e^{-1}\\right\\}$"
      ],
      "text/plain": [
       "{exp(-1)}"
      ]
     },
     "execution_count": 9,
     "metadata": {},
     "output_type": "execute_result"
    }
   ],
   "source": [
    "# Найдем значения х, когда производная равна нулю (стационарные точки) \n",
    "val = sym.solveset(df, x)\n",
    "print(\"Стационарная точка f'(x)=0\")\n",
    "val"
   ]
  },
  {
   "cell_type": "code",
   "execution_count": 10,
   "id": "fe794bfa-ee4f-4035-a0ac-b168189a0ef7",
   "metadata": {},
   "outputs": [
    {
     "data": {
      "text/markdown": [
       "Значение слева от стационарной точки, при  `х` = $e^{-2}$"
      ],
      "text/plain": [
       "<IPython.core.display.Markdown object>"
      ]
     },
     "metadata": {},
     "output_type": "display_data"
    },
    {
     "data": {
      "text/latex": [
       "$\\displaystyle -1$"
      ],
      "text/plain": [
       "-1"
      ]
     },
     "execution_count": 10,
     "metadata": {},
     "output_type": "execute_result"
    }
   ],
   "source": [
    "# Вычисляем значение слева от стационарной точки\n",
    "val_left = sym.exp(-2)\n",
    "printmd(f'Значение слева от стационарной точки, при  `х` = ${sym.latex(val_left)}$')\n",
    "df.subs({x: val_left})"
   ]
  },
  {
   "cell_type": "code",
   "execution_count": 11,
   "id": "bf07247a-45a9-4652-8555-f4e19f66486b",
   "metadata": {},
   "outputs": [
    {
     "data": {
      "text/markdown": [
       "Значение справа от стационарной точки, при  `х` = $1$"
      ],
      "text/plain": [
       "<IPython.core.display.Markdown object>"
      ]
     },
     "metadata": {},
     "output_type": "display_data"
    },
    {
     "data": {
      "text/latex": [
       "$\\displaystyle 1$"
      ],
      "text/plain": [
       "1"
      ]
     },
     "execution_count": 11,
     "metadata": {},
     "output_type": "execute_result"
    }
   ],
   "source": [
    "# Вычисляем значение справа от стационарной точки\n",
    "val_right = sym.exp(0)\n",
    "printmd(f'Значение справа от стационарной точки, при  `х` = ${sym.latex(val_right)}$')\n",
    "df.subs({x: val_right})"
   ]
  },
  {
   "cell_type": "markdown",
   "id": "b3f473c5-5fe7-4c15-8104-04d7ad2001e2",
   "metadata": {},
   "source": [
    "$x=e^{-1}$ - стационарная точка;  \n",
    "$x \\leq 0$ - критические точки (производная функции не существует)  \n",
    "$(0, e^{-1})$ - функция убывает;  \n",
    "$(e^{-1}, +ထ)$ - функция возрастает."
   ]
  },
  {
   "cell_type": "markdown",
   "id": "a441ace0-fc3a-47f3-9ebc-be8e53adeef4",
   "metadata": {},
   "source": [
    "### 3) $\\quad y=\\frac{1}{1-x^2}$"
   ]
  },
  {
   "cell_type": "code",
   "execution_count": 146,
   "id": "51d594e9-e7dc-480f-acf9-232bf8222038",
   "metadata": {},
   "outputs": [
    {
     "name": "stdout",
     "output_type": "stream",
     "text": [
      "Производная f'(x)\n"
     ]
    },
    {
     "data": {
      "text/latex": [
       "$\\displaystyle \\frac{2 x}{\\left(1 - x^{2}\\right)^{2}}$"
      ],
      "text/plain": [
       "2*x/(1 - x**2)**2"
      ]
     },
     "execution_count": 146,
     "metadata": {},
     "output_type": "execute_result"
    }
   ],
   "source": [
    "# Задаём функцию\n",
    "func = 1 / (1 - x**2)\n",
    "# Вчисляем производную\n",
    "print(\"Производная f'(x)\")\n",
    "df = sym.diff(func, x)\n",
    "df"
   ]
  },
  {
   "cell_type": "code",
   "execution_count": 147,
   "id": "057c1635-9e2f-4690-b0a8-d9ed2ebcbcf3",
   "metadata": {},
   "outputs": [
    {
     "name": "stdout",
     "output_type": "stream",
     "text": [
      "Стационарная точка f'(x)=0\n"
     ]
    },
    {
     "data": {
      "text/latex": [
       "$\\displaystyle \\left\\{0\\right\\}$"
      ],
      "text/plain": [
       "{0}"
      ]
     },
     "execution_count": 147,
     "metadata": {},
     "output_type": "execute_result"
    }
   ],
   "source": [
    "# Найдем значения х, когда производная равна нулю (стационарные точки) \n",
    "val = sym.solveset(df, x)\n",
    "print(\"Стационарная точка f'(x)=0\")\n",
    "val"
   ]
  },
  {
   "cell_type": "code",
   "execution_count": 148,
   "id": "d1957498-6b47-46dd-a3bc-64fa74d8cf89",
   "metadata": {},
   "outputs": [
    {
     "data": {
      "text/markdown": [
       "Значение слева от стационарной точки, при  `х` = $-2$"
      ],
      "text/plain": [
       "<IPython.core.display.Markdown object>"
      ]
     },
     "metadata": {},
     "output_type": "display_data"
    },
    {
     "data": {
      "text/latex": [
       "$\\displaystyle - \\frac{4}{9}$"
      ],
      "text/plain": [
       "-4/9"
      ]
     },
     "execution_count": 148,
     "metadata": {},
     "output_type": "execute_result"
    }
   ],
   "source": [
    "# Вычисляем значение слева от стационарной точки\n",
    "val_left = -2\n",
    "printmd(f'Значение слева от стационарной точки, при  `х` = ${sym.latex(val_left)}$')\n",
    "df.subs({x: val_left})"
   ]
  },
  {
   "cell_type": "code",
   "execution_count": 149,
   "id": "62c5bfc1-b765-4fe7-9ad3-e58ae13bf695",
   "metadata": {},
   "outputs": [
    {
     "data": {
      "text/markdown": [
       "Значение справа от стационарной точки, при  `х` = $2$"
      ],
      "text/plain": [
       "<IPython.core.display.Markdown object>"
      ]
     },
     "metadata": {},
     "output_type": "display_data"
    },
    {
     "data": {
      "text/latex": [
       "$\\displaystyle \\frac{4}{9}$"
      ],
      "text/plain": [
       "4/9"
      ]
     },
     "execution_count": 149,
     "metadata": {},
     "output_type": "execute_result"
    }
   ],
   "source": [
    "# Вычисляем значение справа от стационарной точки\n",
    "val_right = 2\n",
    "printmd(f'Значение справа от стационарной точки, при  `х` = ${sym.latex(val_right)}$')\n",
    "df.subs({x: val_right})"
   ]
  },
  {
   "cell_type": "markdown",
   "id": "dede51ae-833d-455a-8c6b-402f4f899ccf",
   "metadata": {},
   "source": [
    "$x=0$ - стационарная точка (производная функции равна 0);  \n",
    "$x=1$, $x=-1$ - критические точки (производная функции не существует)  \n",
    "$(-ထ; -1)\\, \\cup \\, (-1; 0) $ - функция убывает;    \n",
    "$(0; 1)\\, \\cup \\, (1; +ထ) $ - функция возрастает."
   ]
  },
  {
   "cell_type": "markdown",
   "id": "f7ca9e22-205e-453b-b799-c2119a03d20d",
   "metadata": {
    "jp-MarkdownHeadingCollapsed": true
   },
   "source": [
    "## Найти экстремумы функций"
   ]
  },
  {
   "cell_type": "markdown",
   "id": "fabdde23-d775-4c55-a720-bca9dc7cd8ac",
   "metadata": {},
   "source": [
    "### 1) $\\quad f(x)=x^3-3x +1$"
   ]
  },
  {
   "cell_type": "code",
   "execution_count": 16,
   "id": "31e6b0a8-6ab3-4306-af39-e067690fd863",
   "metadata": {},
   "outputs": [
    {
     "name": "stdout",
     "output_type": "stream",
     "text": [
      "Производная f'(x)\n"
     ]
    },
    {
     "data": {
      "text/latex": [
       "$\\displaystyle 3 x^{2} - 3$"
      ],
      "text/plain": [
       "3*x**2 - 3"
      ]
     },
     "execution_count": 16,
     "metadata": {},
     "output_type": "execute_result"
    }
   ],
   "source": [
    "# Задаём функцию\n",
    "func = x**3 - 3*x + 1\n",
    "# Вчисляем производную\n",
    "print(\"Производная f'(x)\")\n",
    "df = sym.diff(func, x)\n",
    "df"
   ]
  },
  {
   "cell_type": "code",
   "execution_count": 17,
   "id": "1b7d91b4-e199-4521-9c7c-e64a7b3e32ee",
   "metadata": {},
   "outputs": [
    {
     "name": "stdout",
     "output_type": "stream",
     "text": [
      "Стационарная точки f'(x)=0\n"
     ]
    },
    {
     "data": {
      "text/latex": [
       "$\\displaystyle \\left\\{-1, 1\\right\\}$"
      ],
      "text/plain": [
       "{-1, 1}"
      ]
     },
     "execution_count": 17,
     "metadata": {},
     "output_type": "execute_result"
    }
   ],
   "source": [
    "# Найдем значения х, когда производная равна нулю\n",
    "val = sym.solveset(df, x)\n",
    "print(\"Стационарная точки f'(x)=0\")\n",
    "val"
   ]
  },
  {
   "cell_type": "code",
   "execution_count": 18,
   "id": "ee487a8b-3dc6-465a-a14e-7e572b54dcfb",
   "metadata": {},
   "outputs": [
    {
     "name": "stdout",
     "output_type": "stream",
     "text": [
      "Производная f''(x)\n"
     ]
    },
    {
     "data": {
      "text/latex": [
       "$\\displaystyle 6 x$"
      ],
      "text/plain": [
       "6*x"
      ]
     },
     "execution_count": 18,
     "metadata": {},
     "output_type": "execute_result"
    }
   ],
   "source": [
    "# Вчисляем производную второго порядка\n",
    "print(\"Производная f''(x)\")\n",
    "df_2 = sym.diff(func, x, 2)\n",
    "df_2"
   ]
  },
  {
   "cell_type": "code",
   "execution_count": 19,
   "id": "f1f21763-3023-4eda-af9d-cd535192bec5",
   "metadata": {},
   "outputs": [
    {
     "name": "stdout",
     "output_type": "stream",
     "text": [
      "Подставим стационарные точки во вторую производную\n"
     ]
    },
    {
     "data": {
      "text/markdown": [
       "$f''(-1) = -6,\\quad f''(1) = 6$"
      ],
      "text/plain": [
       "<IPython.core.display.Markdown object>"
      ]
     },
     "metadata": {},
     "output_type": "display_data"
    }
   ],
   "source": [
    "# Подставим значения в производную\n",
    "print(\"Подставим стационарные точки во вторую производную\")\n",
    "printmd(f\"$f''({val.args[0]}) = {df_2.subs({x: val.args[0]})},\\quad f''({val.args[1]}) = {df_2.subs({x: val.args[1]})}$\")"
   ]
  },
  {
   "cell_type": "code",
   "execution_count": 20,
   "id": "c4de8658-3f58-46cc-a239-4b227ae5b9df",
   "metadata": {},
   "outputs": [
    {
     "data": {
      "text/markdown": [
       "Т.к. $\\quad f'(-1)=0,\\; f''(-1)<0 \\quad ⇒ x=(-1)\\quad$ точка локального максимума $f(-1)=3$"
      ],
      "text/plain": [
       "<IPython.core.display.Markdown object>"
      ]
     },
     "metadata": {},
     "output_type": "display_data"
    },
    {
     "data": {
      "text/markdown": [
       "Т.к. $\\quad f'(1)=0,\\; f''(1)>0 \\quad ⇒ x=(1)\\quad$ точка локального минимума $f(1)=-1$"
      ],
      "text/plain": [
       "<IPython.core.display.Markdown object>"
      ]
     },
     "metadata": {},
     "output_type": "display_data"
    }
   ],
   "source": [
    "# Вывод\n",
    "printmd(f\"Т.к. $\\quad f'(-1)=0,\\; f''(-1)<0 \\quad ⇒ x=(-1)\\quad$ точка локального максимума $f(-1)={func.subs({x: -1})}$\")\n",
    "printmd(f\"Т.к. $\\quad f'(1)=0,\\; f''(1)>0 \\quad ⇒ x=(1)\\quad$ точка локального минимума $f(1)={func.subs({x: 1})}$\")"
   ]
  },
  {
   "cell_type": "markdown",
   "id": "36a3c2d6-bfb8-461d-94c2-f213a8f20379",
   "metadata": {},
   "source": [
    "### 2) $\\quad y = e^{x^2-4x+5}$"
   ]
  },
  {
   "cell_type": "code",
   "execution_count": 21,
   "id": "9923d813-f68e-4ba5-aa73-ef994febad7e",
   "metadata": {},
   "outputs": [
    {
     "name": "stdout",
     "output_type": "stream",
     "text": [
      "Производная f'(x)\n"
     ]
    },
    {
     "data": {
      "text/latex": [
       "$\\displaystyle \\left(2 x - 4\\right) e^{x^{2} - 4 x + 5}$"
      ],
      "text/plain": [
       "(2*x - 4)*exp(x**2 - 4*x + 5)"
      ]
     },
     "execution_count": 21,
     "metadata": {},
     "output_type": "execute_result"
    }
   ],
   "source": [
    "# Задаём функцию\n",
    "func = sym.exp(x**2 - 4*x + 5)\n",
    "# Вчисляем производную\n",
    "print(\"Производная f'(x)\")\n",
    "df = sym.diff(func, x)\n",
    "df"
   ]
  },
  {
   "cell_type": "code",
   "execution_count": 22,
   "id": "85e07701-d7fa-4625-b48c-cc2fa328f503",
   "metadata": {},
   "outputs": [
    {
     "name": "stdout",
     "output_type": "stream",
     "text": [
      "Стационарная точки f'(x)=0\n"
     ]
    },
    {
     "data": {
      "text/latex": [
       "$\\displaystyle \\left\\{2\\right\\}$"
      ],
      "text/plain": [
       "{2}"
      ]
     },
     "execution_count": 22,
     "metadata": {},
     "output_type": "execute_result"
    }
   ],
   "source": [
    "# Найдем значения х, когда производная равна нулю\n",
    "val = sym.solveset(df, x)\n",
    "print(\"Стационарная точки f'(x)=0\")\n",
    "val"
   ]
  },
  {
   "cell_type": "code",
   "execution_count": 23,
   "id": "6e372147-b443-402b-bf6a-e86050825485",
   "metadata": {},
   "outputs": [
    {
     "name": "stdout",
     "output_type": "stream",
     "text": [
      "Производная f\"(x)\n"
     ]
    },
    {
     "data": {
      "text/latex": [
       "$\\displaystyle 2 \\left(2 \\left(x - 2\\right)^{2} + 1\\right) e^{x^{2} - 4 x + 5}$"
      ],
      "text/plain": [
       "2*(2*(x - 2)**2 + 1)*exp(x**2 - 4*x + 5)"
      ]
     },
     "execution_count": 23,
     "metadata": {},
     "output_type": "execute_result"
    }
   ],
   "source": [
    "# Вчисляем производную второго порядка\n",
    "print('Производная f\"(x)')\n",
    "df_2 = sym.diff(func, x, 2)\n",
    "df_2"
   ]
  },
  {
   "cell_type": "code",
   "execution_count": 24,
   "id": "d9fb1a5f-987b-439f-a33e-1464f90ada8a",
   "metadata": {},
   "outputs": [
    {
     "name": "stdout",
     "output_type": "stream",
     "text": [
      "Подставим стационарную точку во вторую производную\n"
     ]
    },
    {
     "data": {
      "text/markdown": [
       "$f''(2) = 2 e$"
      ],
      "text/plain": [
       "<IPython.core.display.Markdown object>"
      ]
     },
     "metadata": {},
     "output_type": "display_data"
    }
   ],
   "source": [
    "# Подставим значения в производную\n",
    "print(\"Подставим стационарную точку во вторую производную\")\n",
    "printmd(f\"$f''({val.args[0]}) = {sym.latex(df_2.subs({x: val.args[0]}))}$\")"
   ]
  },
  {
   "cell_type": "code",
   "execution_count": 25,
   "id": "6b781b8a-cf83-489d-af8e-efee33ac129b",
   "metadata": {},
   "outputs": [
    {
     "data": {
      "text/markdown": [
       "Т.к. $\\quad f'(2)=0,\\; f''(2)>0 \\quad ⇒ x=2\\quad$ точка локального минимума f(2)=$e^{- 8 e + 5 + 4 e^{2}}$"
      ],
      "text/plain": [
       "<IPython.core.display.Markdown object>"
      ]
     },
     "metadata": {},
     "output_type": "display_data"
    }
   ],
   "source": [
    "# Вывод\n",
    "printmd(f\"Т.к. $\\quad f'({val.args[0]})=0,\\; f''({val.args[0]})>0 \\quad ⇒ x={val.args[0]}\\quad$ точка локального минимума f({val.args[0]})=${sym.latex(func.subs({x: df_2.subs({x: val.args[0]})}))}$\")"
   ]
  },
  {
   "cell_type": "markdown",
   "id": "c37f987a-0175-472a-9b02-57d3d8a8d799",
   "metadata": {},
   "source": [
    "### 3) $\\quad y=x-arctg\\,x$"
   ]
  },
  {
   "cell_type": "code",
   "execution_count": 26,
   "id": "fae4be6d-ce1e-4665-93ef-418e04b24120",
   "metadata": {},
   "outputs": [
    {
     "name": "stdout",
     "output_type": "stream",
     "text": [
      "Производная f'(x)\n"
     ]
    },
    {
     "data": {
      "text/latex": [
       "$\\displaystyle 1 - \\frac{1}{x^{2} + 1}$"
      ],
      "text/plain": [
       "1 - 1/(x**2 + 1)"
      ]
     },
     "execution_count": 26,
     "metadata": {},
     "output_type": "execute_result"
    }
   ],
   "source": [
    "# Задаём функцию\n",
    "func = x - sym.atan(x)\n",
    "# Вчисляем производную\n",
    "print(\"Производная f'(x)\")\n",
    "df = sym.diff(func, x)\n",
    "df"
   ]
  },
  {
   "cell_type": "code",
   "execution_count": 27,
   "id": "99b13a0e-77cf-46c3-ae98-af2be193934e",
   "metadata": {},
   "outputs": [
    {
     "name": "stdout",
     "output_type": "stream",
     "text": [
      "Стационарная точки f'(x)=0\n"
     ]
    },
    {
     "data": {
      "text/latex": [
       "$\\displaystyle \\left\\{0\\right\\}$"
      ],
      "text/plain": [
       "{0}"
      ]
     },
     "execution_count": 27,
     "metadata": {},
     "output_type": "execute_result"
    }
   ],
   "source": [
    "# Найдем значения х, когда производная равна нулю\n",
    "val = sym.solveset(df, x)\n",
    "print(\"Стационарная точки f'(x)=0\")\n",
    "val"
   ]
  },
  {
   "cell_type": "code",
   "execution_count": 28,
   "id": "dc3d6e0d-eff6-4e30-8496-feb6a2a40a8f",
   "metadata": {},
   "outputs": [
    {
     "name": "stdout",
     "output_type": "stream",
     "text": [
      "Производная f\"(x)\n"
     ]
    },
    {
     "data": {
      "text/latex": [
       "$\\displaystyle \\frac{2 x}{\\left(x^{2} + 1\\right)^{2}}$"
      ],
      "text/plain": [
       "2*x/(x**2 + 1)**2"
      ]
     },
     "execution_count": 28,
     "metadata": {},
     "output_type": "execute_result"
    }
   ],
   "source": [
    "# Вчисляем производную второго порядка\n",
    "print('Производная f\"(x)')\n",
    "df_2 = sym.diff(func, x, 2)\n",
    "df_2"
   ]
  },
  {
   "cell_type": "code",
   "execution_count": 29,
   "id": "33832d35-ee22-4bbb-8c76-6fd035cb1b40",
   "metadata": {},
   "outputs": [
    {
     "name": "stdout",
     "output_type": "stream",
     "text": [
      "Подставим стационарную точку во вторую производную\n"
     ]
    },
    {
     "data": {
      "text/markdown": [
       "$f''(0) = 0$"
      ],
      "text/plain": [
       "<IPython.core.display.Markdown object>"
      ]
     },
     "metadata": {},
     "output_type": "display_data"
    }
   ],
   "source": [
    "# Подставим значения в производную\n",
    "print(\"Подставим стационарную точку во вторую производную\")\n",
    "printmd(f\"$f''({val.args[0]}) = {sym.latex(df_2.subs({x: val.args[0]}))}$\")"
   ]
  },
  {
   "cell_type": "code",
   "execution_count": 30,
   "id": "f4a26259-1733-45c0-84a9-6be99776dadf",
   "metadata": {},
   "outputs": [
    {
     "data": {
      "text/markdown": [
       "Т.к. $\\quad f'(0)=0,\\; f''(0)=0 \\quad ⇒ x=0\\quad$ точка перегиба f(0)=$0$"
      ],
      "text/plain": [
       "<IPython.core.display.Markdown object>"
      ]
     },
     "metadata": {},
     "output_type": "display_data"
    }
   ],
   "source": [
    "# Вывод\n",
    "printmd(f\"Т.к. $\\quad f'({val.args[0]})=0,\\; f''({val.args[0]})=0 \\quad ⇒ x={val.args[0]}\\quad$ точка перегиба f({val.args[0]})=${sym.latex(func.subs({x: df_2.subs({x: val.args[0]})}))}$\")"
   ]
  },
  {
   "cell_type": "markdown",
   "id": "f6ffcf0a-fb09-40a2-a497-04366d35a96b",
   "metadata": {
    "jp-MarkdownHeadingCollapsed": true
   },
   "source": [
    "## Найти интервалы выпуклости и точки перегиба функций"
   ]
  },
  {
   "cell_type": "markdown",
   "id": "f985e890-947c-46db-9059-421bd7ac38b8",
   "metadata": {
    "jp-MarkdownHeadingCollapsed": true
   },
   "source": [
    "### 1) $\\quad f(x)=e^{-x^2}$"
   ]
  },
  {
   "cell_type": "code",
   "execution_count": 31,
   "id": "7c1adcb4-ae13-4221-8d50-d311239563ba",
   "metadata": {},
   "outputs": [
    {
     "name": "stdout",
     "output_type": "stream",
     "text": [
      "Производная f\"(x)\n"
     ]
    },
    {
     "data": {
      "text/latex": [
       "$\\displaystyle 2 \\left(2 x^{2} - 1\\right) e^{- x^{2}}$"
      ],
      "text/plain": [
       "2*(2*x**2 - 1)*exp(-x**2)"
      ]
     },
     "execution_count": 31,
     "metadata": {},
     "output_type": "execute_result"
    }
   ],
   "source": [
    "# Задаём функцию\n",
    "func = sym.exp(-x**2)\n",
    "# Вчисляем производную второго порядка\n",
    "print('Производная f\"(x)')\n",
    "df_2 = sym.diff(func, x, 2)\n",
    "df_2"
   ]
  },
  {
   "cell_type": "code",
   "execution_count": 32,
   "id": "75fd14b9-c004-43d4-a2c9-908e2d47d0a0",
   "metadata": {},
   "outputs": [
    {
     "name": "stdout",
     "output_type": "stream",
     "text": [
      "Критические точки f\"(x)=0\n"
     ]
    },
    {
     "data": {
      "text/latex": [
       "$\\displaystyle \\left\\{- \\frac{\\sqrt{2}}{2}, \\frac{\\sqrt{2}}{2}\\right\\}$"
      ],
      "text/plain": [
       "{-sqrt(2)/2, sqrt(2)/2}"
      ]
     },
     "execution_count": 32,
     "metadata": {},
     "output_type": "execute_result"
    }
   ],
   "source": [
    "# Найдем значения х, когда производная равна нулю\n",
    "val = sym.solveset(df_2, x)\n",
    "print('Критические точки f\"(x)=0')\n",
    "val"
   ]
  },
  {
   "cell_type": "code",
   "execution_count": 33,
   "id": "c929bc23-93a0-4fe8-8a4f-c4b603db07f0",
   "metadata": {},
   "outputs": [
    {
     "data": {
      "text/markdown": [
       "Точка левее $- \\frac{\\sqrt{2}}{2}$"
      ],
      "text/plain": [
       "<IPython.core.display.Markdown object>"
      ]
     },
     "metadata": {},
     "output_type": "display_data"
    },
    {
     "data": {
      "text/latex": [
       "$\\displaystyle \\frac{2}{e}$"
      ],
      "text/plain": [
       "2*exp(-1)"
      ]
     },
     "execution_count": 33,
     "metadata": {},
     "output_type": "execute_result"
    }
   ],
   "source": [
    "# Подставим точку в производную\n",
    "printmd(f\"Точка левее ${sym.latex(val.args[0])}$\")\n",
    "df_2.subs({x: -1})"
   ]
  },
  {
   "cell_type": "code",
   "execution_count": 34,
   "id": "21c28232-eb6a-4492-a32c-e07766ead398",
   "metadata": {},
   "outputs": [
    {
     "data": {
      "text/markdown": [
       "Точка правее $\\frac{\\sqrt{2}}{2}$"
      ],
      "text/plain": [
       "<IPython.core.display.Markdown object>"
      ]
     },
     "metadata": {},
     "output_type": "display_data"
    },
    {
     "data": {
      "text/latex": [
       "$\\displaystyle \\frac{2}{e}$"
      ],
      "text/plain": [
       "2*exp(-1)"
      ]
     },
     "execution_count": 34,
     "metadata": {},
     "output_type": "execute_result"
    }
   ],
   "source": [
    "# Подставим точку в производную\n",
    "printmd(f\"Точка правее ${sym.latex(val.args[1])}$\")\n",
    "df_2.subs({x: 1})"
   ]
  },
  {
   "cell_type": "code",
   "execution_count": 35,
   "id": "6151e1c2-b0d5-403f-b995-ccd30d7f1575",
   "metadata": {},
   "outputs": [
    {
     "data": {
      "text/markdown": [
       "Точка между $- \\frac{\\sqrt{2}}{2}$ и $\\frac{\\sqrt{2}}{2}$"
      ],
      "text/plain": [
       "<IPython.core.display.Markdown object>"
      ]
     },
     "metadata": {},
     "output_type": "display_data"
    },
    {
     "data": {
      "text/latex": [
       "$\\displaystyle -2$"
      ],
      "text/plain": [
       "-2"
      ]
     },
     "execution_count": 35,
     "metadata": {},
     "output_type": "execute_result"
    }
   ],
   "source": [
    "# Подставим точку в производную\n",
    "printmd(f\"Точка между ${sym.latex(val.args[0])}$ и ${sym.latex(val.args[1])}$\")\n",
    "df_2.subs({x: 0})"
   ]
  },
  {
   "cell_type": "code",
   "execution_count": 36,
   "id": "ea8fabb8-28e8-450c-ac19-c0b1ee1a0410",
   "metadata": {},
   "outputs": [
    {
     "data": {
      "text/markdown": [
       "(-ထ; $- \\frac{\\sqrt{2}}{2}) \\, \\cup \\, (\\frac{\\sqrt{2}}{2}; +ထ) $ - функция выпукла вниз,"
      ],
      "text/plain": [
       "<IPython.core.display.Markdown object>"
      ]
     },
     "metadata": {},
     "output_type": "display_data"
    },
    {
     "data": {
      "text/markdown": [
       "( $- \\frac{\\sqrt{2}}{2};\\frac{\\sqrt{2}}{2}) $ - функция выпукла вверх,"
      ],
      "text/plain": [
       "<IPython.core.display.Markdown object>"
      ]
     },
     "metadata": {},
     "output_type": "display_data"
    },
    {
     "data": {
      "text/markdown": [
       " $x_1=- \\frac{\\sqrt{2}}{2},\\quad x_2=\\frac{\\sqrt{2}}{2} $ - точки перегиба."
      ],
      "text/plain": [
       "<IPython.core.display.Markdown object>"
      ]
     },
     "metadata": {},
     "output_type": "display_data"
    }
   ],
   "source": [
    "# Вывод\n",
    "printmd(f\"(-ထ; ${sym.latex(val.args[0])}) \\, \\cup \\, ({sym.latex(val.args[1])}; +ထ) $ - функция выпукла вниз,\")\n",
    "printmd(f\"( ${sym.latex(val.args[0])};{sym.latex(val.args[1])}) $ - функция выпукла вверх,\")\n",
    "printmd(f\" $x_1={sym.latex(val.args[0])},\\quad x_2={sym.latex(val.args[1])} $ - точки перегиба.\")"
   ]
  },
  {
   "cell_type": "markdown",
   "id": "afd4b69f-86b3-4019-9c7b-43ffa95dd162",
   "metadata": {
    "jp-MarkdownHeadingCollapsed": true
   },
   "source": [
    "### 2) $\\quad y = cos\\,x$"
   ]
  },
  {
   "cell_type": "code",
   "execution_count": 37,
   "id": "3766e1e9-4fb5-4234-b825-bf05240a50a2",
   "metadata": {},
   "outputs": [
    {
     "name": "stdout",
     "output_type": "stream",
     "text": [
      "Производная f\"(x)\n"
     ]
    },
    {
     "data": {
      "text/latex": [
       "$\\displaystyle - \\cos{\\left(x \\right)}$"
      ],
      "text/plain": [
       "-cos(x)"
      ]
     },
     "execution_count": 37,
     "metadata": {},
     "output_type": "execute_result"
    }
   ],
   "source": [
    "# Задаём функцию\n",
    "func = sym.cos(x)\n",
    "# Вчисляем производную второго порядка\n",
    "print('Производная f\"(x)')\n",
    "df_2 = sym.diff(func, x, 2)\n",
    "df_2"
   ]
  },
  {
   "cell_type": "code",
   "execution_count": 38,
   "id": "b60e6c8a-a723-4dca-b19a-4b7543e4ad21",
   "metadata": {},
   "outputs": [
    {
     "name": "stdout",
     "output_type": "stream",
     "text": [
      "Критические точки f\"(x)=0\n"
     ]
    },
    {
     "data": {
      "text/latex": [
       "$\\displaystyle \\left\\{2 n \\pi + \\frac{\\pi}{2}\\; \\middle|\\; n \\in \\mathbb{Z}\\right\\} \\cup \\left\\{2 n \\pi + \\frac{3 \\pi}{2}\\; \\middle|\\; n \\in \\mathbb{Z}\\right\\}$"
      ],
      "text/plain": [
       "Union(ImageSet(Lambda(_n, 2*_n*pi + pi/2), Integers), ImageSet(Lambda(_n, 2*_n*pi + 3*pi/2), Integers))"
      ]
     },
     "execution_count": 38,
     "metadata": {},
     "output_type": "execute_result"
    }
   ],
   "source": [
    "# Найдем значения х, когда производная равна нулю\n",
    "val = sym.solveset(df_2, x)\n",
    "print('Критические точки f\"(x)=0')\n",
    "val"
   ]
  },
  {
   "cell_type": "code",
   "execution_count": 39,
   "id": "cf7861da-fa57-40ce-9966-6f078c8534c0",
   "metadata": {},
   "outputs": [
    {
     "data": {
      "text/markdown": [
       "Точка левее $\\left\\{2 n \\pi + \\frac{\\pi}{2}\\; \\middle|\\; n \\in \\mathbb{Z}\\right\\}$"
      ],
      "text/plain": [
       "<IPython.core.display.Markdown object>"
      ]
     },
     "metadata": {},
     "output_type": "display_data"
    },
    {
     "data": {
      "text/latex": [
       "$\\displaystyle - \\frac{\\sqrt{2}}{2}$"
      ],
      "text/plain": [
       "-sqrt(2)/2"
      ]
     },
     "execution_count": 39,
     "metadata": {},
     "output_type": "execute_result"
    }
   ],
   "source": [
    "# Подставим точку в производную\n",
    "printmd(f\"Точка левее ${sym.latex(val.args[0])}$\")\n",
    "df_2.subs({x: sym.pi/2 -  sym.pi/4})"
   ]
  },
  {
   "cell_type": "code",
   "execution_count": 40,
   "id": "33dd5c89-85d7-4e7d-9017-91726ee34127",
   "metadata": {},
   "outputs": [
    {
     "data": {
      "text/markdown": [
       "Точка правее $\\left\\{2 n \\pi + \\frac{3 \\pi}{2}\\; \\middle|\\; n \\in \\mathbb{Z}\\right\\}$"
      ],
      "text/plain": [
       "<IPython.core.display.Markdown object>"
      ]
     },
     "metadata": {},
     "output_type": "display_data"
    },
    {
     "data": {
      "text/latex": [
       "$\\displaystyle - \\frac{\\sqrt{2}}{2}$"
      ],
      "text/plain": [
       "-sqrt(2)/2"
      ]
     },
     "execution_count": 40,
     "metadata": {},
     "output_type": "execute_result"
    }
   ],
   "source": [
    "# Подставим точку в производную\n",
    "printmd(f\"Точка правее ${sym.latex(val.args[1])}$\")\n",
    "df_2.subs({x: 3*sym.pi/2 +  sym.pi/4})"
   ]
  },
  {
   "cell_type": "code",
   "execution_count": 41,
   "id": "94f3cd8a-0fa1-42ae-8387-6442a958512a",
   "metadata": {},
   "outputs": [
    {
     "data": {
      "text/markdown": [
       "Точка между $\\left\\{2 n \\pi + \\frac{\\pi}{2}\\; \\middle|\\; n \\in \\mathbb{Z}\\right\\}$ и $\\left\\{2 n \\pi + \\frac{3 \\pi}{2}\\; \\middle|\\; n \\in \\mathbb{Z}\\right\\}$"
      ],
      "text/plain": [
       "<IPython.core.display.Markdown object>"
      ]
     },
     "metadata": {},
     "output_type": "display_data"
    },
    {
     "data": {
      "text/latex": [
       "$\\displaystyle 1$"
      ],
      "text/plain": [
       "1"
      ]
     },
     "execution_count": 41,
     "metadata": {},
     "output_type": "execute_result"
    }
   ],
   "source": [
    "# Подставим точку в производную\n",
    "printmd(f\"Точка между ${sym.latex(val.args[0])}$ и ${sym.latex(val.args[1])}$\")\n",
    "df_2.subs({x: sym.pi})"
   ]
  },
  {
   "cell_type": "code",
   "execution_count": 42,
   "id": "a49f876d-5587-4943-b9d1-888db43333dd",
   "metadata": {},
   "outputs": [
    {
     "data": {
      "text/markdown": [
       " $x_1=\\left\\{2 n \\pi + \\frac{\\pi}{2}\\; \\middle|\\; n \\in \\mathbb{Z}\\right\\},\\quad x_2=\\left\\{2 n \\pi + \\frac{3 \\pi}{2}\\; \\middle|\\; n \\in \\mathbb{Z}\\right\\} $ - точки перегиба."
      ],
      "text/plain": [
       "<IPython.core.display.Markdown object>"
      ]
     },
     "metadata": {},
     "output_type": "display_data"
    }
   ],
   "source": [
    "# Вывод\n",
    "printmd(f\" $x_1={sym.latex(val.args[0])},\\quad x_2={sym.latex(val.args[1])} $ - точки перегиба.\")"
   ]
  },
  {
   "cell_type": "markdown",
   "id": "afacf68c-29f0-4b52-aa4d-ba8db28e0f12",
   "metadata": {},
   "source": [
    "$ (\\left\\{ 2n\\pi + \\frac{\\pi}{2} \\mid n \\in Z \\right\\} \\cup \\left\\{ 2n\\pi + \\frac{3\\pi}{2} \\mid n \\in Z \\right\\}; \\left\\{ 2n\\pi + \\pi \\mid n \\in Z \\right\\} \\cup \\left\\{ 2n\\pi + 2\\pi \\mid n \\in Z \\right\\})$ - функция выпукла вверх,  \n",
    "$ (\\left\\{ 2n\\pi + \\pi \\mid n \\in Z \\right\\} \\cup \\left\\{ 2n\\pi + 2\\pi \\mid n \\in Z \\right\\}; \\left\\{ 2n\\pi + \\frac{3\\pi}{2} \\mid n \\in Z \\right\\} \\cup \\left\\{ 2n\\pi + \\frac{5\\pi}{2} \\mid n \\in Z \\right\\})$ - функция выпукла вниз, "
   ]
  },
  {
   "cell_type": "markdown",
   "id": "e3600293-ce5a-492d-92c6-0f2b8681dc61",
   "metadata": {},
   "source": [
    "### 3) $\\quad y =  x^5 - 10x^2 +7x$"
   ]
  },
  {
   "cell_type": "code",
   "execution_count": 43,
   "id": "6854d15e-f4ed-4b8a-ba48-c311424dc13b",
   "metadata": {},
   "outputs": [
    {
     "name": "stdout",
     "output_type": "stream",
     "text": [
      "Производная f\"(x)\n"
     ]
    },
    {
     "data": {
      "text/latex": [
       "$\\displaystyle 20 \\left(x^{3} - 1\\right)$"
      ],
      "text/plain": [
       "20*(x**3 - 1)"
      ]
     },
     "execution_count": 43,
     "metadata": {},
     "output_type": "execute_result"
    }
   ],
   "source": [
    "# Задаём функцию\n",
    "func = x**5 - 10*x**2 + 7*x\n",
    "# Вчисляем производную второго порядка\n",
    "print('Производная f\"(x)')\n",
    "df_2 = sym.diff(func, x, 2)\n",
    "df_2"
   ]
  },
  {
   "cell_type": "code",
   "execution_count": 44,
   "id": "82a46403-3ba2-44b5-a0b1-a5445986ebe9",
   "metadata": {},
   "outputs": [
    {
     "name": "stdout",
     "output_type": "stream",
     "text": [
      "Критические точки f\"(x)=0\n"
     ]
    },
    {
     "data": {
      "text/latex": [
       "$\\displaystyle \\left\\{1, - \\frac{1}{2} - \\frac{\\sqrt{3} i}{2}, - \\frac{1}{2} + \\frac{\\sqrt{3} i}{2}\\right\\}$"
      ],
      "text/plain": [
       "{1, -1/2 - sqrt(3)*I/2, -1/2 + sqrt(3)*I/2}"
      ]
     },
     "execution_count": 44,
     "metadata": {},
     "output_type": "execute_result"
    }
   ],
   "source": [
    "# Найдем значения х, когда производная равна нулю\n",
    "val = sym.solveset(df_2, x)\n",
    "print('Критические точки f\"(x)=0')\n",
    "val"
   ]
  },
  {
   "cell_type": "code",
   "execution_count": 45,
   "id": "fa603938-fe9b-4248-9784-5e55b8a2af55",
   "metadata": {},
   "outputs": [
    {
     "data": {
      "text/markdown": [
       "Точка левее $\\quad x =1$"
      ],
      "text/plain": [
       "<IPython.core.display.Markdown object>"
      ]
     },
     "metadata": {},
     "output_type": "display_data"
    },
    {
     "data": {
      "text/latex": [
       "$\\displaystyle -40$"
      ],
      "text/plain": [
       "-40"
      ]
     },
     "execution_count": 45,
     "metadata": {},
     "output_type": "execute_result"
    }
   ],
   "source": [
    "# Подставим точку в производную\n",
    "printmd(f\"Точка левее $\\quad x ={sym.latex(val.args[0])}$\")\n",
    "df_2.subs({x: -1})"
   ]
  },
  {
   "cell_type": "code",
   "execution_count": 46,
   "id": "7708a9ce-ea13-480b-abcb-193db6a606f0",
   "metadata": {},
   "outputs": [
    {
     "data": {
      "text/markdown": [
       "Точка правее $\\quad x =1$"
      ],
      "text/plain": [
       "<IPython.core.display.Markdown object>"
      ]
     },
     "metadata": {},
     "output_type": "display_data"
    },
    {
     "data": {
      "text/latex": [
       "$\\displaystyle 140$"
      ],
      "text/plain": [
       "140"
      ]
     },
     "execution_count": 46,
     "metadata": {},
     "output_type": "execute_result"
    }
   ],
   "source": [
    "# Подставим точку в производную\n",
    "printmd(f\"Точка правее $\\quad x ={sym.latex(val.args[0])}$\")\n",
    "df_2.subs({x: 2})"
   ]
  },
  {
   "cell_type": "code",
   "execution_count": 47,
   "id": "19965960-7553-482e-b98a-01316605dfc3",
   "metadata": {},
   "outputs": [
    {
     "data": {
      "text/markdown": [
       "(-ထ; $1) $ - функция выпукла вверх,"
      ],
      "text/plain": [
       "<IPython.core.display.Markdown object>"
      ]
     },
     "metadata": {},
     "output_type": "display_data"
    },
    {
     "data": {
      "text/markdown": [
       "( $1;+ထ) $ - функция выпукла вниз,"
      ],
      "text/plain": [
       "<IPython.core.display.Markdown object>"
      ]
     },
     "metadata": {},
     "output_type": "display_data"
    },
    {
     "data": {
      "text/markdown": [
       " $x_1=1 $ - точки перегиба."
      ],
      "text/plain": [
       "<IPython.core.display.Markdown object>"
      ]
     },
     "metadata": {},
     "output_type": "display_data"
    }
   ],
   "source": [
    "# Вывод\n",
    "printmd(f\"(-ထ; ${sym.latex(val.args[0])}) $ - функция выпукла вверх,\")\n",
    "printmd(f\"( ${sym.latex(val.args[0])};+ထ) $ - функция выпукла вниз,\")\n",
    "printmd(f\" $x_1={sym.latex(val.args[0])} $ - точки перегиба.\")"
   ]
  },
  {
   "cell_type": "markdown",
   "id": "49230ea2-e822-4cd1-a7ed-c80c16f4b54b",
   "metadata": {},
   "source": [
    "## Найти асимптоты графиков функций"
   ]
  },
  {
   "cell_type": "markdown",
   "id": "12ab4f61-00ae-482d-b5a0-2fa6d4c88fd6",
   "metadata": {
    "jp-MarkdownHeadingCollapsed": true
   },
   "source": [
    "### 1) $\\quad y = \\frac {3x}{x+2}$"
   ]
  },
  {
   "cell_type": "markdown",
   "id": "af2de48e-0251-41f7-99af-bce1d0971093",
   "metadata": {},
   "source": [
    "x = -2 - разрыв второго рода"
   ]
  },
  {
   "cell_type": "code",
   "execution_count": 48,
   "id": "741685b5-bf51-4fee-a01c-d7e8ae423e33",
   "metadata": {},
   "outputs": [
    {
     "name": "stdout",
     "output_type": "stream",
     "text": [
      "Предел функции слева\n"
     ]
    },
    {
     "data": {
      "text/latex": [
       "$\\displaystyle \\infty$"
      ],
      "text/plain": [
       "oo"
      ]
     },
     "execution_count": 48,
     "metadata": {},
     "output_type": "execute_result"
    }
   ],
   "source": [
    "# Задаём функцию\n",
    "func = 3*x / (x+2)\n",
    "# Вычисляем предел \n",
    "print('Предел функции слева')\n",
    "sym.limit(func, x, -2, '-')"
   ]
  },
  {
   "cell_type": "code",
   "execution_count": 49,
   "id": "3794fdf5-9dff-40de-b815-7692b9afee20",
   "metadata": {},
   "outputs": [
    {
     "name": "stdout",
     "output_type": "stream",
     "text": [
      "Предел функции справа\n"
     ]
    },
    {
     "data": {
      "text/latex": [
       "$\\displaystyle -\\infty$"
      ],
      "text/plain": [
       "-oo"
      ]
     },
     "execution_count": 49,
     "metadata": {},
     "output_type": "execute_result"
    }
   ],
   "source": [
    "# Вычисляем предел \n",
    "print('Предел функции справа')\n",
    "sym.limit(func, x, -2, '+')"
   ]
  },
  {
   "cell_type": "code",
   "execution_count": 50,
   "id": "8f07481d-5608-40ca-94ea-085f9b94f6c2",
   "metadata": {},
   "outputs": [
    {
     "name": "stdout",
     "output_type": "stream",
     "text": [
      "коэффициент k  (ထ)\n"
     ]
    },
    {
     "data": {
      "text/latex": [
       "$\\displaystyle 0$"
      ],
      "text/plain": [
       "0"
      ]
     },
     "execution_count": 50,
     "metadata": {},
     "output_type": "execute_result"
    }
   ],
   "source": [
    "# Вычислмм k\n",
    "funk_k= func / x\n",
    "k = sym.limit(funk_k, x, sym.oo)\n",
    "print('коэффициент k  (ထ)')\n",
    "k"
   ]
  },
  {
   "cell_type": "code",
   "execution_count": 51,
   "id": "c8137dfa-9537-4370-9b62-6b755520b3dc",
   "metadata": {},
   "outputs": [
    {
     "name": "stdout",
     "output_type": "stream",
     "text": [
      "коэффициент k  (-ထ)\n"
     ]
    },
    {
     "data": {
      "text/latex": [
       "$\\displaystyle 0$"
      ],
      "text/plain": [
       "0"
      ]
     },
     "execution_count": 51,
     "metadata": {},
     "output_type": "execute_result"
    }
   ],
   "source": [
    "# Вычислмм k\n",
    "funk_k= func / x\n",
    "k = sym.limit(funk_k, x, -sym.oo)\n",
    "print('коэффициент k  (-ထ)')\n",
    "k"
   ]
  },
  {
   "cell_type": "code",
   "execution_count": 52,
   "id": "cb9ea686-406e-4322-a330-c1b6bed57261",
   "metadata": {},
   "outputs": [
    {
     "name": "stdout",
     "output_type": "stream",
     "text": [
      "коэффициент b (ထ)\n"
     ]
    },
    {
     "data": {
      "text/latex": [
       "$\\displaystyle 3$"
      ],
      "text/plain": [
       "3"
      ]
     },
     "execution_count": 52,
     "metadata": {},
     "output_type": "execute_result"
    }
   ],
   "source": [
    "# Вычислмм b\n",
    "funk_b= func - k*x\n",
    "b = sym.limit(funk_b, x, sym.oo)\n",
    "print('коэффициент b (ထ)')\n",
    "b"
   ]
  },
  {
   "cell_type": "code",
   "execution_count": 53,
   "id": "8a2a8539-771a-4d52-9dfa-9370535dc6ff",
   "metadata": {},
   "outputs": [
    {
     "name": "stdout",
     "output_type": "stream",
     "text": [
      "коэффициент b (-ထ)\n"
     ]
    },
    {
     "data": {
      "text/latex": [
       "$\\displaystyle 3$"
      ],
      "text/plain": [
       "3"
      ]
     },
     "execution_count": 53,
     "metadata": {},
     "output_type": "execute_result"
    }
   ],
   "source": [
    "# Вычислмм b\n",
    "funk_b= func - k*x\n",
    "b = sym.limit(funk_b, x, -sym.oo)\n",
    "print('коэффициент b (-ထ)')\n",
    "b"
   ]
  },
  {
   "cell_type": "code",
   "execution_count": 54,
   "id": "51209543-699a-45e8-8918-118962c92674",
   "metadata": {},
   "outputs": [
    {
     "data": {
      "text/latex": [
       "$\\displaystyle 3$"
      ],
      "text/plain": [
       "3"
      ]
     },
     "execution_count": 54,
     "metadata": {},
     "output_type": "execute_result"
    }
   ],
   "source": [
    "# Вычислим y\n",
    "y = k*x + b\n",
    "y"
   ]
  },
  {
   "cell_type": "code",
   "execution_count": 55,
   "id": "d4467cdc-b26f-4d0b-b845-c40a15093c03",
   "metadata": {},
   "outputs": [
    {
     "data": {
      "text/markdown": [
       "Т.к. $ y = b \\quad ⇒\\quad y=3$ - горизонтальная асимптота,"
      ],
      "text/plain": [
       "<IPython.core.display.Markdown object>"
      ]
     },
     "metadata": {},
     "output_type": "display_data"
    },
    {
     "data": {
      "text/markdown": [
       " $ x=-2$ - вертикальная асимптота"
      ],
      "text/plain": [
       "<IPython.core.display.Markdown object>"
      ]
     },
     "metadata": {},
     "output_type": "display_data"
    }
   ],
   "source": [
    "# Вывод\n",
    "printmd(f\"Т.к. $ y = b \\quad ⇒\\quad y={y}$ - горизонтальная асимптота,\")\n",
    "printmd(f\" $ x=-2$ - вертикальная асимптота\")"
   ]
  },
  {
   "cell_type": "markdown",
   "id": "cd870b8c-8373-4401-9935-3156319c8c42",
   "metadata": {
    "jp-MarkdownHeadingCollapsed": true
   },
   "source": [
    "### 2) $\\quad y = e^{-\\frac{1}{x}}$"
   ]
  },
  {
   "cell_type": "markdown",
   "id": "3388c430-7ad9-4c25-9a03-b8b2dfb5a0e3",
   "metadata": {},
   "source": [
    "x = 0 - разрыв второго рода"
   ]
  },
  {
   "cell_type": "code",
   "execution_count": 57,
   "id": "9a265027-787c-486d-b09a-e67e44bec8fb",
   "metadata": {},
   "outputs": [
    {
     "name": "stdout",
     "output_type": "stream",
     "text": [
      "Предел функции слева\n"
     ]
    },
    {
     "data": {
      "text/latex": [
       "$\\displaystyle \\infty$"
      ],
      "text/plain": [
       "oo"
      ]
     },
     "execution_count": 57,
     "metadata": {},
     "output_type": "execute_result"
    }
   ],
   "source": [
    "# Задаём функцию\n",
    "func = sym.exp(-1/x)\n",
    "# Вычисляем предел \n",
    "print('Предел функции слева')\n",
    "sym.limit(func, x, 0, '-')"
   ]
  },
  {
   "cell_type": "code",
   "execution_count": 58,
   "id": "528b47d0-eaf7-42e3-bc42-68999ef465e1",
   "metadata": {},
   "outputs": [
    {
     "name": "stdout",
     "output_type": "stream",
     "text": [
      "Предел функции справа\n"
     ]
    },
    {
     "data": {
      "text/latex": [
       "$\\displaystyle 0$"
      ],
      "text/plain": [
       "0"
      ]
     },
     "execution_count": 58,
     "metadata": {},
     "output_type": "execute_result"
    }
   ],
   "source": [
    "# Вычисляем предел \n",
    "print('Предел функции справа')\n",
    "sym.limit(func, x, 0, '+')"
   ]
  },
  {
   "cell_type": "code",
   "execution_count": 59,
   "id": "ff1ac5e2-7b18-4113-9301-1dfbfbf9b8c0",
   "metadata": {},
   "outputs": [
    {
     "name": "stdout",
     "output_type": "stream",
     "text": [
      "коэффициент k  (ထ)\n"
     ]
    },
    {
     "data": {
      "text/latex": [
       "$\\displaystyle 0$"
      ],
      "text/plain": [
       "0"
      ]
     },
     "execution_count": 59,
     "metadata": {},
     "output_type": "execute_result"
    }
   ],
   "source": [
    "# Вычислмм k\n",
    "funk_k= func / x\n",
    "k = sym.limit(funk_k, x, sym.oo)\n",
    "print('коэффициент k  (ထ)')\n",
    "k"
   ]
  },
  {
   "cell_type": "code",
   "execution_count": 60,
   "id": "f419989b-d328-45f6-b961-016d6123f54c",
   "metadata": {},
   "outputs": [
    {
     "name": "stdout",
     "output_type": "stream",
     "text": [
      "коэффициент k  (-ထ)\n"
     ]
    },
    {
     "data": {
      "text/latex": [
       "$\\displaystyle 0$"
      ],
      "text/plain": [
       "0"
      ]
     },
     "execution_count": 60,
     "metadata": {},
     "output_type": "execute_result"
    }
   ],
   "source": [
    "# Вычислмм k\n",
    "funk_k= func / x\n",
    "k = sym.limit(funk_k, x, -sym.oo)\n",
    "print('коэффициент k  (-ထ)')\n",
    "k"
   ]
  },
  {
   "cell_type": "code",
   "execution_count": 61,
   "id": "25921192-d30b-4a13-8e6b-cc0a55ad7f7a",
   "metadata": {},
   "outputs": [
    {
     "name": "stdout",
     "output_type": "stream",
     "text": [
      "коэффициент b (ထ)\n"
     ]
    },
    {
     "data": {
      "text/latex": [
       "$\\displaystyle 1$"
      ],
      "text/plain": [
       "1"
      ]
     },
     "execution_count": 61,
     "metadata": {},
     "output_type": "execute_result"
    }
   ],
   "source": [
    "# Вычислмм b\n",
    "funk_b= func - k*x\n",
    "b = sym.limit(funk_b, x, sym.oo)\n",
    "print('коэффициент b (ထ)')\n",
    "b"
   ]
  },
  {
   "cell_type": "code",
   "execution_count": 62,
   "id": "092e55c9-d665-4dc6-9069-eb958d440be3",
   "metadata": {},
   "outputs": [
    {
     "name": "stdout",
     "output_type": "stream",
     "text": [
      "коэффициент b (-ထ)\n"
     ]
    },
    {
     "data": {
      "text/latex": [
       "$\\displaystyle 1$"
      ],
      "text/plain": [
       "1"
      ]
     },
     "execution_count": 62,
     "metadata": {},
     "output_type": "execute_result"
    }
   ],
   "source": [
    "# Вычислмм b\n",
    "funk_b= func - k*x\n",
    "b = sym.limit(funk_b, x, -sym.oo)\n",
    "print('коэффициент b (-ထ)')\n",
    "b"
   ]
  },
  {
   "cell_type": "code",
   "execution_count": 63,
   "id": "4e26f810-9588-49f3-869c-861f7d5a4622",
   "metadata": {},
   "outputs": [
    {
     "data": {
      "text/latex": [
       "$\\displaystyle 1$"
      ],
      "text/plain": [
       "1"
      ]
     },
     "execution_count": 63,
     "metadata": {},
     "output_type": "execute_result"
    }
   ],
   "source": [
    "# Вычислим y\n",
    "y = k*x + b\n",
    "y"
   ]
  },
  {
   "cell_type": "code",
   "execution_count": 65,
   "id": "b8fe8a58-20a6-4e1c-8b7c-fd9928090233",
   "metadata": {},
   "outputs": [
    {
     "data": {
      "text/markdown": [
       "Т.к. $ y = b \\quad ⇒\\quad y=1$ - горизонтальная асимптота,"
      ],
      "text/plain": [
       "<IPython.core.display.Markdown object>"
      ]
     },
     "metadata": {},
     "output_type": "display_data"
    },
    {
     "data": {
      "text/markdown": [
       " $ x=0$ - вертикальная асимптота"
      ],
      "text/plain": [
       "<IPython.core.display.Markdown object>"
      ]
     },
     "metadata": {},
     "output_type": "display_data"
    }
   ],
   "source": [
    "# Вывод\n",
    "printmd(f\"Т.к. $ y = b \\quad ⇒\\quad y={y}$ - горизонтальная асимптота,\")\n",
    "printmd(f\" $ x=0$ - вертикальная асимптота\")"
   ]
  },
  {
   "cell_type": "markdown",
   "id": "1412267f-eb16-44d5-8534-b9b4d79184a4",
   "metadata": {
    "jp-MarkdownHeadingCollapsed": true
   },
   "source": [
    "## Провести полное исследование и построить графики функций"
   ]
  },
  {
   "cell_type": "markdown",
   "id": "9a8b6c58-4cc1-4745-ab88-2bdba42c0329",
   "metadata": {},
   "source": [
    "### 1) $\\quad y = ln(1-x^2)$"
   ]
  },
  {
   "cell_type": "code",
   "execution_count": 134,
   "id": "33ede436-1272-48a4-866d-9ade01a727ec",
   "metadata": {},
   "outputs": [],
   "source": [
    "# Задаём функцию\n",
    "func = sym.ln(1 - x**2)"
   ]
  },
  {
   "cell_type": "markdown",
   "id": "fbc0ec32-bfad-4f36-bd0c-c61a7adf1b4d",
   "metadata": {},
   "source": [
    "#### Область определения функции"
   ]
  },
  {
   "cell_type": "markdown",
   "id": "c36004da-44c2-460a-8f40-42a3fd4e66ff",
   "metadata": {},
   "source": [
    "$D(f): \\quad (-1; 1)$"
   ]
  },
  {
   "cell_type": "markdown",
   "id": "8084e14a-ffb9-477d-847f-f891a9b219c3",
   "metadata": {},
   "source": [
    "#### Чётность, нечётность, периодичность"
   ]
  },
  {
   "cell_type": "code",
   "execution_count": 135,
   "id": "a023a9bd-2789-4b0a-9db8-bb5360d9d877",
   "metadata": {},
   "outputs": [
    {
     "data": {
      "text/markdown": [
       "$\\log{\\left(1 - x^{2} \\right)}$ -  функция чётная"
      ],
      "text/plain": [
       "<IPython.core.display.Markdown object>"
      ]
     },
     "metadata": {},
     "output_type": "display_data"
    },
    {
     "data": {
      "text/markdown": [
       "$\\log{\\left(1 - x^{2} \\right)}$ -  функция не периодичная"
      ],
      "text/plain": [
       "<IPython.core.display.Markdown object>"
      ]
     },
     "metadata": {},
     "output_type": "display_data"
    }
   ],
   "source": [
    "x_val = 0.5\n",
    "if func.subs({x: -x_val}) == -func.subs({x: x_val}):\n",
    "    printmd(f\"${sym.latex(func)}$ - функция не чётная\")\n",
    "elif func.subs({x: -x_val}) == func.subs({x: x_val}):\n",
    "    printmd(f\"${sym.latex(func)}$ -  функция чётная\")\n",
    "else:\n",
    "    printmd(f\"${sym.latex(func)}$ -  функция общего вида\")\n",
    "\n",
    "printmd(f\"${sym.latex(func)}$ -  функция не периодичная\")"
   ]
  },
  {
   "cell_type": "markdown",
   "id": "8d80053a-171a-4328-979a-fd4cf58a6951",
   "metadata": {},
   "source": [
    "#### Участки непрерывности функции и точки разрыва"
   ]
  },
  {
   "cell_type": "code",
   "execution_count": null,
   "id": "bb64aecf-a696-452f-bfee-91ff32f45067",
   "metadata": {},
   "outputs": [],
   "source": []
  },
  {
   "cell_type": "markdown",
   "id": "822a518c-95e6-486d-8cb9-afe197b10427",
   "metadata": {},
   "source": [
    "#### Точки пересечения графика с осями"
   ]
  },
  {
   "cell_type": "code",
   "execution_count": 136,
   "id": "6f21e488-fb45-48f9-bd47-513e2cd6d6a6",
   "metadata": {},
   "outputs": [
    {
     "data": {
      "text/latex": [
       "$\\displaystyle \\left\\{0\\right\\}$"
      ],
      "text/plain": [
       "{0}"
      ]
     },
     "execution_count": 136,
     "metadata": {},
     "output_type": "execute_result"
    }
   ],
   "source": [
    "# Корни уравнения\n",
    "sym.solveset(func, x)"
   ]
  },
  {
   "cell_type": "code",
   "execution_count": 137,
   "id": "8124923f-4226-43a1-b069-7bee537aa49c",
   "metadata": {},
   "outputs": [
    {
     "data": {
      "text/markdown": [
       "$M(0,0)$ -  единственная точка пересечения с осью Х и Y"
      ],
      "text/plain": [
       "<IPython.core.display.Markdown object>"
      ]
     },
     "metadata": {},
     "output_type": "display_data"
    }
   ],
   "source": [
    "printmd(f\"$M(0,{func.subs({x: 0})})$ -  единственная точка пересечения с осью Х и Y\")"
   ]
  },
  {
   "cell_type": "markdown",
   "id": "b671d690-346f-4f9a-8180-906a37990170",
   "metadata": {},
   "source": [
    "#### Интервалы знакопостоянства функции"
   ]
  },
  {
   "cell_type": "markdown",
   "id": "367f1468-6acc-46fc-a72d-6903d2593a04",
   "metadata": {},
   "source": [
    "#### Асимптоты функции"
   ]
  },
  {
   "cell_type": "code",
   "execution_count": 142,
   "id": "9fc1beaa-a004-4e56-aa62-46340cc22505",
   "metadata": {},
   "outputs": [
    {
     "name": "stdout",
     "output_type": "stream",
     "text": [
      "Предел функции слева\n"
     ]
    },
    {
     "data": {
      "text/latex": [
       "$\\displaystyle -\\infty$"
      ],
      "text/plain": [
       "-oo"
      ]
     },
     "execution_count": 142,
     "metadata": {},
     "output_type": "execute_result"
    }
   ],
   "source": [
    "# Задаём значение к чему стремиться предел функции\n",
    "x_val = 1\n",
    "# Вычисляем предел \n",
    "print('Предел функции слева')\n",
    "sym.limit(func, x, x_val, '-')"
   ]
  },
  {
   "cell_type": "code",
   "execution_count": 143,
   "id": "95568248-363b-450a-a7a7-7db38b9e2d8c",
   "metadata": {},
   "outputs": [
    {
     "name": "stdout",
     "output_type": "stream",
     "text": [
      "Предел функции справа\n"
     ]
    },
    {
     "data": {
      "text/latex": [
       "$\\displaystyle -\\infty$"
      ],
      "text/plain": [
       "-oo"
      ]
     },
     "execution_count": 143,
     "metadata": {},
     "output_type": "execute_result"
    }
   ],
   "source": [
    "# Вычисляем предел \n",
    "print('Предел функции справа')\n",
    "sym.limit(func, x, x_val, '+')"
   ]
  },
  {
   "cell_type": "code",
   "execution_count": 128,
   "id": "4cb081d5-9184-4bc5-b6df-098e0fbe3b45",
   "metadata": {},
   "outputs": [
    {
     "name": "stdout",
     "output_type": "stream",
     "text": [
      "коэффициент k  (ထ)\n"
     ]
    },
    {
     "data": {
      "text/latex": [
       "$\\displaystyle 0$"
      ],
      "text/plain": [
       "0"
      ]
     },
     "execution_count": 128,
     "metadata": {},
     "output_type": "execute_result"
    }
   ],
   "source": [
    "# Вычислмм k\n",
    "funk_k= func / x\n",
    "k = sym.limit(funk_k, x, sym.oo)\n",
    "print('коэффициент k  (ထ)')\n",
    "k"
   ]
  },
  {
   "cell_type": "code",
   "execution_count": 129,
   "id": "216f37e6-35f1-4926-8adf-efbcdfd495dd",
   "metadata": {},
   "outputs": [
    {
     "name": "stdout",
     "output_type": "stream",
     "text": [
      "коэффициент k  (-ထ)\n"
     ]
    },
    {
     "data": {
      "text/latex": [
       "$\\displaystyle 0$"
      ],
      "text/plain": [
       "0"
      ]
     },
     "execution_count": 129,
     "metadata": {},
     "output_type": "execute_result"
    }
   ],
   "source": [
    "# Вычислмм k\n",
    "funk_k= func / x\n",
    "k = sym.limit(funk_k, x, -sym.oo)\n",
    "print('коэффициент k  (-ထ)')\n",
    "k"
   ]
  },
  {
   "cell_type": "code",
   "execution_count": 130,
   "id": "13d0931c-a9e6-4851-95e5-f35862ee24b3",
   "metadata": {},
   "outputs": [
    {
     "name": "stdout",
     "output_type": "stream",
     "text": [
      "коэффициент b (ထ)\n"
     ]
    },
    {
     "data": {
      "text/latex": [
       "$\\displaystyle \\infty$"
      ],
      "text/plain": [
       "oo"
      ]
     },
     "execution_count": 130,
     "metadata": {},
     "output_type": "execute_result"
    }
   ],
   "source": [
    "# Вычислмм b\n",
    "funk_b= func - k*x\n",
    "b = sym.limit(funk_b, x, sym.oo)\n",
    "print('коэффициент b (ထ)')\n",
    "b"
   ]
  },
  {
   "cell_type": "code",
   "execution_count": 131,
   "id": "fe0e02db-b9f2-45a1-a263-3dea898c2bf1",
   "metadata": {},
   "outputs": [
    {
     "name": "stdout",
     "output_type": "stream",
     "text": [
      "коэффициент b (-ထ)\n"
     ]
    },
    {
     "data": {
      "text/latex": [
       "$\\displaystyle \\infty$"
      ],
      "text/plain": [
       "oo"
      ]
     },
     "execution_count": 131,
     "metadata": {},
     "output_type": "execute_result"
    }
   ],
   "source": [
    "# Вычислмм b\n",
    "funk_b= func - k*x\n",
    "b = sym.limit(funk_b, x, -sym.oo)\n",
    "print('коэффициент b (-ထ)')\n",
    "b"
   ]
  },
  {
   "cell_type": "code",
   "execution_count": 132,
   "id": "c86f0821-6dab-43d4-a807-3d326a625570",
   "metadata": {},
   "outputs": [
    {
     "data": {
      "text/latex": [
       "$\\displaystyle \\infty$"
      ],
      "text/plain": [
       "oo"
      ]
     },
     "execution_count": 132,
     "metadata": {},
     "output_type": "execute_result"
    }
   ],
   "source": [
    "# Вычислим y\n",
    "y = k*x + b\n",
    "y"
   ]
  },
  {
   "cell_type": "code",
   "execution_count": 144,
   "id": "0eadf506-be04-4815-b382-007ffdb06a60",
   "metadata": {},
   "outputs": [],
   "source": [
    "# Вывод\n",
    "# printmd(f\"Т.к. $ y = b \\quad ⇒\\quad y={y}$ - горизонтальная асимптота,\")\n",
    "# printmd(f\" $ x=-2$ - вертикальная асимптота\")"
   ]
  },
  {
   "cell_type": "markdown",
   "id": "fd55aba3-0ec8-4cf5-b958-3c39cb0c32f1",
   "metadata": {},
   "source": [
    "### 2) $\\quad y=\\frac{x^2}{1-x^2}$"
   ]
  },
  {
   "cell_type": "markdown",
   "id": "480dda10-1701-4ccd-99d7-3667b40b3fd7",
   "metadata": {},
   "source": [
    "### 3) $\\quad y=x^2 \\cdot e^{-x}$"
   ]
  },
  {
   "cell_type": "markdown",
   "id": "7270de44-f697-481e-b49c-aaadf60eb940",
   "metadata": {},
   "source": [
    "### 4) $\\quad y= x -ln\\,x$"
   ]
  },
  {
   "cell_type": "code",
   "execution_count": null,
   "id": "dc860795-00c2-4909-b78f-1e3ee65e48c0",
   "metadata": {},
   "outputs": [],
   "source": []
  }
 ],
 "metadata": {
  "kernelspec": {
   "display_name": "Python 3 (ipykernel)",
   "language": "python",
   "name": "python3"
  },
  "language_info": {
   "codemirror_mode": {
    "name": "ipython",
    "version": 3
   },
   "file_extension": ".py",
   "mimetype": "text/x-python",
   "name": "python",
   "nbconvert_exporter": "python",
   "pygments_lexer": "ipython3",
   "version": "3.12.4"
  }
 },
 "nbformat": 4,
 "nbformat_minor": 5
}
