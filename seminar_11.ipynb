{
 "cells": [
  {
   "cell_type": "markdown",
   "id": "297de3fa-6c33-43ff-9254-d19eb5a5b9b1",
   "metadata": {},
   "source": [
    "# ДЗ по 'Введение в математический анализ'\n",
    "### Урок 11. Интеграл. Ряды. Часть 2\n",
    "[Ссылка на ДЗ](https://drive.google.com/file/d/185VRBkYTyRG1041vsOTQJ9RhjheZoy-G/view)"
   ]
  },
  {
   "cell_type": "code",
   "execution_count": 2,
   "id": "54edb3b5-16eb-4b07-b943-305b167e11bd",
   "metadata": {},
   "outputs": [],
   "source": [
    "# Устанавливаем библиотеки, если они не установлены\n",
    "# !pip install sympy"
   ]
  },
  {
   "cell_type": "code",
   "execution_count": 3,
   "id": "6dd30e9a-a9a9-4877-82bc-8b78fd83b826",
   "metadata": {},
   "outputs": [],
   "source": [
    "# Подключаем необходимые библиотеки\n",
    "import sympy as sym\n",
    "from IPython.display import Markdown, display\n",
    "\n",
    "# Уберем warnings\n",
    "import warnings\n",
    "warnings.filterwarnings('ignore')"
   ]
  },
  {
   "cell_type": "code",
   "execution_count": 4,
   "id": "bb19b5c1-9bea-41c3-ad72-5e214cbfbf4f",
   "metadata": {},
   "outputs": [],
   "source": [
    "def printmd(string):\n",
    "    '''\n",
    "    Функция выводит на консоль, текст в разметке Markdown.\n",
    "\n",
    "    :param string: строка которую будем переделывать в Markdown разметку,\n",
    "    :return: вывод строки в Markdown разметке.\n",
    "    '''\n",
    "    display(Markdown(string))"
   ]
  },
  {
   "cell_type": "markdown",
   "id": "92aeb57c-f2c4-4c40-ab9a-fe80e387524b",
   "metadata": {},
   "source": [
    "[Библиотека Sympy: символьные вычисления в Python](https://pythonist.ru/biblioteka-sympy-simvolnye-vychisleniya-v-python/)  \n",
    "[Википедия:Примеры оформления формул](https://ru.wikipedia.org/wiki/%D0%92%D0%B8%D0%BA%D0%B8%D0%BF%D0%B5%D0%B4%D0%B8%D1%8F:%D0%9F%D1%80%D0%B8%D0%BC%D0%B5%D1%80%D1%8B_%D0%BE%D1%84%D0%BE%D1%80%D0%BC%D0%BB%D0%B5%D0%BD%D0%B8%D1%8F_%D1%84%D0%BE%D1%80%D0%BC%D1%83%D0%BB)  \n",
    "[Специальные символы LaTeX](https://devhops.ru/latex/symbols/)  \n",
    "[latex Пробел (список команд) отступ в формуле - математический режим, пример, уменьшение пробела отступа](https://fkn.ktu10.com/?q=node/6813)  \n",
    "[Как красиво писать формулы c LaTeX?](https://habr.com/ru/articles/723564/)  \n",
    "[Питон в научных вычислениях](https://www.inp.nsk.su/~grozin/python/python7.html)  \n",
    "[Математические формулы в LaTeX](https://ru.wikibooks.org/wiki/%D0%9C%D0%B0%D1%82%D0%B5%D0%BC%D0%B0%D1%82%D0%B8%D1%87%D0%B5%D1%81%D0%BA%D0%B8%D0%B5_%D1%84%D0%BE%D1%80%D0%BC%D1%83%D0%BB%D1%8B_%D0%B2_LaTeX)  \n",
    "[Вычисление интегралов онлайн](https://www.integral-calculator.ru/)"
   ]
  },
  {
   "cell_type": "markdown",
   "id": "b34e91d5-3445-471c-9df9-d56cd94d8257",
   "metadata": {},
   "source": [
    "## Решить уравнения:  \n",
    "\n",
    "Примечание:  \n",
    "ln(x) = log(x) "
   ]
  },
  {
   "cell_type": "markdown",
   "id": "37064f9d-0075-4b56-a9fe-fded75d4b198",
   "metadata": {},
   "source": [
    "### Задача 1"
   ]
  },
  {
   "cell_type": "code",
   "execution_count": 5,
   "id": "cdf4acb1-fc2f-4823-9da8-e8c29687d97b",
   "metadata": {},
   "outputs": [
    {
     "data": {
      "text/markdown": [
       "Условие: $\\quad - y{\\left(x \\right)} + \\frac{d}{d x} y{\\left(x \\right)} = 2 x - 3$"
      ],
      "text/plain": [
       "<IPython.core.display.Markdown object>"
      ]
     },
     "metadata": {},
     "output_type": "display_data"
    },
    {
     "data": {
      "text/markdown": [
       "---"
      ],
      "text/plain": [
       "<IPython.core.display.Markdown object>"
      ]
     },
     "metadata": {},
     "output_type": "display_data"
    },
    {
     "data": {
      "text/markdown": [
       "Общее решение: $\\quad y{\\left(x \\right)} = C_{1} e^{x} - 2 x + 1$"
      ],
      "text/plain": [
       "<IPython.core.display.Markdown object>"
      ]
     },
     "metadata": {},
     "output_type": "display_data"
    }
   ],
   "source": [
    "x = sym.symbols('x')  # Независимая переменная\n",
    "y = sym.Function('y') # Зависимая переменная\n",
    "# Условие\n",
    "equation = sym.Eq(y(x).diff(x) - y(x), 2*x - 3)\n",
    "printmd(f'Условие: $\\quad {sym.latex(equation)}$')\n",
    "printmd('---')\n",
    "# Решение\n",
    "solution = sym.dsolve(equation)\n",
    "printmd(f'Общее решение: $\\quad {sym.latex(solution)}$')"
   ]
  },
  {
   "cell_type": "markdown",
   "id": "d59a40ee-48d0-41bf-8106-8b9788f19307",
   "metadata": {},
   "source": [
    "### Задача 2"
   ]
  },
  {
   "cell_type": "code",
   "execution_count": 6,
   "id": "c9541836-80d1-4d44-9e79-45b41b540aa4",
   "metadata": {},
   "outputs": [
    {
     "data": {
      "text/markdown": [
       "Условие: $\\quad x^{2} \\frac{d}{d x} y{\\left(x \\right)} + x y{\\left(x \\right)} + 1 = 0$"
      ],
      "text/plain": [
       "<IPython.core.display.Markdown object>"
      ]
     },
     "metadata": {},
     "output_type": "display_data"
    },
    {
     "data": {
      "text/markdown": [
       "---"
      ],
      "text/plain": [
       "<IPython.core.display.Markdown object>"
      ]
     },
     "metadata": {},
     "output_type": "display_data"
    },
    {
     "data": {
      "text/markdown": [
       "Общее решение: $\\quad y{\\left(x \\right)} = \\frac{C_{1} - \\log{\\left(x \\right)}}{x}$"
      ],
      "text/plain": [
       "<IPython.core.display.Markdown object>"
      ]
     },
     "metadata": {},
     "output_type": "display_data"
    }
   ],
   "source": [
    "# Условие\n",
    "equation = sym.Eq(x**2 * y(x).diff(x) + x*y(x) + 1, 0)\n",
    "printmd(f'Условие: $\\quad {sym.latex(equation)}$')\n",
    "printmd('---')\n",
    "# Решение\n",
    "solution = sym.dsolve(equation)\n",
    "printmd(f'Общее решение: $\\quad {sym.latex(solution)}$')"
   ]
  },
  {
   "cell_type": "markdown",
   "id": "6cd3707d-b0bf-44ae-958c-f6277a9bfbd7",
   "metadata": {},
   "source": [
    "## Исследовать ряд на сходимость:  \n",
    "\n",
    "[Ряды для чайников. Примеры решений](http://mathprofi.ru/ryady_dlya_chajnikov.html)  \n",
    "[Калькулятор Пределов. Вычисление Пределов Функций](https://mathdf.com/lim/ru/)  \n",
    "[Калькулятор Рядов](https://ru.symbolab.com/solver/series-calculator)  \n",
    "[Числовая оценка](https://docs.sympy.org/latest/modules/evalf.html)"
   ]
  },
  {
   "cell_type": "code",
   "execution_count": 7,
   "id": "e88948ce-3d9f-46db-b108-f698c0e59d76",
   "metadata": {},
   "outputs": [],
   "source": [
    "n = sym.symbols('n')\n",
    "\n",
    "def series_convergence(series_func, series_param=(n, 1, sym.oo)):\n",
    "    '''\n",
    "    Функция тестирует ряд на сходимость/расходимость.\n",
    "\n",
    "    :param series_func: функция ряда,\n",
    "    :param series_param: параметры ряда,\n",
    "    :return: функция ничего не возвращает, но выводит результат исследования ряда.\n",
    "    '''\n",
    "    # Ряд\n",
    "    condition = sym.Sum(series_func, series_param)\n",
    "    printmd(f'Ряд: $\\quad {sym.latex(condition)}$')\n",
    "    printmd(f'---')\n",
    "    try:\n",
    "        # Вычисляем предел\n",
    "        a = sym.Limit(series_func, series_param[0], series_param[2])\n",
    "        limit_calc = a.doit()\n",
    "    except NotImplementedError:\n",
    "        printmd(f'Предел: $\\quad {sym.latex(a)}$ не существует. $\\quad \\Rightarrow$  Исследуемый ряд расходитсясодится.')\n",
    "        return\n",
    "    \n",
    "    if limit_calc == -sym.oo or limit_calc == sym.oo :\n",
    "        printmd(f'Предел: $\\quad {sym.latex(sym.Eq(a, a.doit()))} \\quad \\Rightarrow$  Исследуемый ряд расходитсясодится.')\n",
    "    elif limit_calc == 0:\n",
    "        printmd(f'Предел: $\\quad {sym.latex(sym.Eq(a, a.doit()))} \\quad \\Rightarrow$  Ряд может содится, а может расходится.')\n",
    "        try:\n",
    "            # Вычислим численные значения ряда\n",
    "            a = sym.Sum(series_func, series_param)\n",
    "            sum_series = sym.N(a.evalf().doit(), 5)\n",
    "            printmd(f'Сумма ряда: $\\quad {sym.latex(a)} = {sum_series} \\quad \\Rightarrow$  Исследуемый ряд сходится.')\n",
    "        except ValueError:\n",
    "            printmd(f'Сумма ряда: $\\quad {sym.latex(a)}$ не вычисляется $\\quad \\Rightarrow$  Исследуемый ряд расходится.')\n",
    "        except TypeError:\n",
    "            printmd(f'Сумма ряда: $\\quad {sym.latex(a)}$ не вычисляется $\\quad \\Rightarrow$  Исследуемый ряд расходится.')\n",
    "    elif limit_calc != 0:\n",
    "        printmd(f'Предел: $\\quad {sym.latex(sym.Eq(a, a.doit()))}$ ≠ 0  $\\quad \\Rightarrow$  Исследуемый ряд расходитсясодится.')\n",
    "    else:\n",
    "        printmd('Отработало условие, если все другие не подошли.')"
   ]
  },
  {
   "cell_type": "markdown",
   "id": "0e39f768-debe-49f3-80af-e3fcac353169",
   "metadata": {},
   "source": [
    "### Задача 1"
   ]
  },
  {
   "cell_type": "code",
   "execution_count": 8,
   "id": "a53f0d87-f01d-40f1-ab97-da7b7237c86a",
   "metadata": {},
   "outputs": [
    {
     "data": {
      "text/markdown": [
       "Ряд: $\\quad \\sum_{n=1}^{\\infty} \\frac{n + 2}{n^{2} + n + 1}$"
      ],
      "text/plain": [
       "<IPython.core.display.Markdown object>"
      ]
     },
     "metadata": {},
     "output_type": "display_data"
    },
    {
     "data": {
      "text/markdown": [
       "---"
      ],
      "text/plain": [
       "<IPython.core.display.Markdown object>"
      ]
     },
     "metadata": {},
     "output_type": "display_data"
    },
    {
     "data": {
      "text/markdown": [
       "Предел: $\\quad \\lim_{n \\to \\infty}\\left(\\frac{n + 2}{n^{2} + n + 1}\\right) = 0 \\quad \\Rightarrow$  Ряд может содится, а может расходится."
      ],
      "text/plain": [
       "<IPython.core.display.Markdown object>"
      ]
     },
     "metadata": {},
     "output_type": "display_data"
    },
    {
     "data": {
      "text/markdown": [
       "Сумма ряда: $\\quad \\sum_{n=1}^{\\infty} \\frac{n + 2}{n^{2} + n + 1}$ не вычисляется $\\quad \\Rightarrow$  Исследуемый ряд расходится."
      ],
      "text/plain": [
       "<IPython.core.display.Markdown object>"
      ]
     },
     "metadata": {},
     "output_type": "display_data"
    }
   ],
   "source": [
    "# Задаём функцию\n",
    "func = (n+2)/(n**2 + n + 1)\n",
    "# Исследуем ряд\n",
    "series_convergence(func)"
   ]
  },
  {
   "cell_type": "markdown",
   "id": "5e1af4ee-93ef-45c2-821c-fc8c3bb9a095",
   "metadata": {},
   "source": [
    "### Задача 2"
   ]
  },
  {
   "cell_type": "code",
   "execution_count": 9,
   "id": "c0684975-d05f-48c0-ae51-477f1d394116",
   "metadata": {},
   "outputs": [
    {
     "data": {
      "text/markdown": [
       "Ряд: $\\quad \\sum_{n=1}^{\\infty} \\frac{n^{n}}{n!}$"
      ],
      "text/plain": [
       "<IPython.core.display.Markdown object>"
      ]
     },
     "metadata": {},
     "output_type": "display_data"
    },
    {
     "data": {
      "text/markdown": [
       "---"
      ],
      "text/plain": [
       "<IPython.core.display.Markdown object>"
      ]
     },
     "metadata": {},
     "output_type": "display_data"
    },
    {
     "data": {
      "text/markdown": [
       "Предел: $\\quad \\lim_{n \\to \\infty}\\left(\\frac{n^{n}}{n!}\\right) = \\infty \\quad \\Rightarrow$  Исследуемый ряд расходитсясодится."
      ],
      "text/plain": [
       "<IPython.core.display.Markdown object>"
      ]
     },
     "metadata": {},
     "output_type": "display_data"
    }
   ],
   "source": [
    "# Задаём функцию\n",
    "func = (n**n)/sym.factorial(n)\n",
    "# Исследуем ряд\n",
    "series_convergence(func)"
   ]
  },
  {
   "cell_type": "markdown",
   "id": "e0fb70d7-d043-460a-8ef5-95c19b920eb9",
   "metadata": {},
   "source": [
    "### Задача 3"
   ]
  },
  {
   "cell_type": "code",
   "execution_count": 10,
   "id": "1e076d1d-89eb-4ff0-bcb1-ac80a212813a",
   "metadata": {},
   "outputs": [
    {
     "data": {
      "text/markdown": [
       "Ряд: $\\quad \\sum_{n=1}^{\\infty} n \\left(1 - \\frac{1}{n}\\right)^{n^{2}}$"
      ],
      "text/plain": [
       "<IPython.core.display.Markdown object>"
      ]
     },
     "metadata": {},
     "output_type": "display_data"
    },
    {
     "data": {
      "text/markdown": [
       "---"
      ],
      "text/plain": [
       "<IPython.core.display.Markdown object>"
      ]
     },
     "metadata": {},
     "output_type": "display_data"
    },
    {
     "data": {
      "text/markdown": [
       "Предел: $\\quad \\lim_{n \\to \\infty}\\left(n \\left(1 - \\frac{1}{n}\\right)^{n^{2}}\\right) = 0 \\quad \\Rightarrow$  Ряд может содится, а может расходится."
      ],
      "text/plain": [
       "<IPython.core.display.Markdown object>"
      ]
     },
     "metadata": {},
     "output_type": "display_data"
    },
    {
     "data": {
      "text/markdown": [
       "Сумма ряда: $\\quad \\sum_{n=1}^{\\infty} n \\left(1 - \\frac{1}{n}\\right)^{n^{2}} = 0.27680 \\quad \\Rightarrow$  Исследуемый ряд сходится."
      ],
      "text/plain": [
       "<IPython.core.display.Markdown object>"
      ]
     },
     "metadata": {},
     "output_type": "display_data"
    }
   ],
   "source": [
    "# Задаём функцию\n",
    "func = n*(1 - 1/n)**(n**2)\n",
    "# Исследуем ряд\n",
    "series_convergence(func)"
   ]
  },
  {
   "cell_type": "markdown",
   "id": "053888f8-6de2-4aa6-9058-6f875ef7e210",
   "metadata": {},
   "source": [
    "### Задача 4"
   ]
  },
  {
   "cell_type": "code",
   "execution_count": 11,
   "id": "36931ef7-225a-4d0c-b46a-56c777cd946a",
   "metadata": {},
   "outputs": [
    {
     "data": {
      "text/markdown": [
       "Ряд: $\\quad \\sum_{n=1}^{\\infty} \\frac{\\left(-1\\right)^{n + 1}}{2 n - \\log{\\left(n \\right)}}$"
      ],
      "text/plain": [
       "<IPython.core.display.Markdown object>"
      ]
     },
     "metadata": {},
     "output_type": "display_data"
    },
    {
     "data": {
      "text/markdown": [
       "---"
      ],
      "text/plain": [
       "<IPython.core.display.Markdown object>"
      ]
     },
     "metadata": {},
     "output_type": "display_data"
    },
    {
     "data": {
      "text/markdown": [
       "Предел: $\\quad \\lim_{n \\to \\infty}\\left(\\frac{\\left(-1\\right)^{n + 1}}{2 n - \\log{\\left(n \\right)}}\\right)$ не существует. $\\quad \\Rightarrow$  Исследуемый ряд расходитсясодится."
      ],
      "text/plain": [
       "<IPython.core.display.Markdown object>"
      ]
     },
     "metadata": {},
     "output_type": "display_data"
    }
   ],
   "source": [
    "# Задаём функцию\n",
    "func = ((-1)**(n+1))/(2*n - sym.ln(n))\n",
    "# Исследуем ряд\n",
    "series_convergence(func)"
   ]
  },
  {
   "cell_type": "markdown",
   "id": "f505d1e0-e314-4c2f-879e-d64d0055f0a9",
   "metadata": {},
   "source": [
    "### Задача 5\n",
    "\n",
    "[Калькулятор Степенных Рядов](https://ru.symbolab.com/solver/power-series-calculator)"
   ]
  },
  {
   "cell_type": "code",
   "execution_count": 119,
   "id": "a0385db1-05a9-4710-89d1-5b092ccc600a",
   "metadata": {},
   "outputs": [
    {
     "data": {
      "text/markdown": [
       "Ряд: $\\quad \\sum_{n=1}^{\\infty} \\frac{3^{- n} \\left(x - 2\\right)^{n + 1}}{n + 2}$"
      ],
      "text/plain": [
       "<IPython.core.display.Markdown object>"
      ]
     },
     "metadata": {},
     "output_type": "display_data"
    },
    {
     "data": {
      "text/markdown": [
       "---"
      ],
      "text/plain": [
       "<IPython.core.display.Markdown object>"
      ]
     },
     "metadata": {},
     "output_type": "display_data"
    },
    {
     "data": {
      "text/markdown": [
       "По признаку Даламбера: $\\quad \\dfrac{\\frac{3^{- n - 1} \\left(x - 2\\right)^{n + 2}}{n + 3}}{\\frac{3^{- n} \\left(x - 2\\right)^{n + 1}}{n + 2}} = \\frac{\\left(n + 2\\right) \\left(x - 2\\right)}{3 \\left(n + 3\\right)}$"
      ],
      "text/plain": [
       "<IPython.core.display.Markdown object>"
      ]
     },
     "metadata": {},
     "output_type": "display_data"
    },
    {
     "data": {
      "text/markdown": [
       "Предел: $\\quad \\lim_{n \\to \\infty}\\left(\\frac{\\left(n + 2\\right) \\left(x - 2\\right)}{3 \\left(n + 3\\right)}\\right) = \\frac{x - 2}{3}$"
      ],
      "text/plain": [
       "<IPython.core.display.Markdown object>"
      ]
     },
     "metadata": {},
     "output_type": "display_data"
    },
    {
     "data": {
      "text/markdown": [
       "Точка слева: $ \\frac{x - 2}{3}>-1\\quad \\left(-1, \\infty\\right)$"
      ],
      "text/plain": [
       "<IPython.core.display.Markdown object>"
      ]
     },
     "metadata": {},
     "output_type": "display_data"
    },
    {
     "data": {
      "text/markdown": [
       "Точка справа: $\\frac{x - 2}{3}<1\\quad \\left(-\\infty, 5\\right)$"
      ],
      "text/plain": [
       "<IPython.core.display.Markdown object>"
      ]
     },
     "metadata": {},
     "output_type": "display_data"
    },
    {
     "data": {
      "text/markdown": [
       "---"
      ],
      "text/plain": [
       "<IPython.core.display.Markdown object>"
      ]
     },
     "metadata": {},
     "output_type": "display_data"
    },
    {
     "data": {
      "text/markdown": [
       "Ряд $\\sum_{n=1}^{\\infty} \\frac{3^{- n} \\left(x - 2\\right)^{n + 1}}{n + 2}$ сходится если принадлежит интервалу (-1, 5)"
      ],
      "text/plain": [
       "<IPython.core.display.Markdown object>"
      ]
     },
     "metadata": {},
     "output_type": "display_data"
    }
   ],
   "source": [
    "# Задаём функцию\n",
    "func = (x-2)**(n+1)/(3**n*(n+2))\n",
    "printmd(f'Ряд: $\\quad {sym.latex(sym.Sum(func, (n, 1, sym.oo)))}$')\n",
    "printmd(f'---')\n",
    "# Заменяем n на n+1\n",
    "func_str = str(func).replace('n','(n+1)')\n",
    "# Парсим изиенённую строку в формулу\n",
    "func_edit = sym.parse_expr(func_str)\n",
    "# По признаку Даламбера\n",
    "temp_func = sym.simplify(func_edit/func)\n",
    "# temp_func = sym.Abs(temp_func)\n",
    "printmd(f'По признаку Даламбера: $\\quad \\dfrac{{{sym.latex(func_edit)}}}{{{sym.latex(func)}}} = {sym.latex(temp_func)}$')\n",
    "# Вычисляем предел\n",
    "a = sym.Limit(temp_func, n, sym.oo)\n",
    "a_doit = sym.factor(a.doit())\n",
    "printmd(f'Предел: $\\quad {sym.latex(sym.Eq(a, a_doit))}$')\n",
    "# Вычислим интервалы где ряд сходится\n",
    "min = sym.solve_univariate_inequality(a_doit>-1,x,relational=False)\n",
    "printmd(f'Точка слева: $ {sym.latex(a_doit)}>-1\\quad {sym.latex(min)}$')\n",
    "max = sym.solve_univariate_inequality(a_doit<1,x,relational=False)\n",
    "printmd(f'Точка справа: ${sym.latex(a_doit)}<1\\quad {sym.latex(max)}$')\n",
    "# Вывод\n",
    "printmd('---')\n",
    "printmd(f'Ряд ${sym.latex(sym.Sum(func, (n, 1, sym.oo)))}$ сходится если принадлежит интервалу (-1, 5)')"
   ]
  },
  {
   "cell_type": "code",
   "execution_count": null,
   "id": "d24b9c41-bd85-4cd8-8c06-c2b75b138830",
   "metadata": {},
   "outputs": [],
   "source": []
  },
  {
   "cell_type": "code",
   "execution_count": null,
   "id": "8a1f0221-d29a-450c-88d9-a11dd8ef0197",
   "metadata": {},
   "outputs": [],
   "source": []
  },
  {
   "cell_type": "code",
   "execution_count": null,
   "id": "dab10a36-06bf-4736-a4e7-73e1cecd5e8d",
   "metadata": {},
   "outputs": [],
   "source": []
  },
  {
   "cell_type": "code",
   "execution_count": null,
   "id": "0fd0e861-a97c-4745-8f24-5ae83b0cf0d6",
   "metadata": {},
   "outputs": [],
   "source": []
  },
  {
   "cell_type": "code",
   "execution_count": null,
   "id": "9aecf416-1f9f-469f-957f-98005815f327",
   "metadata": {},
   "outputs": [],
   "source": []
  },
  {
   "cell_type": "code",
   "execution_count": null,
   "id": "e0c96833-1cf2-4094-ad10-8eb422c9d954",
   "metadata": {},
   "outputs": [],
   "source": []
  },
  {
   "cell_type": "code",
   "execution_count": 52,
   "id": "fd618846-5049-4721-a17f-630d09667723",
   "metadata": {},
   "outputs": [
    {
     "data": {
      "text/markdown": [
       "Ряд: $\\quad \\sum_{n=1}^{\\infty} 2^{- n - 1} \\left(x - 3\\right)^{n - 1} n!$"
      ],
      "text/plain": [
       "<IPython.core.display.Markdown object>"
      ]
     },
     "metadata": {},
     "output_type": "display_data"
    },
    {
     "data": {
      "text/markdown": [
       "---"
      ],
      "text/plain": [
       "<IPython.core.display.Markdown object>"
      ]
     },
     "metadata": {},
     "output_type": "display_data"
    },
    {
     "data": {
      "text/markdown": [
       "Предел: $\\quad \\lim_{n \\to \\infty}\\left(2^{- n - 1} \\left(x - 3\\right)^{n - 1} n!\\right) = \\infty \\operatorname{sign}{\\left(\\frac{1}{2 x - 6} \\right)}$ ≠ 0  $\\quad \\Rightarrow$  Исследуемый ряд расходитсясодится."
      ],
      "text/plain": [
       "<IPython.core.display.Markdown object>"
      ]
     },
     "metadata": {},
     "output_type": "display_data"
    }
   ],
   "source": [
    "# Задаём функцию\n",
    "func = sym.factorial(n)*(x-3)**(n-1)/(2**(n+1))\n",
    "\n",
    "series_convergence(func)"
   ]
  },
  {
   "cell_type": "code",
   "execution_count": 53,
   "id": "a32da632-34bf-4446-b702-6fa1ababecf9",
   "metadata": {},
   "outputs": [
    {
     "data": {
      "text/latex": [
       "$\\displaystyle \\infty \\operatorname{sign}{\\left(x - 3 \\right)}$"
      ],
      "text/plain": [
       "oo*sign(x - 3)"
      ]
     },
     "execution_count": 53,
     "metadata": {},
     "output_type": "execute_result"
    }
   ],
   "source": [
    "s = str(func).replace('n','n+1')\n",
    "f2 = sym.parse_expr(s)\n",
    "\n",
    "# Формула Даламбера\n",
    "temp_func = sym.simplify(f2/func)\n",
    "\n",
    "temp_func.subs({x: 3})\n",
    "\n",
    "sym.limit(temp_func, n, sym.oo)\n",
    "# temp_func\n",
    "# sym.series?"
   ]
  },
  {
   "cell_type": "code",
   "execution_count": 54,
   "id": "2ee8db3e-2a94-4c1c-86d1-be3ecbc1b942",
   "metadata": {},
   "outputs": [
    {
     "data": {
      "text/latex": [
       "$\\displaystyle 0$"
      ],
      "text/plain": [
       "0"
      ]
     },
     "execution_count": 54,
     "metadata": {},
     "output_type": "execute_result"
    }
   ],
   "source": [
    "temp_func.subs({x: 3})"
   ]
  },
  {
   "cell_type": "code",
   "execution_count": 49,
   "id": "5f283164-bae0-412e-b834-8e9f1eeb7731",
   "metadata": {},
   "outputs": [
    {
     "data": {
      "text/latex": [
       "$\\displaystyle 0$"
      ],
      "text/plain": [
       "0"
      ]
     },
     "execution_count": 49,
     "metadata": {},
     "output_type": "execute_result"
    }
   ],
   "source": []
  },
  {
   "cell_type": "markdown",
   "id": "ce5c83dd-5b2a-4508-92e4-69262cab8c9c",
   "metadata": {},
   "source": [
    "### Test"
   ]
  },
  {
   "cell_type": "code",
   "execution_count": 13,
   "id": "611cc41c-205e-4e4c-9f6c-c1f42f1927bb",
   "metadata": {},
   "outputs": [
    {
     "data": {
      "text/markdown": [
       "Ряд: $\\quad \\sum_{n=1}^{\\infty} \\frac{n + 1}{2 n + 1}$"
      ],
      "text/plain": [
       "<IPython.core.display.Markdown object>"
      ]
     },
     "metadata": {},
     "output_type": "display_data"
    },
    {
     "data": {
      "text/markdown": [
       "---"
      ],
      "text/plain": [
       "<IPython.core.display.Markdown object>"
      ]
     },
     "metadata": {},
     "output_type": "display_data"
    },
    {
     "data": {
      "text/markdown": [
       "Предел: $\\quad \\lim_{n \\to \\infty}\\left(\\frac{n + 1}{2 n + 1}\\right) = \\frac{1}{2}$ ≠ 0  $\\quad \\Rightarrow$  Исследуемый ряд расходитсясодится."
      ],
      "text/plain": [
       "<IPython.core.display.Markdown object>"
      ]
     },
     "metadata": {},
     "output_type": "display_data"
    }
   ],
   "source": [
    "# Задаём функцию\n",
    "func = (n+1)/(2*n+1)\n",
    "# Исследуем ряд\n",
    "series_convergence(func)"
   ]
  },
  {
   "cell_type": "code",
   "execution_count": 14,
   "id": "53cd2835-9285-4d0a-92d4-c5d69198de71",
   "metadata": {},
   "outputs": [
    {
     "data": {
      "text/markdown": [
       "Ряд: $\\quad \\sum_{n=1}^{\\infty} \\frac{n^{\\frac{3}{2}} + 2}{\\sqrt{n^{6} + 2 n - 2}}$"
      ],
      "text/plain": [
       "<IPython.core.display.Markdown object>"
      ]
     },
     "metadata": {},
     "output_type": "display_data"
    },
    {
     "data": {
      "text/markdown": [
       "---"
      ],
      "text/plain": [
       "<IPython.core.display.Markdown object>"
      ]
     },
     "metadata": {},
     "output_type": "display_data"
    },
    {
     "data": {
      "text/markdown": [
       "Предел: $\\quad \\lim_{n \\to \\infty}\\left(\\frac{n^{\\frac{3}{2}} + 2}{\\sqrt{n^{6} + 2 n - 2}}\\right) = 0 \\quad \\Rightarrow$  Ряд может содится, а может расходится."
      ],
      "text/plain": [
       "<IPython.core.display.Markdown object>"
      ]
     },
     "metadata": {},
     "output_type": "display_data"
    },
    {
     "data": {
      "text/markdown": [
       "Сумма ряда: $\\quad \\sum_{n=1}^{\\infty} \\frac{n^{\\frac{3}{2}} + 2}{\\sqrt{n^{6} + 2 n - 2}} = 5.0064 \\quad \\Rightarrow$  Исследуемый ряд сходится."
      ],
      "text/plain": [
       "<IPython.core.display.Markdown object>"
      ]
     },
     "metadata": {},
     "output_type": "display_data"
    }
   ],
   "source": [
    "# Задаём функцию\n",
    "func = (n*sym.sqrt(n)+2)/sym.sqrt(n**6+2*n-2)\n",
    "# Исследуем ряд\n",
    "series_convergence(func)"
   ]
  },
  {
   "cell_type": "code",
   "execution_count": 15,
   "id": "43c18863-84af-43ab-b162-cb65aefb933e",
   "metadata": {},
   "outputs": [
    {
     "data": {
      "text/markdown": [
       "Ряд: $\\quad \\sum_{n=1}^{\\infty} \\frac{\\left(-1\\right)^{n}}{2 \\sqrt{n} - 1}$"
      ],
      "text/plain": [
       "<IPython.core.display.Markdown object>"
      ]
     },
     "metadata": {},
     "output_type": "display_data"
    },
    {
     "data": {
      "text/markdown": [
       "---"
      ],
      "text/plain": [
       "<IPython.core.display.Markdown object>"
      ]
     },
     "metadata": {},
     "output_type": "display_data"
    },
    {
     "data": {
      "text/markdown": [
       "Предел: $\\quad \\lim_{n \\to \\infty}\\left(\\frac{\\left(-1\\right)^{n}}{2 \\sqrt{n} - 1}\\right)$ не существует. $\\quad \\Rightarrow$  Исследуемый ряд расходитсясодится."
      ],
      "text/plain": [
       "<IPython.core.display.Markdown object>"
      ]
     },
     "metadata": {},
     "output_type": "display_data"
    }
   ],
   "source": [
    "# Задаём функцию\n",
    "func = (-1)**n* 1/(2*sym.sqrt(n)-1)\n",
    "# Исследуем ряд\n",
    "series_convergence(func)\n",
    "\n"
   ]
  },
  {
   "cell_type": "code",
   "execution_count": 16,
   "id": "420b9757-d657-4f9d-b481-bbbe8f82962d",
   "metadata": {},
   "outputs": [
    {
     "data": {
      "text/markdown": [
       "Ряд: $\\quad \\sum_{n=1}^{\\infty} \\frac{1}{2 \\sqrt{n} - 1}$"
      ],
      "text/plain": [
       "<IPython.core.display.Markdown object>"
      ]
     },
     "metadata": {},
     "output_type": "display_data"
    },
    {
     "data": {
      "text/markdown": [
       "---"
      ],
      "text/plain": [
       "<IPython.core.display.Markdown object>"
      ]
     },
     "metadata": {},
     "output_type": "display_data"
    },
    {
     "data": {
      "text/markdown": [
       "Предел: $\\quad \\lim_{n \\to \\infty} \\frac{1}{2 \\sqrt{n} - 1} = 0 \\quad \\Rightarrow$  Ряд может содится, а может расходится."
      ],
      "text/plain": [
       "<IPython.core.display.Markdown object>"
      ]
     },
     "metadata": {},
     "output_type": "display_data"
    },
    {
     "data": {
      "text/markdown": [
       "Сумма ряда: $\\quad \\sum_{n=1}^{\\infty} \\frac{1}{2 \\sqrt{n} - 1} = 1.0531E+65 \\quad \\Rightarrow$  Исследуемый ряд сходится."
      ],
      "text/plain": [
       "<IPython.core.display.Markdown object>"
      ]
     },
     "metadata": {},
     "output_type": "display_data"
    }
   ],
   "source": [
    "# Задаём функцию\n",
    "func = 1**n* 1/(2*sym.sqrt(n)-1)\n",
    "# Исследуем ряд\n",
    "series_convergence(func)"
   ]
  },
  {
   "cell_type": "markdown",
   "id": "aa005637-5e53-4eeb-9f78-acf43a566f96",
   "metadata": {},
   "source": [
    " ### Условно сходящийся ряд"
   ]
  },
  {
   "cell_type": "code",
   "execution_count": 17,
   "id": "8c067e5b-f677-41cf-95e3-afb270fc3a35",
   "metadata": {},
   "outputs": [
    {
     "data": {
      "text/markdown": [
       "Ряд: $\\quad \\sum_{n=2}^{\\infty} \\frac{1}{\\left(n - 1\\right) \\left(n^{2} + 2\\right)}$"
      ],
      "text/plain": [
       "<IPython.core.display.Markdown object>"
      ]
     },
     "metadata": {},
     "output_type": "display_data"
    },
    {
     "data": {
      "text/markdown": [
       "---"
      ],
      "text/plain": [
       "<IPython.core.display.Markdown object>"
      ]
     },
     "metadata": {},
     "output_type": "display_data"
    },
    {
     "data": {
      "text/markdown": [
       "Предел: $\\quad \\lim_{n \\to \\infty}\\left(\\frac{1}{\\left(n - 1\\right) \\left(n^{2} + 2\\right)}\\right) = 0 \\quad \\Rightarrow$  Ряд может содится, а может расходится."
      ],
      "text/plain": [
       "<IPython.core.display.Markdown object>"
      ]
     },
     "metadata": {},
     "output_type": "display_data"
    },
    {
     "data": {
      "text/markdown": [
       "Сумма ряда: $\\quad \\sum_{n=2}^{\\infty} \\frac{1}{\\left(n - 1\\right) \\left(n^{2} + 2\\right)} = 0.25798 \\quad \\Rightarrow$  Исследуемый ряд сходится."
      ],
      "text/plain": [
       "<IPython.core.display.Markdown object>"
      ]
     },
     "metadata": {},
     "output_type": "display_data"
    }
   ],
   "source": [
    "# Задаём функцию\n",
    "func = 1/((n-1)*(n**2+2))\n",
    "# Исследуем ряд\n",
    "series_convergence(func,(n,2,sym.oo))"
   ]
  },
  {
   "cell_type": "code",
   "execution_count": 18,
   "id": "0b05b22f-467c-42f4-92c5-f4d1dc0aac84",
   "metadata": {},
   "outputs": [
    {
     "data": {
      "text/markdown": [
       "Ряд: $\\quad \\sum_{n=1}^{\\infty} \\left(\\frac{n + 2}{2 n + 1}\\right)^{3 n + 1}$"
      ],
      "text/plain": [
       "<IPython.core.display.Markdown object>"
      ]
     },
     "metadata": {},
     "output_type": "display_data"
    },
    {
     "data": {
      "text/markdown": [
       "---"
      ],
      "text/plain": [
       "<IPython.core.display.Markdown object>"
      ]
     },
     "metadata": {},
     "output_type": "display_data"
    },
    {
     "data": {
      "text/markdown": [
       "Предел: $\\quad \\lim_{n \\to \\infty} \\left(\\frac{n + 2}{2 n + 1}\\right)^{3 n + 1} = 0 \\quad \\Rightarrow$  Ряд может содится, а может расходится."
      ],
      "text/plain": [
       "<IPython.core.display.Markdown object>"
      ]
     },
     "metadata": {},
     "output_type": "display_data"
    },
    {
     "data": {
      "text/markdown": [
       "Сумма ряда: $\\quad \\sum_{n=1}^{\\infty} \\left(\\frac{n + 2}{2 n + 1}\\right)^{3 n + 1} = 1.2503 \\quad \\Rightarrow$  Исследуемый ряд сходится."
      ],
      "text/plain": [
       "<IPython.core.display.Markdown object>"
      ]
     },
     "metadata": {},
     "output_type": "display_data"
    }
   ],
   "source": [
    "# Задаём функцию\n",
    "func = ((n+2)/(2*n+1))**(3*n+1)\n",
    "# Исследуем ряд\n",
    "series_convergence(func)"
   ]
  },
  {
   "cell_type": "code",
   "execution_count": 19,
   "id": "230784e5-b210-4d49-9246-10ce901c5e27",
   "metadata": {},
   "outputs": [
    {
     "data": {
      "text/markdown": [
       "Ряд: $\\quad \\sum_{n=1}^{\\infty} \\frac{1}{n \\log{\\left(n \\right)}}$"
      ],
      "text/plain": [
       "<IPython.core.display.Markdown object>"
      ]
     },
     "metadata": {},
     "output_type": "display_data"
    },
    {
     "data": {
      "text/markdown": [
       "---"
      ],
      "text/plain": [
       "<IPython.core.display.Markdown object>"
      ]
     },
     "metadata": {},
     "output_type": "display_data"
    },
    {
     "data": {
      "text/markdown": [
       "Предел: $\\quad \\lim_{n \\to \\infty}\\left(\\frac{1}{n \\log{\\left(n \\right)}}\\right) = 0 \\quad \\Rightarrow$  Ряд может содится, а может расходится."
      ],
      "text/plain": [
       "<IPython.core.display.Markdown object>"
      ]
     },
     "metadata": {},
     "output_type": "display_data"
    },
    {
     "data": {
      "text/markdown": [
       "Сумма ряда: $\\quad \\sum_{n=1}^{\\infty} \\frac{1}{n \\log{\\left(n \\right)}}$ не вычисляется $\\quad \\Rightarrow$  Исследуемый ряд расходится."
      ],
      "text/plain": [
       "<IPython.core.display.Markdown object>"
      ]
     },
     "metadata": {},
     "output_type": "display_data"
    }
   ],
   "source": [
    "# Задаём функцию\n",
    "func = 1/(n*sym.ln(n))\n",
    "# Исследуем ряд\n",
    "series_convergence(func)"
   ]
  },
  {
   "cell_type": "code",
   "execution_count": 20,
   "id": "43ba40a1-b137-471a-b574-fc138d877e1c",
   "metadata": {},
   "outputs": [
    {
     "data": {
      "text/markdown": [
       "Ряд: $\\quad \\sum_{n=1}^{\\infty} \\frac{1}{n \\log{\\left(n \\right)}}$"
      ],
      "text/plain": [
       "<IPython.core.display.Markdown object>"
      ]
     },
     "metadata": {},
     "output_type": "display_data"
    },
    {
     "data": {
      "text/markdown": [
       "---"
      ],
      "text/plain": [
       "<IPython.core.display.Markdown object>"
      ]
     },
     "metadata": {},
     "output_type": "display_data"
    },
    {
     "data": {
      "text/markdown": [
       "Предел: $\\quad \\lim_{n \\to \\infty}\\left(\\frac{1}{n \\log{\\left(n \\right)}}\\right) = 0 \\quad \\Rightarrow$  Ряд может содится, а может расходится."
      ],
      "text/plain": [
       "<IPython.core.display.Markdown object>"
      ]
     },
     "metadata": {},
     "output_type": "display_data"
    },
    {
     "data": {
      "text/markdown": [
       "Сумма ряда: $\\quad \\sum_{n=1}^{\\infty} \\frac{1}{n \\log{\\left(n \\right)}}$ не вычисляется $\\quad \\Rightarrow$  Исследуемый ряд расходится."
      ],
      "text/plain": [
       "<IPython.core.display.Markdown object>"
      ]
     },
     "metadata": {},
     "output_type": "display_data"
    }
   ],
   "source": [
    "# Задаём функцию\n",
    "func = 1/(n*sym.ln(n))\n",
    "# Исследуем ряд\n",
    "series_convergence(func)"
   ]
  }
 ],
 "metadata": {
  "kernelspec": {
   "display_name": "Python 3 (ipykernel)",
   "language": "python",
   "name": "python3"
  },
  "language_info": {
   "codemirror_mode": {
    "name": "ipython",
    "version": 3
   },
   "file_extension": ".py",
   "mimetype": "text/x-python",
   "name": "python",
   "nbconvert_exporter": "python",
   "pygments_lexer": "ipython3",
   "version": "3.12.4"
  }
 },
 "nbformat": 4,
 "nbformat_minor": 5
}
