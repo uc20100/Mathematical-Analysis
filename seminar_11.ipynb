{
 "cells": [
  {
   "cell_type": "markdown",
   "id": "297de3fa-6c33-43ff-9254-d19eb5a5b9b1",
   "metadata": {},
   "source": [
    "# ДЗ по 'Введение в математический анализ'\n",
    "### Урок 11. Интеграл. Ряды. Часть 1\n",
    "[Ссылка на ДЗ](https://drive.google.com/file/d/185VRBkYTyRG1041vsOTQJ9RhjheZoy-G/view)"
   ]
  },
  {
   "cell_type": "code",
   "execution_count": 7,
   "id": "54edb3b5-16eb-4b07-b943-305b167e11bd",
   "metadata": {},
   "outputs": [],
   "source": [
    "# Устанавливаем библиотеки, если они не установлены\n",
    "# !pip install sympy"
   ]
  },
  {
   "cell_type": "code",
   "execution_count": 8,
   "id": "6dd30e9a-a9a9-4877-82bc-8b78fd83b826",
   "metadata": {},
   "outputs": [],
   "source": [
    "# Подключаем необходимые библиотеки\n",
    "import sympy as sym\n",
    "from IPython.display import Markdown, display\n",
    "\n",
    "# Уберем warnings\n",
    "import warnings\n",
    "warnings.filterwarnings('ignore')"
   ]
  },
  {
   "cell_type": "code",
   "execution_count": 9,
   "id": "bb19b5c1-9bea-41c3-ad72-5e214cbfbf4f",
   "metadata": {},
   "outputs": [],
   "source": [
    "def printmd(string):\n",
    "    '''\n",
    "    Функция выводит на консоль, текст в разметке Markdown.\n",
    "\n",
    "    :param string: строка которую будем переделывать в Markdown разметку,\n",
    "    :return: вывод строки в Markdown разметке.\n",
    "    '''\n",
    "    display(Markdown(string))"
   ]
  },
  {
   "cell_type": "markdown",
   "id": "92aeb57c-f2c4-4c40-ab9a-fe80e387524b",
   "metadata": {},
   "source": [
    "[Библиотека Sympy: символьные вычисления в Python](https://pythonist.ru/biblioteka-sympy-simvolnye-vychisleniya-v-python/)  \n",
    "[Википедия:Примеры оформления формул](https://ru.wikipedia.org/wiki/%D0%92%D0%B8%D0%BA%D0%B8%D0%BF%D0%B5%D0%B4%D0%B8%D1%8F:%D0%9F%D1%80%D0%B8%D0%BC%D0%B5%D1%80%D1%8B_%D0%BE%D1%84%D0%BE%D1%80%D0%BC%D0%BB%D0%B5%D0%BD%D0%B8%D1%8F_%D1%84%D0%BE%D1%80%D0%BC%D1%83%D0%BB)  \n",
    "[Специальные символы LaTeX](https://devhops.ru/latex/symbols/)  \n",
    "[latex Пробел (список команд) отступ в формуле - математический режим, пример, уменьшение пробела отступа](https://fkn.ktu10.com/?q=node/6813)  \n",
    "[Как красиво писать формулы c LaTeX?](https://habr.com/ru/articles/723564/)  \n",
    "[Питон в научных вычислениях](https://www.inp.nsk.su/~grozin/python/python7.html)  \n",
    "[Математические формулы в LaTeX](https://ru.wikibooks.org/wiki/%D0%9C%D0%B0%D1%82%D0%B5%D0%BC%D0%B0%D1%82%D0%B8%D1%87%D0%B5%D1%81%D0%BA%D0%B8%D0%B5_%D1%84%D0%BE%D1%80%D0%BC%D1%83%D0%BB%D1%8B_%D0%B2_LaTeX)  \n",
    "[Вычисление интегралов онлайн](https://www.integral-calculator.ru/)"
   ]
  },
  {
   "cell_type": "markdown",
   "id": "b34e91d5-3445-471c-9df9-d56cd94d8257",
   "metadata": {},
   "source": [
    "## Решить уравнения:  \n",
    "\n",
    "Примечание:  \n",
    "ln(x) = log(x) "
   ]
  },
  {
   "cell_type": "markdown",
   "id": "37064f9d-0075-4b56-a9fe-fded75d4b198",
   "metadata": {},
   "source": [
    "### Задача 1"
   ]
  },
  {
   "cell_type": "code",
   "execution_count": 10,
   "id": "cdf4acb1-fc2f-4823-9da8-e8c29687d97b",
   "metadata": {},
   "outputs": [
    {
     "data": {
      "text/markdown": [
       "Условие: $\\quad - y{\\left(x \\right)} + \\frac{d}{d x} y{\\left(x \\right)} = 2 x - 3$"
      ],
      "text/plain": [
       "<IPython.core.display.Markdown object>"
      ]
     },
     "metadata": {},
     "output_type": "display_data"
    },
    {
     "data": {
      "text/markdown": [
       "---"
      ],
      "text/plain": [
       "<IPython.core.display.Markdown object>"
      ]
     },
     "metadata": {},
     "output_type": "display_data"
    },
    {
     "data": {
      "text/markdown": [
       "Общее решение: $\\quad y{\\left(x \\right)} = C_{1} e^{x} - 2 x + 1$"
      ],
      "text/plain": [
       "<IPython.core.display.Markdown object>"
      ]
     },
     "metadata": {},
     "output_type": "display_data"
    }
   ],
   "source": [
    "x = sym.symbols('x')  # Независимая переменная\n",
    "y = sym.Function('y') # Зависимая переменная\n",
    "# Условие\n",
    "equation = sym.Eq(y(x).diff(x) - y(x), 2*x - 3)\n",
    "printmd(f'Условие: $\\quad {sym.latex(equation)}$')\n",
    "printmd('---')\n",
    "# Решение\n",
    "solution = sym.dsolve(equation)\n",
    "printmd(f'Общее решение: $\\quad {sym.latex(solution)}$')"
   ]
  },
  {
   "cell_type": "markdown",
   "id": "d59a40ee-48d0-41bf-8106-8b9788f19307",
   "metadata": {},
   "source": [
    "### Задача 2"
   ]
  },
  {
   "cell_type": "code",
   "execution_count": 11,
   "id": "c9541836-80d1-4d44-9e79-45b41b540aa4",
   "metadata": {},
   "outputs": [
    {
     "data": {
      "text/markdown": [
       "Условие: $\\quad x^{2} \\frac{d}{d x} y{\\left(x \\right)} + x y{\\left(x \\right)} + 1 = 0$"
      ],
      "text/plain": [
       "<IPython.core.display.Markdown object>"
      ]
     },
     "metadata": {},
     "output_type": "display_data"
    },
    {
     "data": {
      "text/markdown": [
       "---"
      ],
      "text/plain": [
       "<IPython.core.display.Markdown object>"
      ]
     },
     "metadata": {},
     "output_type": "display_data"
    },
    {
     "data": {
      "text/markdown": [
       "Общее решение: $\\quad y{\\left(x \\right)} = \\frac{C_{1} - \\log{\\left(x \\right)}}{x}$"
      ],
      "text/plain": [
       "<IPython.core.display.Markdown object>"
      ]
     },
     "metadata": {},
     "output_type": "display_data"
    }
   ],
   "source": [
    "# Условие\n",
    "equation = sym.Eq(x**2 * y(x).diff(x) + x*y(x) + 1, 0)\n",
    "printmd(f'Условие: $\\quad {sym.latex(equation)}$')\n",
    "printmd('---')\n",
    "# Решение\n",
    "solution = sym.dsolve(equation)\n",
    "printmd(f'Общее решение: $\\quad {sym.latex(solution)}$')"
   ]
  },
  {
   "cell_type": "markdown",
   "id": "a87a04e6-21b4-4e88-9f48-22adc98baebe",
   "metadata": {},
   "source": [
    "## Исследовать ряд на сходимость:  \n",
    "\n",
    "[Ряды для чайников. Примеры решений](http://mathprofi.ru/ryady_dlya_chajnikov.html)"
   ]
  },
  {
   "cell_type": "code",
   "execution_count": 12,
   "id": "e88948ce-3d9f-46db-b108-f698c0e59d76",
   "metadata": {},
   "outputs": [],
   "source": [
    "n = sym.symbols('n')\n",
    "\n",
    "def series_convergence(series_func, series_param=(n, 1, sym.oo)):\n",
    "    '''\n",
    "    Функция тестирует ряд на сходимость/расходимость.\n",
    "\n",
    "    :param series_func: функция ряда,\n",
    "    :param series_param: параметры ряда,\n",
    "    :return: функция ничего не возвращает, но выводит результат исследования ряда.\n",
    "    '''\n",
    "    # Ряд\n",
    "    condition = sym.Sum(series_func, series_param)\n",
    "    printmd(f'Ряд: $\\quad {sym.latex(condition)}$')\n",
    "    printmd(f'---')\n",
    "    # Вычисляем предел\n",
    "    a = sym.Limit(series_func, series_param[0], series_param[2])\n",
    "    if sym.N(a.doit(), 5) == -sym.oo or sym.N(a.doit(), 5) == sym.oo :\n",
    "        printmd(f'Предел: $\\quad {sym.latex(sym.Eq(a, a.doit()))} \\quad \\Rightarrow$  Исследуемый ряд расходитсясодится.')\n",
    "    elif sym.N(a.doit(), 5) == 0:\n",
    "        printmd(f'Предел: $\\quad {sym.latex(sym.Eq(a, a.doit()))} \\quad \\Rightarrow$  Ряд может содится, а может расходится.')\n",
    "    "
   ]
  },
  {
   "cell_type": "markdown",
   "id": "0e39f768-debe-49f3-80af-e3fcac353169",
   "metadata": {},
   "source": [
    "### Задача 1"
   ]
  },
  {
   "cell_type": "code",
   "execution_count": 13,
   "id": "a53f0d87-f01d-40f1-ab97-da7b7237c86a",
   "metadata": {},
   "outputs": [
    {
     "data": {
      "text/markdown": [
       "Ряд: $\\quad \\sum_{n=1}^{\\infty} \\frac{n + 2}{n^{2} + n + 1}$"
      ],
      "text/plain": [
       "<IPython.core.display.Markdown object>"
      ]
     },
     "metadata": {},
     "output_type": "display_data"
    },
    {
     "data": {
      "text/markdown": [
       "---"
      ],
      "text/plain": [
       "<IPython.core.display.Markdown object>"
      ]
     },
     "metadata": {},
     "output_type": "display_data"
    },
    {
     "data": {
      "text/markdown": [
       "Предел: $\\quad \\lim_{n \\to \\infty}\\left(\\frac{n + 2}{n^{2} + n + 1}\\right) = 0 \\quad \\Rightarrow$  Ряд может содится, а может расходится."
      ],
      "text/plain": [
       "<IPython.core.display.Markdown object>"
      ]
     },
     "metadata": {},
     "output_type": "display_data"
    }
   ],
   "source": [
    "# Задаём функцию\n",
    "func = (n+2)/(n**2 + n + 1)\n",
    "# Исследуем ряд\n",
    "series_convergence(func)"
   ]
  },
  {
   "cell_type": "markdown",
   "id": "5e1af4ee-93ef-45c2-821c-fc8c3bb9a095",
   "metadata": {},
   "source": [
    "### Задача 2"
   ]
  },
  {
   "cell_type": "code",
   "execution_count": 14,
   "id": "c0684975-d05f-48c0-ae51-477f1d394116",
   "metadata": {},
   "outputs": [
    {
     "data": {
      "text/markdown": [
       "Ряд: $\\quad \\sum_{n=1}^{\\infty} \\frac{n^{n}}{n!}$"
      ],
      "text/plain": [
       "<IPython.core.display.Markdown object>"
      ]
     },
     "metadata": {},
     "output_type": "display_data"
    },
    {
     "data": {
      "text/markdown": [
       "---"
      ],
      "text/plain": [
       "<IPython.core.display.Markdown object>"
      ]
     },
     "metadata": {},
     "output_type": "display_data"
    },
    {
     "data": {
      "text/markdown": [
       "Предел: $\\quad \\lim_{n \\to \\infty}\\left(\\frac{n^{n}}{n!}\\right) = \\infty \\quad \\Rightarrow$  Исследуемый ряд расходитсясодится."
      ],
      "text/plain": [
       "<IPython.core.display.Markdown object>"
      ]
     },
     "metadata": {},
     "output_type": "display_data"
    }
   ],
   "source": [
    "# Задаём функцию\n",
    "func = (n**n)/sym.factorial(n)\n",
    "# Исследуем ряд\n",
    "series_convergence(func)"
   ]
  },
  {
   "cell_type": "markdown",
   "id": "e0fb70d7-d043-460a-8ef5-95c19b920eb9",
   "metadata": {},
   "source": [
    "### Задача 3"
   ]
  },
  {
   "cell_type": "code",
   "execution_count": 15,
   "id": "1e076d1d-89eb-4ff0-bcb1-ac80a212813a",
   "metadata": {},
   "outputs": [
    {
     "data": {
      "text/markdown": [
       "Ряд: $\\quad \\sum_{n=1}^{\\infty} n \\left(1 - \\frac{1}{n}\\right)^{n^{2}}$"
      ],
      "text/plain": [
       "<IPython.core.display.Markdown object>"
      ]
     },
     "metadata": {},
     "output_type": "display_data"
    },
    {
     "data": {
      "text/markdown": [
       "---"
      ],
      "text/plain": [
       "<IPython.core.display.Markdown object>"
      ]
     },
     "metadata": {},
     "output_type": "display_data"
    },
    {
     "data": {
      "text/markdown": [
       "Предел: $\\quad \\lim_{n \\to \\infty}\\left(n \\left(1 - \\frac{1}{n}\\right)^{n^{2}}\\right) = 0 \\quad \\Rightarrow$  Ряд может содится, а может расходится."
      ],
      "text/plain": [
       "<IPython.core.display.Markdown object>"
      ]
     },
     "metadata": {},
     "output_type": "display_data"
    }
   ],
   "source": [
    "# Задаём функцию\n",
    "func = n*(1 - 1/n)**(n**2)\n",
    "# Исследуем ряд\n",
    "series_convergence(func)"
   ]
  },
  {
   "cell_type": "markdown",
   "id": "053888f8-6de2-4aa6-9058-6f875ef7e210",
   "metadata": {},
   "source": [
    "### Задача 4"
   ]
  },
  {
   "cell_type": "code",
   "execution_count": 16,
   "id": "36931ef7-225a-4d0c-b46a-56c777cd946a",
   "metadata": {},
   "outputs": [
    {
     "data": {
      "text/markdown": [
       "Ряд: $\\quad \\sum_{n=1}^{\\infty} - \\frac{2^{n + 2}}{2 n - \\log{\\left(n \\right)}}$"
      ],
      "text/plain": [
       "<IPython.core.display.Markdown object>"
      ]
     },
     "metadata": {},
     "output_type": "display_data"
    },
    {
     "data": {
      "text/markdown": [
       "---"
      ],
      "text/plain": [
       "<IPython.core.display.Markdown object>"
      ]
     },
     "metadata": {},
     "output_type": "display_data"
    },
    {
     "data": {
      "text/markdown": [
       "Предел: $\\quad \\lim_{n \\to \\infty}\\left(- \\frac{2^{n + 2}}{2 n - \\log{\\left(n \\right)}}\\right) = -\\infty \\quad \\Rightarrow$  Исследуемый ряд расходитсясодится."
      ],
      "text/plain": [
       "<IPython.core.display.Markdown object>"
      ]
     },
     "metadata": {},
     "output_type": "display_data"
    }
   ],
   "source": [
    "# Задаём функцию\n",
    "func = (-2**(n+2))/(2*n - sym.ln(n))\n",
    "# Исследуем ряд\n",
    "series_convergence(func)"
   ]
  },
  {
   "cell_type": "markdown",
   "id": "f505d1e0-e314-4c2f-879e-d64d0055f0a9",
   "metadata": {},
   "source": [
    "### Задача 5"
   ]
  },
  {
   "cell_type": "code",
   "execution_count": 17,
   "id": "522d8e98-b86e-44d9-bbf8-ca9da5197c75",
   "metadata": {},
   "outputs": [
    {
     "data": {
      "text/markdown": [
       "Ряд: $\\quad \\sum_{n=1}^{\\infty} \\frac{3^{- n} \\left(x - 2\\right)^{n + 1}}{n + 2}$"
      ],
      "text/plain": [
       "<IPython.core.display.Markdown object>"
      ]
     },
     "metadata": {},
     "output_type": "display_data"
    },
    {
     "data": {
      "text/markdown": [
       "---"
      ],
      "text/plain": [
       "<IPython.core.display.Markdown object>"
      ]
     },
     "metadata": {},
     "output_type": "display_data"
    },
    {
     "ename": "NotImplementedError",
     "evalue": "Result depends on the sign of sign(log(x - 2))",
     "output_type": "error",
     "traceback": [
      "\u001b[1;31m---------------------------------------------------------------------------\u001b[0m",
      "\u001b[1;31mNotImplementedError\u001b[0m                       Traceback (most recent call last)",
      "Cell \u001b[1;32mIn[17], line 4\u001b[0m\n\u001b[0;32m      2\u001b[0m func \u001b[38;5;241m=\u001b[39m (x\u001b[38;5;241m-\u001b[39m\u001b[38;5;241m2\u001b[39m)\u001b[38;5;241m*\u001b[39m\u001b[38;5;241m*\u001b[39m(n\u001b[38;5;241m+\u001b[39m\u001b[38;5;241m1\u001b[39m)\u001b[38;5;241m/\u001b[39m(\u001b[38;5;241m3\u001b[39m\u001b[38;5;241m*\u001b[39m\u001b[38;5;241m*\u001b[39mn \u001b[38;5;241m*\u001b[39m (n\u001b[38;5;241m+\u001b[39m\u001b[38;5;241m2\u001b[39m))\n\u001b[0;32m      3\u001b[0m \u001b[38;5;66;03m# Исследуем ряд\u001b[39;00m\n\u001b[1;32m----> 4\u001b[0m \u001b[43mseries_convergence\u001b[49m\u001b[43m(\u001b[49m\u001b[43mfunc\u001b[49m\u001b[43m)\u001b[49m\n",
      "Cell \u001b[1;32mIn[12], line 17\u001b[0m, in \u001b[0;36mseries_convergence\u001b[1;34m(series_func, series_param)\u001b[0m\n\u001b[0;32m     15\u001b[0m \u001b[38;5;66;03m# Вычисляем предел\u001b[39;00m\n\u001b[0;32m     16\u001b[0m a \u001b[38;5;241m=\u001b[39m sym\u001b[38;5;241m.\u001b[39mLimit(series_func, series_param[\u001b[38;5;241m0\u001b[39m], series_param[\u001b[38;5;241m2\u001b[39m])\n\u001b[1;32m---> 17\u001b[0m \u001b[38;5;28;01mif\u001b[39;00m sym\u001b[38;5;241m.\u001b[39mN(\u001b[43ma\u001b[49m\u001b[38;5;241;43m.\u001b[39;49m\u001b[43mdoit\u001b[49m\u001b[43m(\u001b[49m\u001b[43m)\u001b[49m, \u001b[38;5;241m5\u001b[39m) \u001b[38;5;241m==\u001b[39m \u001b[38;5;241m-\u001b[39msym\u001b[38;5;241m.\u001b[39moo \u001b[38;5;129;01mor\u001b[39;00m sym\u001b[38;5;241m.\u001b[39mN(a\u001b[38;5;241m.\u001b[39mdoit(), \u001b[38;5;241m5\u001b[39m) \u001b[38;5;241m==\u001b[39m sym\u001b[38;5;241m.\u001b[39moo :\n\u001b[0;32m     18\u001b[0m     printmd(\u001b[38;5;124mf\u001b[39m\u001b[38;5;124m'\u001b[39m\u001b[38;5;124mПредел: $\u001b[39m\u001b[38;5;124m\\\u001b[39m\u001b[38;5;124mquad \u001b[39m\u001b[38;5;132;01m{\u001b[39;00msym\u001b[38;5;241m.\u001b[39mlatex(sym\u001b[38;5;241m.\u001b[39mEq(a,\u001b[38;5;250m \u001b[39ma\u001b[38;5;241m.\u001b[39mdoit()))\u001b[38;5;132;01m}\u001b[39;00m\u001b[38;5;124m \u001b[39m\u001b[38;5;124m\\\u001b[39m\u001b[38;5;124mquad \u001b[39m\u001b[38;5;124m\\\u001b[39m\u001b[38;5;124mRightarrow$  Исследуемый ряд расходитсясодится.\u001b[39m\u001b[38;5;124m'\u001b[39m)\n\u001b[0;32m     19\u001b[0m \u001b[38;5;28;01melif\u001b[39;00m sym\u001b[38;5;241m.\u001b[39mN(a\u001b[38;5;241m.\u001b[39mdoit(), \u001b[38;5;241m5\u001b[39m) \u001b[38;5;241m==\u001b[39m \u001b[38;5;241m0\u001b[39m:\n",
      "File \u001b[1;32m~\\anaconda3\\envs\\math-analistic\\Lib\\site-packages\\sympy\\series\\limits.py:375\u001b[0m, in \u001b[0;36mLimit.doit\u001b[1;34m(self, **hints)\u001b[0m\n\u001b[0;32m    372\u001b[0m l \u001b[38;5;241m=\u001b[39m \u001b[38;5;28;01mNone\u001b[39;00m\n\u001b[0;32m    374\u001b[0m \u001b[38;5;28;01mtry\u001b[39;00m:\n\u001b[1;32m--> 375\u001b[0m     r \u001b[38;5;241m=\u001b[39m \u001b[43mgruntz\u001b[49m\u001b[43m(\u001b[49m\u001b[43me\u001b[49m\u001b[43m,\u001b[49m\u001b[43m \u001b[49m\u001b[43mz\u001b[49m\u001b[43m,\u001b[49m\u001b[43m \u001b[49m\u001b[43mz0\u001b[49m\u001b[43m,\u001b[49m\u001b[43m \u001b[49m\u001b[38;5;28;43mdir\u001b[39;49m\u001b[43m)\u001b[49m\n\u001b[0;32m    376\u001b[0m     \u001b[38;5;28;01mif\u001b[39;00m r \u001b[38;5;129;01mis\u001b[39;00m S\u001b[38;5;241m.\u001b[39mNaN \u001b[38;5;129;01mor\u001b[39;00m l \u001b[38;5;129;01mis\u001b[39;00m S\u001b[38;5;241m.\u001b[39mNaN:\n\u001b[0;32m    377\u001b[0m         \u001b[38;5;28;01mraise\u001b[39;00m PoleError()\n",
      "File \u001b[1;32m~\\anaconda3\\envs\\math-analistic\\Lib\\site-packages\\sympy\\series\\gruntz.py:733\u001b[0m, in \u001b[0;36mgruntz\u001b[1;34m(e, z, z0, dir)\u001b[0m\n\u001b[0;32m    730\u001b[0m     \u001b[38;5;28;01melse\u001b[39;00m:\n\u001b[0;32m    731\u001b[0m         \u001b[38;5;28;01mraise\u001b[39;00m \u001b[38;5;167;01mNotImplementedError\u001b[39;00m(\u001b[38;5;124m\"\u001b[39m\u001b[38;5;124mdir must be \u001b[39m\u001b[38;5;124m'\u001b[39m\u001b[38;5;124m+\u001b[39m\u001b[38;5;124m'\u001b[39m\u001b[38;5;124m or \u001b[39m\u001b[38;5;124m'\u001b[39m\u001b[38;5;124m-\u001b[39m\u001b[38;5;124m'\u001b[39m\u001b[38;5;124m\"\u001b[39m)\n\u001b[1;32m--> 733\u001b[0m r \u001b[38;5;241m=\u001b[39m \u001b[43mlimitinf\u001b[49m\u001b[43m(\u001b[49m\u001b[43me0\u001b[49m\u001b[43m,\u001b[49m\u001b[43m \u001b[49m\u001b[43mz\u001b[49m\u001b[43m)\u001b[49m\n\u001b[0;32m    735\u001b[0m \u001b[38;5;66;03m# This is a bit of a heuristic for nice results... we always rewrite\u001b[39;00m\n\u001b[0;32m    736\u001b[0m \u001b[38;5;66;03m# tractable functions in terms of familiar intractable ones.\u001b[39;00m\n\u001b[0;32m    737\u001b[0m \u001b[38;5;66;03m# It might be nicer to rewrite the exactly to what they were initially,\u001b[39;00m\n\u001b[0;32m    738\u001b[0m \u001b[38;5;66;03m# but that would take some work to implement.\u001b[39;00m\n\u001b[0;32m    739\u001b[0m \u001b[38;5;28;01mreturn\u001b[39;00m r\u001b[38;5;241m.\u001b[39mrewrite(\u001b[38;5;124m'\u001b[39m\u001b[38;5;124mintractable\u001b[39m\u001b[38;5;124m'\u001b[39m, deep\u001b[38;5;241m=\u001b[39m\u001b[38;5;28;01mTrue\u001b[39;00m)\n",
      "File \u001b[1;32m~\\anaconda3\\envs\\math-analistic\\Lib\\site-packages\\sympy\\core\\cache.py:72\u001b[0m, in \u001b[0;36m__cacheit.<locals>.func_wrapper.<locals>.wrapper\u001b[1;34m(*args, **kwargs)\u001b[0m\n\u001b[0;32m     69\u001b[0m \u001b[38;5;129m@wraps\u001b[39m(func)\n\u001b[0;32m     70\u001b[0m \u001b[38;5;28;01mdef\u001b[39;00m \u001b[38;5;21mwrapper\u001b[39m(\u001b[38;5;241m*\u001b[39margs, \u001b[38;5;241m*\u001b[39m\u001b[38;5;241m*\u001b[39mkwargs):\n\u001b[0;32m     71\u001b[0m     \u001b[38;5;28;01mtry\u001b[39;00m:\n\u001b[1;32m---> 72\u001b[0m         retval \u001b[38;5;241m=\u001b[39m \u001b[43mcfunc\u001b[49m\u001b[43m(\u001b[49m\u001b[38;5;241;43m*\u001b[39;49m\u001b[43margs\u001b[49m\u001b[43m,\u001b[49m\u001b[43m \u001b[49m\u001b[38;5;241;43m*\u001b[39;49m\u001b[38;5;241;43m*\u001b[39;49m\u001b[43mkwargs\u001b[49m\u001b[43m)\u001b[49m\n\u001b[0;32m     73\u001b[0m     \u001b[38;5;28;01mexcept\u001b[39;00m \u001b[38;5;167;01mTypeError\u001b[39;00m \u001b[38;5;28;01mas\u001b[39;00m e:\n\u001b[0;32m     74\u001b[0m         \u001b[38;5;28;01mif\u001b[39;00m \u001b[38;5;129;01mnot\u001b[39;00m e\u001b[38;5;241m.\u001b[39margs \u001b[38;5;129;01mor\u001b[39;00m \u001b[38;5;129;01mnot\u001b[39;00m e\u001b[38;5;241m.\u001b[39margs[\u001b[38;5;241m0\u001b[39m]\u001b[38;5;241m.\u001b[39mstartswith(\u001b[38;5;124m'\u001b[39m\u001b[38;5;124munhashable type:\u001b[39m\u001b[38;5;124m'\u001b[39m):\n",
      "File \u001b[1;32m~\\anaconda3\\envs\\math-analistic\\Lib\\site-packages\\sympy\\series\\gruntz.py:453\u001b[0m, in \u001b[0;36mlimitinf\u001b[1;34m(e, x)\u001b[0m\n\u001b[0;32m    451\u001b[0m     c0, e0 \u001b[38;5;241m=\u001b[39m mrv_leadterm(e\u001b[38;5;241m.\u001b[39mmin, x)\n\u001b[0;32m    452\u001b[0m \u001b[38;5;28;01melse\u001b[39;00m:\n\u001b[1;32m--> 453\u001b[0m     c0, e0 \u001b[38;5;241m=\u001b[39m \u001b[43mmrv_leadterm\u001b[49m\u001b[43m(\u001b[49m\u001b[43me\u001b[49m\u001b[43m,\u001b[49m\u001b[43m \u001b[49m\u001b[43mx\u001b[49m\u001b[43m)\u001b[49m\n\u001b[0;32m    454\u001b[0m sig \u001b[38;5;241m=\u001b[39m sign(e0, x)\n\u001b[0;32m    455\u001b[0m \u001b[38;5;28;01mif\u001b[39;00m sig \u001b[38;5;241m==\u001b[39m \u001b[38;5;241m1\u001b[39m:\n",
      "File \u001b[1;32m~\\anaconda3\\envs\\math-analistic\\Lib\\site-packages\\sympy\\core\\cache.py:72\u001b[0m, in \u001b[0;36m__cacheit.<locals>.func_wrapper.<locals>.wrapper\u001b[1;34m(*args, **kwargs)\u001b[0m\n\u001b[0;32m     69\u001b[0m \u001b[38;5;129m@wraps\u001b[39m(func)\n\u001b[0;32m     70\u001b[0m \u001b[38;5;28;01mdef\u001b[39;00m \u001b[38;5;21mwrapper\u001b[39m(\u001b[38;5;241m*\u001b[39margs, \u001b[38;5;241m*\u001b[39m\u001b[38;5;241m*\u001b[39mkwargs):\n\u001b[0;32m     71\u001b[0m     \u001b[38;5;28;01mtry\u001b[39;00m:\n\u001b[1;32m---> 72\u001b[0m         retval \u001b[38;5;241m=\u001b[39m \u001b[43mcfunc\u001b[49m\u001b[43m(\u001b[49m\u001b[38;5;241;43m*\u001b[39;49m\u001b[43margs\u001b[49m\u001b[43m,\u001b[49m\u001b[43m \u001b[49m\u001b[38;5;241;43m*\u001b[39;49m\u001b[38;5;241;43m*\u001b[39;49m\u001b[43mkwargs\u001b[49m\u001b[43m)\u001b[49m\n\u001b[0;32m     73\u001b[0m     \u001b[38;5;28;01mexcept\u001b[39;00m \u001b[38;5;167;01mTypeError\u001b[39;00m \u001b[38;5;28;01mas\u001b[39;00m e:\n\u001b[0;32m     74\u001b[0m         \u001b[38;5;28;01mif\u001b[39;00m \u001b[38;5;129;01mnot\u001b[39;00m e\u001b[38;5;241m.\u001b[39margs \u001b[38;5;129;01mor\u001b[39;00m \u001b[38;5;129;01mnot\u001b[39;00m e\u001b[38;5;241m.\u001b[39margs[\u001b[38;5;241m0\u001b[39m]\u001b[38;5;241m.\u001b[39mstartswith(\u001b[38;5;124m'\u001b[39m\u001b[38;5;124munhashable type:\u001b[39m\u001b[38;5;124m'\u001b[39m):\n",
      "File \u001b[1;32m~\\anaconda3\\envs\\math-analistic\\Lib\\site-packages\\sympy\\series\\gruntz.py:555\u001b[0m, in \u001b[0;36mmrv_leadterm\u001b[1;34m(e, x)\u001b[0m\n\u001b[0;32m    547\u001b[0m \u001b[38;5;66;03m#\u001b[39;00m\n\u001b[0;32m    548\u001b[0m \u001b[38;5;66;03m# The positive dummy, w, is used here so log(w*2) etc. will expand;\u001b[39;00m\n\u001b[0;32m    549\u001b[0m \u001b[38;5;66;03m# a unique dummy is needed in this algorithm\u001b[39;00m\n\u001b[1;32m   (...)\u001b[0m\n\u001b[0;32m    552\u001b[0m \u001b[38;5;66;03m# improved, or just find limits of Re and Im components separately.\u001b[39;00m\n\u001b[0;32m    553\u001b[0m \u001b[38;5;66;03m#\u001b[39;00m\n\u001b[0;32m    554\u001b[0m w \u001b[38;5;241m=\u001b[39m Dummy(\u001b[38;5;124m\"\u001b[39m\u001b[38;5;124mw\u001b[39m\u001b[38;5;124m\"\u001b[39m, positive\u001b[38;5;241m=\u001b[39m\u001b[38;5;28;01mTrue\u001b[39;00m)\n\u001b[1;32m--> 555\u001b[0m f, logw \u001b[38;5;241m=\u001b[39m \u001b[43mrewrite\u001b[49m\u001b[43m(\u001b[49m\u001b[43mexps\u001b[49m\u001b[43m,\u001b[49m\u001b[43m \u001b[49m\u001b[43mOmega\u001b[49m\u001b[43m,\u001b[49m\u001b[43m \u001b[49m\u001b[43mx\u001b[49m\u001b[43m,\u001b[49m\u001b[43m \u001b[49m\u001b[43mw\u001b[49m\u001b[43m)\u001b[49m\n\u001b[0;32m    556\u001b[0m \u001b[38;5;28;01mtry\u001b[39;00m:\n\u001b[0;32m    557\u001b[0m     lt \u001b[38;5;241m=\u001b[39m f\u001b[38;5;241m.\u001b[39mleadterm(w, logx\u001b[38;5;241m=\u001b[39mlogw)\n",
      "File \u001b[1;32m~\\anaconda3\\envs\\math-analistic\\Lib\\site-packages\\sympy\\series\\gruntz.py:648\u001b[0m, in \u001b[0;36mrewrite\u001b[1;34m(e, Omega, x, wsym)\u001b[0m\n\u001b[0;32m    646\u001b[0m     sig \u001b[38;5;241m=\u001b[39m sign(g\u001b[38;5;241m.\u001b[39mexp, x)\n\u001b[0;32m    647\u001b[0m     \u001b[38;5;28;01mif\u001b[39;00m sig \u001b[38;5;241m!=\u001b[39m \u001b[38;5;241m1\u001b[39m \u001b[38;5;129;01mand\u001b[39;00m sig \u001b[38;5;241m!=\u001b[39m \u001b[38;5;241m-\u001b[39m\u001b[38;5;241m1\u001b[39m \u001b[38;5;129;01mand\u001b[39;00m \u001b[38;5;129;01mnot\u001b[39;00m sig\u001b[38;5;241m.\u001b[39mhas(AccumBounds):\n\u001b[1;32m--> 648\u001b[0m         \u001b[38;5;28;01mraise\u001b[39;00m \u001b[38;5;167;01mNotImplementedError\u001b[39;00m(\u001b[38;5;124m'\u001b[39m\u001b[38;5;124mResult depends on the sign of \u001b[39m\u001b[38;5;132;01m%s\u001b[39;00m\u001b[38;5;124m'\u001b[39m \u001b[38;5;241m%\u001b[39m sig)\n\u001b[0;32m    649\u001b[0m \u001b[38;5;28;01mif\u001b[39;00m sig \u001b[38;5;241m==\u001b[39m \u001b[38;5;241m1\u001b[39m:\n\u001b[0;32m    650\u001b[0m     wsym \u001b[38;5;241m=\u001b[39m \u001b[38;5;241m1\u001b[39m\u001b[38;5;241m/\u001b[39mwsym  \u001b[38;5;66;03m# if g goes to oo, substitute 1/w\u001b[39;00m\n",
      "\u001b[1;31mNotImplementedError\u001b[0m: Result depends on the sign of sign(log(x - 2))"
     ]
    }
   ],
   "source": [
    "# Задаём функцию\n",
    "func = (x-2)**(n+1)/(3**n * (n+2))\n",
    "# Исследуем ряд\n",
    "series_convergence(func)"
   ]
  },
  {
   "cell_type": "code",
   "execution_count": null,
   "id": "939d17fc-7e0d-4781-a718-91b1c1134536",
   "metadata": {},
   "outputs": [],
   "source": []
  },
  {
   "cell_type": "code",
   "execution_count": null,
   "id": "9851259d-bb02-4c99-9fe2-1b0def0c8cf6",
   "metadata": {},
   "outputs": [],
   "source": []
  }
 ],
 "metadata": {
  "kernelspec": {
   "display_name": "Python 3 (ipykernel)",
   "language": "python",
   "name": "python3"
  },
  "language_info": {
   "codemirror_mode": {
    "name": "ipython",
    "version": 3
   },
   "file_extension": ".py",
   "mimetype": "text/x-python",
   "name": "python",
   "nbconvert_exporter": "python",
   "pygments_lexer": "ipython3",
   "version": "3.12.4"
  }
 },
 "nbformat": 4,
 "nbformat_minor": 5
}
