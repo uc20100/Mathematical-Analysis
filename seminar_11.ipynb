{
 "cells": [
  {
   "cell_type": "markdown",
   "id": "297de3fa-6c33-43ff-9254-d19eb5a5b9b1",
   "metadata": {},
   "source": [
    "# ДЗ по 'Введение в математический анализ'\n",
    "### Урок 11. Интеграл. Ряды. Часть 1\n",
    "[Ссылка на ДЗ](https://drive.google.com/file/d/185VRBkYTyRG1041vsOTQJ9RhjheZoy-G/view)"
   ]
  },
  {
   "cell_type": "code",
   "execution_count": 1,
   "id": "54edb3b5-16eb-4b07-b943-305b167e11bd",
   "metadata": {},
   "outputs": [],
   "source": [
    "# Устанавливаем библиотеки, если они не установлены\n",
    "# !pip install sympy"
   ]
  },
  {
   "cell_type": "code",
   "execution_count": 2,
   "id": "6dd30e9a-a9a9-4877-82bc-8b78fd83b826",
   "metadata": {},
   "outputs": [],
   "source": [
    "# Подключаем необходимые библиотеки\n",
    "import sympy as sym\n",
    "from IPython.display import Markdown, display\n",
    "\n",
    "# Уберем warnings\n",
    "import warnings\n",
    "warnings.filterwarnings('ignore')"
   ]
  },
  {
   "cell_type": "code",
   "execution_count": 3,
   "id": "bb19b5c1-9bea-41c3-ad72-5e214cbfbf4f",
   "metadata": {},
   "outputs": [],
   "source": [
    "def printmd(string):\n",
    "    '''\n",
    "    Функция выводит на консоль, текст в разметке Markdown.\n",
    "\n",
    "    :param string: строка которую будем переделывать в Markdown разметку,\n",
    "    :return: вывод строки в Markdown разметке.\n",
    "    '''\n",
    "    display(Markdown(string))"
   ]
  },
  {
   "cell_type": "markdown",
   "id": "92aeb57c-f2c4-4c40-ab9a-fe80e387524b",
   "metadata": {},
   "source": [
    "[Библиотека Sympy: символьные вычисления в Python](https://pythonist.ru/biblioteka-sympy-simvolnye-vychisleniya-v-python/)  \n",
    "[Википедия:Примеры оформления формул](https://ru.wikipedia.org/wiki/%D0%92%D0%B8%D0%BA%D0%B8%D0%BF%D0%B5%D0%B4%D0%B8%D1%8F:%D0%9F%D1%80%D0%B8%D0%BC%D0%B5%D1%80%D1%8B_%D0%BE%D1%84%D0%BE%D1%80%D0%BC%D0%BB%D0%B5%D0%BD%D0%B8%D1%8F_%D1%84%D0%BE%D1%80%D0%BC%D1%83%D0%BB)  \n",
    "[Специальные символы LaTeX](https://devhops.ru/latex/symbols/)  \n",
    "[latex Пробел (список команд) отступ в формуле - математический режим, пример, уменьшение пробела отступа](https://fkn.ktu10.com/?q=node/6813)  \n",
    "[Как красиво писать формулы c LaTeX?](https://habr.com/ru/articles/723564/)  \n",
    "[Питон в научных вычислениях](https://www.inp.nsk.su/~grozin/python/python7.html)  \n",
    "[Математические формулы в LaTeX](https://ru.wikibooks.org/wiki/%D0%9C%D0%B0%D1%82%D0%B5%D0%BC%D0%B0%D1%82%D0%B8%D1%87%D0%B5%D1%81%D0%BA%D0%B8%D0%B5_%D1%84%D0%BE%D1%80%D0%BC%D1%83%D0%BB%D1%8B_%D0%B2_LaTeX)  \n",
    "[Вычисление интегралов онлайн](https://www.integral-calculator.ru/)"
   ]
  },
  {
   "cell_type": "markdown",
   "id": "b34e91d5-3445-471c-9df9-d56cd94d8257",
   "metadata": {},
   "source": [
    "## Решить уравнения:  \n",
    "\n",
    "Примечание:  \n",
    "ln(x) = log(x) "
   ]
  },
  {
   "cell_type": "markdown",
   "id": "37064f9d-0075-4b56-a9fe-fded75d4b198",
   "metadata": {},
   "source": [
    "### Задача 1"
   ]
  },
  {
   "cell_type": "code",
   "execution_count": 4,
   "id": "cdf4acb1-fc2f-4823-9da8-e8c29687d97b",
   "metadata": {},
   "outputs": [
    {
     "data": {
      "text/markdown": [
       "Условие: $\\quad - y{\\left(x \\right)} + \\frac{d}{d x} y{\\left(x \\right)} = 2 x - 3$"
      ],
      "text/plain": [
       "<IPython.core.display.Markdown object>"
      ]
     },
     "metadata": {},
     "output_type": "display_data"
    },
    {
     "data": {
      "text/markdown": [
       "---"
      ],
      "text/plain": [
       "<IPython.core.display.Markdown object>"
      ]
     },
     "metadata": {},
     "output_type": "display_data"
    },
    {
     "data": {
      "text/markdown": [
       "Общее решение: $\\quad y{\\left(x \\right)} = C_{1} e^{x} - 2 x + 1$"
      ],
      "text/plain": [
       "<IPython.core.display.Markdown object>"
      ]
     },
     "metadata": {},
     "output_type": "display_data"
    }
   ],
   "source": [
    "x = sym.symbols('x')  # Независимая переменная\n",
    "y = sym.Function('y') # Зависимая переменная\n",
    "# Условие\n",
    "equation = sym.Eq(y(x).diff(x) - y(x), 2*x - 3)\n",
    "printmd(f'Условие: $\\quad {sym.latex(equation)}$')\n",
    "printmd('---')\n",
    "# Решение\n",
    "solution = sym.dsolve(equation)\n",
    "printmd(f'Общее решение: $\\quad {sym.latex(solution)}$')"
   ]
  },
  {
   "cell_type": "markdown",
   "id": "d59a40ee-48d0-41bf-8106-8b9788f19307",
   "metadata": {},
   "source": [
    "### Задача 2"
   ]
  },
  {
   "cell_type": "code",
   "execution_count": 5,
   "id": "c9541836-80d1-4d44-9e79-45b41b540aa4",
   "metadata": {},
   "outputs": [
    {
     "data": {
      "text/markdown": [
       "Условие: $\\quad x^{2} \\frac{d}{d x} y{\\left(x \\right)} + x y{\\left(x \\right)} + 1 = 0$"
      ],
      "text/plain": [
       "<IPython.core.display.Markdown object>"
      ]
     },
     "metadata": {},
     "output_type": "display_data"
    },
    {
     "data": {
      "text/markdown": [
       "---"
      ],
      "text/plain": [
       "<IPython.core.display.Markdown object>"
      ]
     },
     "metadata": {},
     "output_type": "display_data"
    },
    {
     "data": {
      "text/markdown": [
       "Общее решение: $\\quad y{\\left(x \\right)} = \\frac{C_{1} - \\log{\\left(x \\right)}}{x}$"
      ],
      "text/plain": [
       "<IPython.core.display.Markdown object>"
      ]
     },
     "metadata": {},
     "output_type": "display_data"
    }
   ],
   "source": [
    "# Условие\n",
    "equation = sym.Eq(x**2 * y(x).diff(x) + x*y(x) + 1, 0)\n",
    "printmd(f'Условие: $\\quad {sym.latex(equation)}$')\n",
    "printmd('---')\n",
    "# Решение\n",
    "solution = sym.dsolve(equation)\n",
    "printmd(f'Общее решение: $\\quad {sym.latex(solution)}$')"
   ]
  },
  {
   "cell_type": "code",
   "execution_count": null,
   "id": "52c195f3-d86a-4fbd-a07d-e2338f16e72d",
   "metadata": {},
   "outputs": [],
   "source": []
  }
 ],
 "metadata": {
  "kernelspec": {
   "display_name": "Python 3 (ipykernel)",
   "language": "python",
   "name": "python3"
  },
  "language_info": {
   "codemirror_mode": {
    "name": "ipython",
    "version": 3
   },
   "file_extension": ".py",
   "mimetype": "text/x-python",
   "name": "python",
   "nbconvert_exporter": "python",
   "pygments_lexer": "ipython3",
   "version": "3.12.4"
  }
 },
 "nbformat": 4,
 "nbformat_minor": 5
}
