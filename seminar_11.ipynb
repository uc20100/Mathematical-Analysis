{
 "cells": [
  {
   "cell_type": "markdown",
   "id": "297de3fa-6c33-43ff-9254-d19eb5a5b9b1",
   "metadata": {},
   "source": [
    "# ДЗ по 'Введение в математический анализ'\n",
    "### Урок 11. Интеграл. Ряды. Часть 2\n",
    "[Ссылка на ДЗ](https://drive.google.com/file/d/185VRBkYTyRG1041vsOTQJ9RhjheZoy-G/view)"
   ]
  },
  {
   "cell_type": "code",
   "execution_count": 13,
   "id": "54edb3b5-16eb-4b07-b943-305b167e11bd",
   "metadata": {},
   "outputs": [],
   "source": [
    "# Устанавливаем библиотеки, если они не установлены\n",
    "# !pip install sympy"
   ]
  },
  {
   "cell_type": "code",
   "execution_count": 14,
   "id": "6dd30e9a-a9a9-4877-82bc-8b78fd83b826",
   "metadata": {},
   "outputs": [],
   "source": [
    "# Подключаем необходимые библиотеки\n",
    "import sympy as sym\n",
    "from IPython.display import Markdown, display\n",
    "\n",
    "# Уберем warnings\n",
    "import warnings\n",
    "warnings.filterwarnings('ignore')"
   ]
  },
  {
   "cell_type": "code",
   "execution_count": 15,
   "id": "bb19b5c1-9bea-41c3-ad72-5e214cbfbf4f",
   "metadata": {},
   "outputs": [],
   "source": [
    "def printmd(string):\n",
    "    '''\n",
    "    Функция выводит на консоль, текст в разметке Markdown.\n",
    "\n",
    "    :param string: строка которую будем переделывать в Markdown разметку,\n",
    "    :return: вывод строки в Markdown разметке.\n",
    "    '''\n",
    "    display(Markdown(string))"
   ]
  },
  {
   "cell_type": "markdown",
   "id": "92aeb57c-f2c4-4c40-ab9a-fe80e387524b",
   "metadata": {},
   "source": [
    "[Библиотека Sympy: символьные вычисления в Python](https://pythonist.ru/biblioteka-sympy-simvolnye-vychisleniya-v-python/)  \n",
    "[Википедия:Примеры оформления формул](https://ru.wikipedia.org/wiki/%D0%92%D0%B8%D0%BA%D0%B8%D0%BF%D0%B5%D0%B4%D0%B8%D1%8F:%D0%9F%D1%80%D0%B8%D0%BC%D0%B5%D1%80%D1%8B_%D0%BE%D1%84%D0%BE%D1%80%D0%BC%D0%BB%D0%B5%D0%BD%D0%B8%D1%8F_%D1%84%D0%BE%D1%80%D0%BC%D1%83%D0%BB)  \n",
    "[Специальные символы LaTeX](https://devhops.ru/latex/symbols/)  \n",
    "[latex Пробел (список команд) отступ в формуле - математический режим, пример, уменьшение пробела отступа](https://fkn.ktu10.com/?q=node/6813)  \n",
    "[Как красиво писать формулы c LaTeX?](https://habr.com/ru/articles/723564/)  \n",
    "[Питон в научных вычислениях](https://www.inp.nsk.su/~grozin/python/python7.html)  \n",
    "[Математические формулы в LaTeX](https://ru.wikibooks.org/wiki/%D0%9C%D0%B0%D1%82%D0%B5%D0%BC%D0%B0%D1%82%D0%B8%D1%87%D0%B5%D1%81%D0%BA%D0%B8%D0%B5_%D1%84%D0%BE%D1%80%D0%BC%D1%83%D0%BB%D1%8B_%D0%B2_LaTeX)  \n",
    "[Вычисление интегралов онлайн](https://www.integral-calculator.ru/)"
   ]
  },
  {
   "cell_type": "markdown",
   "id": "b34e91d5-3445-471c-9df9-d56cd94d8257",
   "metadata": {},
   "source": [
    "## Решить уравнения:  \n",
    "\n",
    "[Калькулятор Обыкновенных Дифференциальных Уравнений (ОДУ) и Систем (СОДУ)](https://mathdf.com/dif/ru/)\n",
    "\n",
    "Примечание:  \n",
    "ln(x) = log(x) "
   ]
  },
  {
   "cell_type": "markdown",
   "id": "37064f9d-0075-4b56-a9fe-fded75d4b198",
   "metadata": {},
   "source": [
    "### Задача 1"
   ]
  },
  {
   "cell_type": "code",
   "execution_count": 16,
   "id": "cdf4acb1-fc2f-4823-9da8-e8c29687d97b",
   "metadata": {},
   "outputs": [
    {
     "data": {
      "text/markdown": [
       "Условие: $\\quad - y{\\left(x \\right)} + \\frac{d}{d x} y{\\left(x \\right)} = 2 x - 3$"
      ],
      "text/plain": [
       "<IPython.core.display.Markdown object>"
      ]
     },
     "metadata": {},
     "output_type": "display_data"
    },
    {
     "data": {
      "text/markdown": [
       "---"
      ],
      "text/plain": [
       "<IPython.core.display.Markdown object>"
      ]
     },
     "metadata": {},
     "output_type": "display_data"
    },
    {
     "data": {
      "text/markdown": [
       "Общее решение: $\\quad y{\\left(x \\right)} = C_{1} e^{x} - 2 x + 1$"
      ],
      "text/plain": [
       "<IPython.core.display.Markdown object>"
      ]
     },
     "metadata": {},
     "output_type": "display_data"
    }
   ],
   "source": [
    "x = sym.symbols('x')  # Независимая переменная\n",
    "y = sym.Function('y') # Зависимая переменная\n",
    "# Условие\n",
    "equation = sym.Eq(y(x).diff(x) - y(x), 2*x - 3)\n",
    "printmd(f'Условие: $\\quad {sym.latex(equation)}$')\n",
    "printmd('---')\n",
    "# Решение\n",
    "solution = sym.dsolve(equation)\n",
    "printmd(f'Общее решение: $\\quad {sym.latex(solution)}$')"
   ]
  },
  {
   "cell_type": "markdown",
   "id": "d59a40ee-48d0-41bf-8106-8b9788f19307",
   "metadata": {},
   "source": [
    "### Задача 2"
   ]
  },
  {
   "cell_type": "code",
   "execution_count": 17,
   "id": "c9541836-80d1-4d44-9e79-45b41b540aa4",
   "metadata": {},
   "outputs": [
    {
     "data": {
      "text/markdown": [
       "Условие: $\\quad x^{2} \\frac{d}{d x} y{\\left(x \\right)} + x y{\\left(x \\right)} + 1 = 0$"
      ],
      "text/plain": [
       "<IPython.core.display.Markdown object>"
      ]
     },
     "metadata": {},
     "output_type": "display_data"
    },
    {
     "data": {
      "text/markdown": [
       "---"
      ],
      "text/plain": [
       "<IPython.core.display.Markdown object>"
      ]
     },
     "metadata": {},
     "output_type": "display_data"
    },
    {
     "data": {
      "text/markdown": [
       "Общее решение: $\\quad y{\\left(x \\right)} = \\frac{C_{1} - \\log{\\left(x \\right)}}{x}$"
      ],
      "text/plain": [
       "<IPython.core.display.Markdown object>"
      ]
     },
     "metadata": {},
     "output_type": "display_data"
    }
   ],
   "source": [
    "# Условие\n",
    "equation = sym.Eq(x**2 * y(x).diff(x) + x*y(x) + 1, 0)\n",
    "printmd(f'Условие: $\\quad {sym.latex(equation)}$')\n",
    "printmd('---')\n",
    "# Решение\n",
    "solution = sym.dsolve(equation)\n",
    "printmd(f'Общее решение: $\\quad {sym.latex(solution)}$')"
   ]
  },
  {
   "cell_type": "markdown",
   "id": "6cd3707d-b0bf-44ae-958c-f6277a9bfbd7",
   "metadata": {},
   "source": [
    "## Исследовать ряд на сходимость:  \n",
    "\n",
    "[Ряды для чайников. Примеры решений](http://mathprofi.ru/ryady_dlya_chajnikov.html)  \n",
    "[Калькулятор Пределов. Вычисление Пределов Функций](https://mathdf.com/lim/ru/)  \n",
    "[Калькулятор Рядов](https://ru.symbolab.com/solver/series-calculator)  \n",
    "[Числовая оценка](https://docs.sympy.org/latest/modules/evalf.html)"
   ]
  },
  {
   "cell_type": "code",
   "execution_count": 18,
   "id": "e88948ce-3d9f-46db-b108-f698c0e59d76",
   "metadata": {},
   "outputs": [],
   "source": [
    "n = sym.symbols('n')\n",
    "\n",
    "def series_convergence(series_func, series_param=(n, 1, sym.oo)):\n",
    "    '''\n",
    "    Функция тестирует ряд на сходимость/расходимость.\n",
    "\n",
    "    :param series_func: функция ряда,\n",
    "    :param series_param: параметры ряда,\n",
    "    :return: функция ничего не возвращает, но выводит результат исследования ряда.\n",
    "    '''\n",
    "    # Ряд\n",
    "    condition = sym.Sum(series_func, series_param)\n",
    "    printmd(f'Ряд: $\\quad {sym.latex(condition)}$')\n",
    "    printmd(f'---')\n",
    "    try:\n",
    "        # Вычисляем предел\n",
    "        a = sym.Limit(series_func, series_param[0], series_param[2])\n",
    "        limit_calc = a.doit()\n",
    "    except NotImplementedError:\n",
    "        printmd(f'Предел: $\\quad {sym.latex(a)}$ не существует. $\\quad \\Rightarrow$  Исследуемый ряд расходится.')\n",
    "        return\n",
    "    \n",
    "    if limit_calc == -sym.oo or limit_calc == sym.oo :\n",
    "        printmd(f'Предел: $\\quad {sym.latex(sym.Eq(a, a.doit()))} \\quad \\Rightarrow$  Исследуемый ряд расходится.')\n",
    "    elif limit_calc == 0:\n",
    "        printmd(f'Предел: $\\quad {sym.latex(sym.Eq(a, a.doit()))} \\quad \\Rightarrow$  Ряд может содится, а может расходится.')\n",
    "        try:\n",
    "            # Вычислим численные значения ряда\n",
    "            a = sym.Sum(series_func, series_param)\n",
    "            sum_series = sym.N(a.evalf().doit(), 5)\n",
    "            printmd(f'Сумма ряда: $\\quad {sym.latex(a)} = {sum_series} \\quad \\Rightarrow$  Исследуемый ряд сходится.')\n",
    "        except ValueError:\n",
    "            printmd(f'Сумма ряда: $\\quad {sym.latex(a)}$ не вычисляется $\\quad \\Rightarrow$  Исследуемый ряд расходится.')\n",
    "        except TypeError:\n",
    "            printmd(f'Сумма ряда: $\\quad {sym.latex(a)}$ не вычисляется $\\quad \\Rightarrow$  Исследуемый ряд расходится.')\n",
    "    elif limit_calc != 0:\n",
    "        printmd(f'Предел: $\\quad {sym.latex(sym.Eq(a, a.doit()))}$ ≠ 0  $\\quad \\Rightarrow$  Исследуемый ряд расходится.')\n",
    "    else:\n",
    "        printmd('Отработало условие, если все другие не подошли.')"
   ]
  },
  {
   "cell_type": "markdown",
   "id": "0e39f768-debe-49f3-80af-e3fcac353169",
   "metadata": {},
   "source": [
    "### Задача 1"
   ]
  },
  {
   "cell_type": "code",
   "execution_count": 19,
   "id": "a53f0d87-f01d-40f1-ab97-da7b7237c86a",
   "metadata": {},
   "outputs": [
    {
     "data": {
      "text/markdown": [
       "Ряд: $\\quad \\sum_{n=1}^{\\infty} \\frac{n + 2}{n^{2} + n + 1}$"
      ],
      "text/plain": [
       "<IPython.core.display.Markdown object>"
      ]
     },
     "metadata": {},
     "output_type": "display_data"
    },
    {
     "data": {
      "text/markdown": [
       "---"
      ],
      "text/plain": [
       "<IPython.core.display.Markdown object>"
      ]
     },
     "metadata": {},
     "output_type": "display_data"
    },
    {
     "data": {
      "text/markdown": [
       "Предел: $\\quad \\lim_{n \\to \\infty}\\left(\\frac{n + 2}{n^{2} + n + 1}\\right) = 0 \\quad \\Rightarrow$  Ряд может содится, а может расходится."
      ],
      "text/plain": [
       "<IPython.core.display.Markdown object>"
      ]
     },
     "metadata": {},
     "output_type": "display_data"
    },
    {
     "data": {
      "text/markdown": [
       "Сумма ряда: $\\quad \\sum_{n=1}^{\\infty} \\frac{n + 2}{n^{2} + n + 1}$ не вычисляется $\\quad \\Rightarrow$  Исследуемый ряд расходится."
      ],
      "text/plain": [
       "<IPython.core.display.Markdown object>"
      ]
     },
     "metadata": {},
     "output_type": "display_data"
    }
   ],
   "source": [
    "# Задаём функцию\n",
    "func = (n+2)/(n**2 + n + 1)\n",
    "# Исследуем ряд\n",
    "series_convergence(func)"
   ]
  },
  {
   "cell_type": "markdown",
   "id": "5e1af4ee-93ef-45c2-821c-fc8c3bb9a095",
   "metadata": {},
   "source": [
    "### Задача 2"
   ]
  },
  {
   "cell_type": "code",
   "execution_count": 20,
   "id": "c0684975-d05f-48c0-ae51-477f1d394116",
   "metadata": {},
   "outputs": [
    {
     "data": {
      "text/markdown": [
       "Ряд: $\\quad \\sum_{n=1}^{\\infty} \\frac{n^{n}}{n!}$"
      ],
      "text/plain": [
       "<IPython.core.display.Markdown object>"
      ]
     },
     "metadata": {},
     "output_type": "display_data"
    },
    {
     "data": {
      "text/markdown": [
       "---"
      ],
      "text/plain": [
       "<IPython.core.display.Markdown object>"
      ]
     },
     "metadata": {},
     "output_type": "display_data"
    },
    {
     "data": {
      "text/markdown": [
       "Предел: $\\quad \\lim_{n \\to \\infty}\\left(\\frac{n^{n}}{n!}\\right) = \\infty \\quad \\Rightarrow$  Исследуемый ряд расходится."
      ],
      "text/plain": [
       "<IPython.core.display.Markdown object>"
      ]
     },
     "metadata": {},
     "output_type": "display_data"
    }
   ],
   "source": [
    "# Задаём функцию\n",
    "func = (n**n)/sym.factorial(n)\n",
    "# Исследуем ряд\n",
    "series_convergence(func)"
   ]
  },
  {
   "cell_type": "markdown",
   "id": "e0fb70d7-d043-460a-8ef5-95c19b920eb9",
   "metadata": {},
   "source": [
    "### Задача 3"
   ]
  },
  {
   "cell_type": "code",
   "execution_count": 21,
   "id": "1e076d1d-89eb-4ff0-bcb1-ac80a212813a",
   "metadata": {},
   "outputs": [
    {
     "data": {
      "text/markdown": [
       "Ряд: $\\quad \\sum_{n=1}^{\\infty} n \\left(1 - \\frac{1}{n}\\right)^{n^{2}}$"
      ],
      "text/plain": [
       "<IPython.core.display.Markdown object>"
      ]
     },
     "metadata": {},
     "output_type": "display_data"
    },
    {
     "data": {
      "text/markdown": [
       "---"
      ],
      "text/plain": [
       "<IPython.core.display.Markdown object>"
      ]
     },
     "metadata": {},
     "output_type": "display_data"
    },
    {
     "data": {
      "text/markdown": [
       "Предел: $\\quad \\lim_{n \\to \\infty}\\left(n \\left(1 - \\frac{1}{n}\\right)^{n^{2}}\\right) = 0 \\quad \\Rightarrow$  Ряд может содится, а может расходится."
      ],
      "text/plain": [
       "<IPython.core.display.Markdown object>"
      ]
     },
     "metadata": {},
     "output_type": "display_data"
    },
    {
     "data": {
      "text/markdown": [
       "Сумма ряда: $\\quad \\sum_{n=1}^{\\infty} n \\left(1 - \\frac{1}{n}\\right)^{n^{2}} = 0.27680 \\quad \\Rightarrow$  Исследуемый ряд сходится."
      ],
      "text/plain": [
       "<IPython.core.display.Markdown object>"
      ]
     },
     "metadata": {},
     "output_type": "display_data"
    }
   ],
   "source": [
    "# Задаём функцию\n",
    "func = n*(1 - 1/n)**(n**2)\n",
    "# Исследуем ряд\n",
    "series_convergence(func)"
   ]
  },
  {
   "cell_type": "markdown",
   "id": "456af4e8-50d2-4fee-aece-6c6e88e27cd1",
   "metadata": {},
   "source": [
    "### Задача 4\n",
    "\n",
    "[Знакочередующиеся ряды](http://mathprofi.ru/priznak_leibnica_primery_reshenii.html)  \n",
    "[Сходимость знакопеременных рядов](https://portal.tpu.ru/SHARED/y/YANUSCHIK/Leaningw/Math3/ranks/%D0%9B%D0%B5%D0%BA%D1%86%D0%B8%D1%8F%203.%20%20%D0%97%D0%BD%D0%B0%D0%BA%D0%BE%D0%BF%D0%B5%D1%80%D0%B5%D0%BC%D0%B5%D0%BD%D0%BD%D1%8B%D0%B5%20%D1%80%D1%8F%D0%B4%D1%8B)"
   ]
  },
  {
   "cell_type": "code",
   "execution_count": 22,
   "id": "36931ef7-225a-4d0c-b46a-56c777cd946a",
   "metadata": {},
   "outputs": [
    {
     "data": {
      "text/markdown": [
       "Ряд: $\\quad \\sum_{n=1}^{\\infty} \\frac{\\left(-1\\right)^{n + 1}}{2 n - \\log{\\left(n \\right)}}$"
      ],
      "text/plain": [
       "<IPython.core.display.Markdown object>"
      ]
     },
     "metadata": {},
     "output_type": "display_data"
    },
    {
     "data": {
      "text/markdown": [
       "---"
      ],
      "text/plain": [
       "<IPython.core.display.Markdown object>"
      ]
     },
     "metadata": {},
     "output_type": "display_data"
    },
    {
     "data": {
      "text/markdown": [
       "Предел: $\\quad \\lim_{n \\to \\infty} \\frac{1}{2 n - \\log{\\left(n \\right)}} = 0 \\quad \\Rightarrow$  Ряд монотонно убывает."
      ],
      "text/plain": [
       "<IPython.core.display.Markdown object>"
      ]
     },
     "metadata": {},
     "output_type": "display_data"
    },
    {
     "data": {
      "text/markdown": [
       "Сумма ряда: $\\quad \\sum_{n=1}^{\\infty} \\frac{1}{2 n - \\log{\\left(n \\right)}} = 160.00 \\quad \\Rightarrow$  Исследуемый ряд $\\sum_{n=1}^{\\infty} \\frac{\\left(-1\\right)^{n + 1}}{2 n - \\log{\\left(n \\right)}}$ абсолютно сходящийся."
      ],
      "text/plain": [
       "<IPython.core.display.Markdown object>"
      ]
     },
     "metadata": {},
     "output_type": "display_data"
    }
   ],
   "source": [
    "# Задаём функции (исследуемую и по модулю)\n",
    "func = (-1)**(n+1)/(2*n - sym.ln(n))\n",
    "func_mod = (1)**(n+1)/(2*n - sym.ln(n))\n",
    "# Исследуем ряд\n",
    "condition = sym.Sum(func, (n, 1, sym.oo))\n",
    "printmd(f'Ряд: $\\quad {sym.latex(condition)}$')\n",
    "printmd(f'---')\n",
    "try:\n",
    "    # Вычисляем предел\n",
    "    a = sym.Limit(func_mod, n, sym.oo)\n",
    "    limit_calc = a.doit()\n",
    "except NotImplementedError:\n",
    "    printmd(f'Предел: $\\quad {sym.latex(a)}$ не существует. $\\quad \\Rightarrow$  Исследуемый ряд расходится.')  \n",
    "\n",
    "if limit_calc == 0:\n",
    "    printmd(f'Предел: $\\quad {sym.latex(sym.Eq(a, a.doit()))} \\quad \\Rightarrow$  Ряд монотонно убывает.')\n",
    "    try:\n",
    "        # Вычислим численные значения ряда\n",
    "        a = sym.Sum(func_mod, (n, 1, sym.oo))\n",
    "        sum_series = sym.N(a.evalf().doit(), 5)\n",
    "        printmd(f'Сумма ряда: $\\quad {sym.latex(a)} = {sum_series} \\quad \\Rightarrow$  Исследуемый ряд ${sym.latex(condition)}$ абсолютно сходящийся.')\n",
    "    except ValueError:\n",
    "        printmd(f'Сумма ряда: $\\quad {sym.latex(a)}$ не вычисляется $\\quad \\Rightarrow$  Исследуемый ряд ${sym.latex(condition)}$ условно сходящийся.')\n",
    "    except TypeError:\n",
    "            printmd(f'Сумма ряда: $\\quad {sym.latex(a)}$ не вычисляется $\\quad \\Rightarrow$  Исследуемый ряд ${sym.latex(condition)}$ условно сходящийся.')\n",
    "elif limit_calc != 0:\n",
    "    printmd(f'Предел: $\\quad {sym.latex(sym.Eq(a, a.doit()))}$ ≠ 0  $\\quad \\Rightarrow$  Исследуемый ряд расходится.')\n",
    "else:\n",
    "    printmd('Отработало условие, если все другие не подошли.')\n"
   ]
  },
  {
   "cell_type": "markdown",
   "id": "f505d1e0-e314-4c2f-879e-d64d0055f0a9",
   "metadata": {},
   "source": [
    "### Задача 5\n",
    "\n",
    "[Калькулятор Степенных Рядов](https://ru.symbolab.com/solver/power-series-calculator)"
   ]
  },
  {
   "cell_type": "code",
   "execution_count": 23,
   "id": "a0385db1-05a9-4710-89d1-5b092ccc600a",
   "metadata": {},
   "outputs": [
    {
     "data": {
      "text/markdown": [
       "Ряд: $\\quad \\sum_{n=1}^{\\infty} \\frac{3^{- n} \\left(x - 2\\right)^{n + 1}}{n + 2}$"
      ],
      "text/plain": [
       "<IPython.core.display.Markdown object>"
      ]
     },
     "metadata": {},
     "output_type": "display_data"
    },
    {
     "data": {
      "text/markdown": [
       "---"
      ],
      "text/plain": [
       "<IPython.core.display.Markdown object>"
      ]
     },
     "metadata": {},
     "output_type": "display_data"
    },
    {
     "data": {
      "text/markdown": [
       "По признаку Даламбера: $\\quad \\dfrac{\\frac{3^{- n - 1} \\left(x - 2\\right)^{n + 2}}{n + 3}}{\\frac{3^{- n} \\left(x - 2\\right)^{n + 1}}{n + 2}} = \\frac{\\left(n + 2\\right) \\left(x - 2\\right)}{3 \\left(n + 3\\right)}$"
      ],
      "text/plain": [
       "<IPython.core.display.Markdown object>"
      ]
     },
     "metadata": {},
     "output_type": "display_data"
    },
    {
     "data": {
      "text/markdown": [
       "Предел: $\\quad \\lim_{n \\to \\infty}\\left(\\frac{\\left(n + 2\\right) \\left(x - 2\\right)}{3 \\left(n + 3\\right)}\\right) = \\frac{x - 2}{3}$"
      ],
      "text/plain": [
       "<IPython.core.display.Markdown object>"
      ]
     },
     "metadata": {},
     "output_type": "display_data"
    },
    {
     "data": {
      "text/markdown": [
       "Точка слева: $ \\frac{x - 2}{3}>-1\\quad \\left(-1, \\infty\\right)$"
      ],
      "text/plain": [
       "<IPython.core.display.Markdown object>"
      ]
     },
     "metadata": {},
     "output_type": "display_data"
    },
    {
     "data": {
      "text/markdown": [
       "Точка справа: $\\frac{x - 2}{3}<1\\quad \\left(-\\infty, 5\\right)$"
      ],
      "text/plain": [
       "<IPython.core.display.Markdown object>"
      ]
     },
     "metadata": {},
     "output_type": "display_data"
    },
    {
     "data": {
      "text/markdown": [
       "---"
      ],
      "text/plain": [
       "<IPython.core.display.Markdown object>"
      ]
     },
     "metadata": {},
     "output_type": "display_data"
    },
    {
     "data": {
      "text/markdown": [
       "Ряд $\\sum_{n=1}^{\\infty} \\frac{3^{- n} \\left(x - 2\\right)^{n + 1}}{n + 2}$ сходится если `x` принадлежит интервалу (-1, 5)"
      ],
      "text/plain": [
       "<IPython.core.display.Markdown object>"
      ]
     },
     "metadata": {},
     "output_type": "display_data"
    }
   ],
   "source": [
    "# Задаём функцию\n",
    "func = (x-2)**(n+1)/(3**n*(n+2))\n",
    "printmd(f'Ряд: $\\quad {sym.latex(sym.Sum(func, (n, 1, sym.oo)))}$')\n",
    "printmd(f'---')\n",
    "# Заменяем n на n+1\n",
    "func_str = str(func).replace('n','(n+1)')\n",
    "# Парсим изиенённую строку в формулу\n",
    "func_edit = sym.parse_expr(func_str)\n",
    "# По признаку Даламбера\n",
    "temp_func = sym.simplify(func_edit/func)\n",
    "# temp_func = sym.Abs(temp_func)\n",
    "printmd(f'По признаку Даламбера: $\\quad \\dfrac{{{sym.latex(func_edit)}}}{{{sym.latex(func)}}} = {sym.latex(temp_func)}$')\n",
    "# Вычисляем предел\n",
    "a = sym.Limit(temp_func, n, sym.oo)\n",
    "a_doit = sym.factor(a.doit())\n",
    "printmd(f'Предел: $\\quad {sym.latex(sym.Eq(a, a_doit))}$')\n",
    "# Вычислим интервалы где ряд сходится\n",
    "min = sym.solve_univariate_inequality(a_doit>-1,x,relational=False)\n",
    "printmd(f'Точка слева: $ {sym.latex(a_doit)}>-1\\quad {sym.latex(min)}$')\n",
    "max = sym.solve_univariate_inequality(a_doit<1,x,relational=False)\n",
    "printmd(f'Точка справа: ${sym.latex(a_doit)}<1\\quad {sym.latex(max)}$')\n",
    "# Вывод\n",
    "printmd('---')\n",
    "printmd(f'Ряд ${sym.latex(sym.Sum(func, (n, 1, sym.oo)))}$ сходится если `x` принадлежит интервалу (-1, 5)')"
   ]
  },
  {
   "cell_type": "code",
   "execution_count": null,
   "id": "d24b9c41-bd85-4cd8-8c06-c2b75b138830",
   "metadata": {},
   "outputs": [],
   "source": []
  }
 ],
 "metadata": {
  "kernelspec": {
   "display_name": "Python 3 (ipykernel)",
   "language": "python",
   "name": "python3"
  },
  "language_info": {
   "codemirror_mode": {
    "name": "ipython",
    "version": 3
   },
   "file_extension": ".py",
   "mimetype": "text/x-python",
   "name": "python",
   "nbconvert_exporter": "python",
   "pygments_lexer": "ipython3",
   "version": "3.12.4"
  }
 },
 "nbformat": 4,
 "nbformat_minor": 5
}
